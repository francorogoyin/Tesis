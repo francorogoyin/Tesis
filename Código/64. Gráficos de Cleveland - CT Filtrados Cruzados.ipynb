{
 "cells": [
  {
   "cell_type": "markdown",
   "metadata": {},
   "source": [
    "# Gráficos de Cleveland: CT Filtrados Cruzados por Categoría Ideológica\n",
    "\n",
    "Este notebook genera **gráficos de Cleveland** para visualizar el Cambio de Tiempo Filtrado (CT_Filtrado) comparando candidatos de **Izquierda** vs **Derecha**, cruzado con tipo de ítem (Progresista/Conservador), agrupado por **categoría ideológica**.\n",
    "\n",
    "## Concepto:\n",
    "\n",
    "### CT Filtrado Cruzado:\n",
    "- **Pro_Izq**: Ítems Progresistas × Candidatos de Izquierda (suma de ítems significativos)\n",
    "- **Pro_Der**: Ítems Progresistas × Candidatos de Derecha\n",
    "- **Con_Izq**: Ítems Conservadores × Candidatos de Izquierda\n",
    "- **Con_Der**: Ítems Conservadores × Candidatos de Derecha\n",
    "\n",
    "### Visualización:\n",
    "- **Panel A**: Ítems Progresistas (Pro_Izq vs Pro_Der)\n",
    "- **Panel B**: Ítems Conservadores (Con_Izq vs Con_Der)\n",
    "- **Eje Y**: 6 categorías ideológicas\n",
    "- **Punto azul (●)**: Candidatos de Izquierda\n",
    "- **Punto rojo (●)**: Candidatos de Derecha\n",
    "\n",
    "## Interpretación:\n",
    "\n",
    "- **Valores más negativos**: Mayor cambio de tiempo (más lento)\n",
    "- **Hipótesis**: Mayor tiempo en contenido ideológicamente afín"
   ]
  },
  {
   "cell_type": "code",
   "execution_count": null,
   "metadata": {},
   "outputs": [],
   "source": [
    "import pandas as pd\n",
    "import numpy as np\n",
    "import matplotlib.pyplot as plt\n",
    "import seaborn as sns\n",
    "import os\n",
    "from matplotlib.lines import Line2D\n",
    "from scipy import stats\n",
    "import warnings\n",
    "warnings.filterwarnings('ignore')\n",
    "\n",
    "# Configurar estilo\n",
    "plt.style.use('seaborn-v0_8-darkgrid')\n",
    "sns.set_palette('husl')\n",
    "\n",
    "print('✓ Librerías cargadas exitosamente')"
   ]
  },
  {
   "cell_type": "markdown",
   "metadata": {},
   "source": [
    "## 1. Cargar Datos"
   ]
  },
  {
   "cell_type": "code",
   "execution_count": null,
   "metadata": {},
   "outputs": [],
   "source": [
    "# Rutas a los archivos\n",
    "Ruta_Base = os.path.join(os.getcwd(), '..', 'Data', 'Bases definitivas')\n",
    "Archivo_Generales = os.path.join(Ruta_Base, 'Generales.xlsx')\n",
    "Archivo_Ballotage = os.path.join(Ruta_Base, 'Ballotage.xlsx')\n",
    "\n",
    "# Cargar datos\n",
    "df_Generales = pd.read_excel(Archivo_Generales)\n",
    "df_Ballotage = pd.read_excel(Archivo_Ballotage)\n",
    "\n",
    "dfs = {\n",
    "    'Generales': df_Generales,\n",
    "    'Ballotage': df_Ballotage\n",
    "}\n",
    "\n",
    "print(f'✓ Datos cargados:')\n",
    "print(f'  - Generales: {len(df_Generales)} registros')\n",
    "print(f'  - Ballotage: {len(df_Ballotage)} registros')\n",
    "\n",
    "# Verificar variables CT_Filtrado\n",
    "vars_ct_filt = [\n",
    "    'Cambio_Tiempo_Filt_Pro_Izq',\n",
    "    'Cambio_Tiempo_Filt_Pro_Der',\n",
    "    'Cambio_Tiempo_Filt_Con_Izq',\n",
    "    'Cambio_Tiempo_Filt_Con_Der'\n",
    "]\n",
    "\n",
    "for nombre, df in dfs.items():\n",
    "    faltantes = [v for v in vars_ct_filt if v not in df.columns]\n",
    "    if faltantes:\n",
    "        print(f'  ⚠️  {nombre}: Faltan variables {faltantes}')\n",
    "    else:\n",
    "        print(f'  ✅ {nombre}: Todas las variables CT_Filtrado presentes')"
   ]
  },
  {
   "cell_type": "markdown",
   "metadata": {},
   "source": [
    "## 2. Preparar Datos para Gráfico"
   ]
  },
  {
   "cell_type": "code",
   "execution_count": null,
   "metadata": {},
   "outputs": [],
   "source": [
    "# Definir categorías ideológicas\n",
    "Categorias = [\n",
    "    'Left_Wing',\n",
    "    'Progressivism',\n",
    "    'Centre',\n",
    "    'Moderate_Right_A',\n",
    "    'Moderate_Right_B',\n",
    "    'Right_Wing_Libertarian'\n",
    "]\n",
    "\n",
    "Etiquetas_Categorias = {\n",
    "    'Left_Wing': 'Left Wing',\n",
    "    'Progressivism': 'Progressivism',\n",
    "    'Centre': 'Centre',\n",
    "    'Moderate_Right_A': 'Moderate Right A',\n",
    "    'Moderate_Right_B': 'Moderate Right B',\n",
    "    'Right_Wing_Libertarian': 'Right Wing Libertarian'\n",
    "}\n",
    "\n",
    "print(f'Categorías ideológicas: {len(Categorias)}')\n",
    "for cat in Categorias:\n",
    "    print(f'  - {Etiquetas_Categorias[cat]}')"
   ]
  },
  {
   "cell_type": "code",
   "execution_count": null,
   "metadata": {},
   "outputs": [],
   "source": "# Preparar datos por categoría para cada tipo (Progresistas y Conservadores)\ndef Preparar_Datos_CT_Filtrado(df, categorias, var_izq, var_der, tipo_item):\n    \"\"\"\n    Calcula promedios de CT_Filtrado por categoría.\n    Incluye test t pareado para significancia estadística.\n    \"\"\"\n    datos = []\n    \n    for categoria in categorias:\n        df_cat = df[df['Categoria_PASO_2023'] == categoria]\n        \n        if len(df_cat) > 0:\n            media_izq = df_cat[var_izq].mean()\n            media_der = df_cat[var_der].mean()\n            diferencia = media_izq - media_der\n            \n            # Test t pareado para significancia\n            datos_pareados = df_cat[[var_izq, var_der]].dropna()\n            if len(datos_pareados) > 1:\n                from scipy.stats import ttest_rel\n                try:\n                    t_stat, p_valor = ttest_rel(datos_pareados[var_izq], \n                                                datos_pareados[var_der])\n                    \n                    # Determinar asteriscos de significancia\n                    if p_valor < 0.001:\n                        sig = '***'\n                    elif p_valor < 0.01:\n                        sig = '**'\n                    elif p_valor < 0.05:\n                        sig = '*'\n                    else:\n                        sig = ''\n                except:\n                    p_valor = np.nan\n                    sig = ''\n            else:\n                p_valor = np.nan\n                sig = ''\n            \n            datos.append({\n                'Categoria': categoria,\n                'Etiqueta': Etiquetas_Categorias[categoria],\n                'Tipo_Item': tipo_item,\n                'n': len(df_cat),\n                'CT_Izquierda': media_izq,\n                'CT_Derecha': media_der,\n                'Diferencia': diferencia,\n                'p_valor': p_valor,\n                'Significancia': sig\n            })\n    \n    return pd.DataFrame(datos)\n\n# Preparar datos para ambos datasets y ambos tipos\ndatos_graficos = {}\n\nfor nombre, df in dfs.items():\n    # Ítems Progresistas\n    df_prog = Preparar_Datos_CT_Filtrado(\n        df, Categorias,\n        'Cambio_Tiempo_Filt_Pro_Izq',\n        'Cambio_Tiempo_Filt_Pro_Der',\n        'Progresistas'\n    )\n    \n    # Ítems Conservadores\n    df_cons = Preparar_Datos_CT_Filtrado(\n        df, Categorias,\n        'Cambio_Tiempo_Filt_Con_Izq',\n        'Cambio_Tiempo_Filt_Con_Der',\n        'Conservadores'\n    )\n    \n    datos_graficos[nombre] = {\n        'Progresistas': df_prog,\n        'Conservadores': df_cons\n    }\n    \n    print(f'\\n{nombre}:')\n    print('  Progresistas:')\n    print(df_prog[['Etiqueta', 'n', 'CT_Izquierda', 'CT_Derecha', 'Diferencia', 'Significancia']])\n    print('\\n  Conservadores:')\n    print(df_cons[['Etiqueta', 'n', 'CT_Izquierda', 'CT_Derecha', 'Diferencia', 'Significancia']])"
  },
  {
   "cell_type": "markdown",
   "metadata": {},
   "source": [
    "## 3. Función para Crear Gráfico Cleveland Comparativo"
   ]
  },
  {
   "cell_type": "code",
   "execution_count": null,
   "metadata": {},
   "outputs": [],
   "source": "def Crear_Grafico_Cleveland_CT_Filtrado_Comparativo(df_prog, df_cons, titulo, nombre_archivo=None, carpeta_destino='Graficos_Cleveland'):\n    \"\"\"\n    Crea gráfico con 2 paneles: Progresistas vs Conservadores.\n    Incluye asteriscos para indicar significancia estadística.\n    \"\"\"\n    \n    # Crear carpeta si no existe\n    if not os.path.exists(carpeta_destino):\n        os.makedirs(carpeta_destino)\n    \n    # Crear figura con 2 paneles\n    fig, (ax1, ax2) = plt.subplots(1, 2, figsize=(20, 8))\n    \n    # Determinar límites comunes del eje X\n    min_val = min(\n        df_prog['CT_Izquierda'].min(), df_prog['CT_Derecha'].min(),\n        df_cons['CT_Izquierda'].min(), df_cons['CT_Derecha'].min()\n    )\n    max_val = max(\n        df_prog['CT_Izquierda'].max(), df_prog['CT_Derecha'].max(),\n        df_cons['CT_Izquierda'].max(), df_cons['CT_Derecha'].max()\n    )\n    margen = (max_val - min_val) * 0.1\n    \n    # Función helper para dibujar un panel\n    def Dibujar_Panel(ax, df, titulo_panel, mostrar_ylabel):\n        # Ordenar por diferencia\n        df_sorted = df.sort_values('Diferencia', ascending=True).reset_index(drop=True)\n        y_positions = np.arange(len(df_sorted))\n        \n        # Dibujar líneas\n        for idx, row in df_sorted.iterrows():\n            izq_val = row['CT_Izquierda']\n            der_val = row['CT_Derecha']\n            diferencia = row['Diferencia']\n            \n            # Color según diferencia\n            if diferencia > 0.5:\n                color_linea = '#3498db'  # Azul\n                alpha = 0.7\n            elif diferencia < -0.5:\n                color_linea = '#e74c3c'  # Rojo\n                alpha = 0.7\n            else:\n                color_linea = '#95a5a6'  # Gris\n                alpha = 0.4\n            \n            ax.plot([der_val, izq_val], [idx, idx],\n                    color=color_linea, linewidth=2, alpha=alpha, zorder=1)\n        \n        # Dibujar puntos\n        ax.scatter(df_sorted['CT_Izquierda'], y_positions,\n                   s=150, c='#3498db', marker='o',\n                   edgecolors='white', linewidths=2,\n                   label='Izquierda', zorder=3, alpha=0.9)\n        \n        ax.scatter(df_sorted['CT_Derecha'], y_positions,\n                   s=150, c='#e74c3c', marker='o',\n                   edgecolors='white', linewidths=2,\n                   label='Derecha', zorder=3, alpha=0.9)\n        \n        # Línea vertical en x=0\n        ax.axvline(x=0, color='black', linestyle='--', linewidth=0.8, alpha=0.3, zorder=0)\n        \n        # Configurar ejes con asteriscos de significancia\n        ax.set_yticks(y_positions)\n        etiquetas_con_sig = [f\"{row['Etiqueta']} {row['Significancia']}\" if row['Significancia'] else row['Etiqueta'] \n                             for _, row in df_sorted.iterrows()]\n        ax.set_yticklabels(etiquetas_con_sig, fontsize=11)\n        \n        ax.set_xlabel('CT Filtrado (segundos)', fontsize=12, fontweight='bold')\n        if mostrar_ylabel:\n            ax.set_ylabel('Categoría Ideológica', fontsize=12, fontweight='bold')\n        \n        ax.set_title(titulo_panel, fontsize=13, fontweight='bold', pad=15)\n        \n        # Grid\n        ax.grid(True, axis='x', alpha=0.3, linestyle=':', linewidth=0.5)\n        ax.set_axisbelow(True)\n        \n        # Ajustar límites X\n        ax.set_xlim(min_val - margen, max_val + margen)\n    \n    # Panel A: Progresistas\n    Dibujar_Panel(ax1, df_prog, 'A) Ítems Progresistas', True)\n    \n    # Panel B: Conservadores\n    Dibujar_Panel(ax2, df_cons, 'B) Ítems Conservadores', False)\n    \n    # Leyenda común\n    legend_elements = [\n        Line2D([0], [0], marker='o', color='w', markerfacecolor='#3498db',\n               markersize=11, label='Candidatos Izquierda', markeredgecolor='white', markeredgewidth=1.5),\n        Line2D([0], [0], marker='o', color='w', markerfacecolor='#e74c3c',\n               markersize=11, label='Candidatos Derecha', markeredgecolor='white', markeredgewidth=1.5),\n        Line2D([0], [0], color='#3498db', linewidth=2.5, label='Más Izq (>0.5s)'),\n        Line2D([0], [0], color='#95a5a6', linewidth=2.5, label='Similar (±0.5s)'),\n        Line2D([0], [0], color='#e74c3c', linewidth=2.5, label='Más Der (<-0.5s)'),\n        Line2D([0], [0], marker='', color='w', label='* p<0.05, ** p<0.01, *** p<0.001')\n    ]\n    \n    fig.legend(handles=legend_elements, loc='upper center', ncol=6,\n               fontsize=11, framealpha=0.95, edgecolor='gray',\n               bbox_to_anchor=(0.5, 0.98))\n    \n    # Título general\n    fig.suptitle(titulo, fontsize=14, fontweight='bold', y=0.995)\n    \n    # Ajustar layout\n    plt.tight_layout(rect=[0, 0, 1, 0.96])\n    \n    # Guardar\n    if nombre_archivo:\n        ruta_completa = os.path.join(carpeta_destino, f'{nombre_archivo}.png')\n        plt.savefig(ruta_completa, dpi=300, bbox_inches='tight', facecolor='white')\n        print(f'✅ Gráfico guardado: {ruta_completa}')\n    \n    plt.show()\n    \n    return fig, (ax1, ax2)"
  },
  {
   "cell_type": "markdown",
   "metadata": {},
   "source": [
    "## 4. Gráficos por Dataset"
   ]
  },
  {
   "cell_type": "code",
   "execution_count": null,
   "metadata": {},
   "outputs": [],
   "source": [
    "# Gráfico para Generales\n",
    "print('Generando gráfico para Generales...\\n')\n",
    "fig_gen, (ax1_gen, ax2_gen) = Crear_Grafico_Cleveland_CT_Filtrado_Comparativo(\n",
    "    datos_graficos['Generales']['Progresistas'],\n",
    "    datos_graficos['Generales']['Conservadores'],\n",
    "    titulo='CT Filtrado Cruzado: Tipo de Ítem × Ideología de Candidato - Generales',\n",
    "    nombre_archivo='Cleveland_CT_Filtrado_Cruzado_Generales'\n",
    ")"
   ]
  },
  {
   "cell_type": "code",
   "execution_count": null,
   "metadata": {},
   "outputs": [],
   "source": [
    "# Gráfico para Ballotage\n",
    "print('Generando gráfico para Ballotage...\\n')\n",
    "fig_bal, (ax1_bal, ax2_bal) = Crear_Grafico_Cleveland_CT_Filtrado_Comparativo(\n",
    "    datos_graficos['Ballotage']['Progresistas'],\n",
    "    datos_graficos['Ballotage']['Conservadores'],\n",
    "    titulo='CT Filtrado Cruzado: Tipo de Ítem × Ideología de Candidato - Ballotage',\n",
    "    nombre_archivo='Cleveland_CT_Filtrado_Cruzado_Ballotage'\n",
    ")"
   ]
  },
  {
   "cell_type": "markdown",
   "metadata": {},
   "source": "## 4.1. Análisis de Significancia Estadística"
  },
  {
   "cell_type": "code",
   "execution_count": null,
   "metadata": {},
   "outputs": [],
   "source": "print('='*70)\nprint('ANÁLISIS DE SIGNIFICANCIA ESTADÍSTICA')\nprint('Test t Pareado: CT Izquierda vs Derecha (por Tipo de Ítem)')\nprint('='*70)\n\nfor nombre, datos in datos_graficos.items():\n    print(f'\\n📊 {nombre}:')\n    print('='*70)\n    \n    for tipo, df_datos in datos.items():\n        print(f'\\n  {tipo}:')\n        print('  ' + '-'*66)\n        \n        # Filtrar categorías con significancia\n        sig_cats = df_datos[df_datos['Significancia'] != ''].copy()\n        \n        if len(sig_cats) > 0:\n            print(f'\\n  ✅ Categorías con diferencias significativas: {len(sig_cats)}/{len(df_datos)}')\n            \n            # Separar por dirección\n            sig_mas_izq = sig_cats[sig_cats['Diferencia'] > 0]\n            sig_mas_der = sig_cats[sig_cats['Diferencia'] < 0]\n            \n            if len(sig_mas_izq) > 0:\n                print(f'\\n    Más tiempo en IZQUIERDA ({len(sig_mas_izq)} categorías):')\n                for _, row in sig_mas_izq.iterrows():\n                    print(f\"      {row['Significancia']:3s} {row['Etiqueta']:25s} | Dif: {row['Diferencia']:6.3f}s | p={row['p_valor']:.4f}\")\n            \n            if len(sig_mas_der) > 0:\n                print(f'\\n    Más tiempo en DERECHA ({len(sig_mas_der)} categorías):')\n                for _, row in sig_mas_der.iterrows():\n                    print(f\"      {row['Significancia']:3s} {row['Etiqueta']:25s} | Dif: {row['Diferencia']:6.3f}s | p={row['p_valor']:.4f}\")\n        else:\n            print('\\n  ❌ No hay categorías con diferencias significativas (p < 0.05)')\n        \n        # Categorías no significativas\n        no_sig = df_datos[df_datos['Significancia'] == '']\n        if len(no_sig) > 0:\n            print(f'\\n  ⚪ Categorías sin diferencias significativas: {len(no_sig)}/{len(df_datos)}')\n\nprint('\\n' + '='*70)\nprint('Niveles de significancia: * p<0.05, ** p<0.01, *** p<0.001')\nprint('='*70)"
  },
  {
   "cell_type": "markdown",
   "metadata": {},
   "source": [
    "## 5. Análisis Estadístico"
   ]
  },
  {
   "cell_type": "code",
   "execution_count": null,
   "metadata": {},
   "outputs": [],
   "source": [
    "print('='*70)\n",
    "print('ANÁLISIS ESTADÍSTICO: CT FILTRADO CRUZADO')\n",
    "print('='*70)\n",
    "\n",
    "for nombre, datos in datos_graficos.items():\n",
    "    print(f'\\n📊 {nombre}:')\n",
    "    print('='*70)\n",
    "    \n",
    "    for tipo, df_datos in datos.items():\n",
    "        print(f'\\n  {tipo}:')\n",
    "        print('  ' + '-'*66)\n",
    "        \n",
    "        print(f'\\n  Estadísticas Generales:')\n",
    "        print(f'    Promedio CT_Izquierda: {df_datos[\"CT_Izquierda\"].mean():.3f} seg')\n",
    "        print(f'    Promedio CT_Derecha: {df_datos[\"CT_Derecha\"].mean():.3f} seg')\n",
    "        print(f'    Diferencia promedio: {df_datos[\"Diferencia\"].mean():.3f} seg')\n",
    "        \n",
    "        # Test t pareado\n",
    "        t_stat, p_value = stats.ttest_rel(df_datos['CT_Izquierda'], df_datos['CT_Derecha'])\n",
    "        \n",
    "        print(f'\\n  Test t Pareado:')\n",
    "        print(f'    Estadístico t: {t_stat:.4f}')\n",
    "        print(f'    Valor p: {p_value:.4f}')\n",
    "        \n",
    "        if p_value < 0.05:\n",
    "            print(f'    ✅ SIGNIFICATIVO (p < 0.05)')\n",
    "            if df_datos['Diferencia'].mean() > 0:\n",
    "                print(f'       Mayor tiempo en candidatos de Izquierda')\n",
    "            else:\n",
    "                print(f'       Mayor tiempo en candidatos de Derecha')\n",
    "        else:\n",
    "            print(f'    ❌ NO SIGNIFICATIVO (p ≥ 0.05)')\n",
    "\n",
    "print('\\n' + '='*70)"
   ]
  },
  {
   "cell_type": "markdown",
   "metadata": {},
   "source": [
    "## 6. Interpretación Teórica"
   ]
  },
  {
   "cell_type": "code",
   "execution_count": null,
   "metadata": {},
   "outputs": [],
   "source": [
    "print('='*70)\n",
    "print('INTERPRETACIÓN TEÓRICA')\n",
    "print('='*70)\n",
    "\n",
    "for nombre, datos in datos_graficos.items():\n",
    "    print(f'\\n📊 {nombre}:')\n",
    "    print('='*70)\n",
    "    \n",
    "    dif_prog = datos['Progresistas']['Diferencia'].mean()\n",
    "    dif_cons = datos['Conservadores']['Diferencia'].mean()\n",
    "    \n",
    "    print(f'\\n  Ítems Progresistas:')\n",
    "    print(f'    Diferencia promedio (Izq - Der): {dif_prog:.3f} seg')\n",
    "    if dif_prog > 0.5:\n",
    "        print(f'    ✅ ESPERADO: Candidatos de Izquierda tardan MÁS en ítems progresistas')\n",
    "        print(f'       (Mayor procesamiento de contenido ideológicamente afín)')\n",
    "    elif dif_prog < -0.5:\n",
    "        print(f'    ⚠️  INESPERADO: Candidatos de Derecha tardan MÁS en ítems progresistas')\n",
    "    else:\n",
    "        print(f'    ➖ Sin diferencia clara entre candidatos')\n",
    "    \n",
    "    print(f'\\n  Ítems Conservadores:')\n",
    "    print(f'    Diferencia promedio (Izq - Der): {dif_cons:.3f} seg')\n",
    "    if dif_cons < -0.5:\n",
    "        print(f'    ✅ ESPERADO: Candidatos de Derecha tardan MÁS en ítems conservadores')\n",
    "        print(f'       (Mayor procesamiento de contenido ideológicamente afín)')\n",
    "    elif dif_cons > 0.5:\n",
    "        print(f'    ⚠️  INESPERADO: Candidatos de Izquierda tardan MÁS en ítems conservadores')\n",
    "    else:\n",
    "        print(f'    ➖ Sin diferencia clara entre candidatos')\n",
    "    \n",
    "    print(f'\\n  Patrón de Interacción (Tipo × Ideología):')\n",
    "    if (dif_prog > 0 and dif_cons < 0):\n",
    "        print(f'    ✅ INTERACCIÓN ESPERADA:')\n",
    "        print(f'       - Izquierda tarda más en Progresistas')\n",
    "        print(f'       - Derecha tarda más en Conservadores')\n",
    "        print(f'       → Procesamiento especializado según afinidad ideológica')\n",
    "    elif (dif_prog < 0 and dif_cons > 0):\n",
    "        print(f'    ⚠️  INTERACCIÓN INVERSA:')\n",
    "        print(f'       - Derecha tarda más en Progresistas')\n",
    "        print(f'       - Izquierda tarda más en Conservadores')\n",
    "        print(f'       → Patrón opuesto al esperado')\n",
    "    elif (dif_prog > 0 and dif_cons > 0):\n",
    "        print(f'    ➖ SIN INTERACCIÓN (efecto principal de Izquierda):')\n",
    "        print(f'       - Izquierda tarda más en ambos tipos')\n",
    "    elif (dif_prog < 0 and dif_cons < 0):\n",
    "        print(f'    ➖ SIN INTERACCIÓN (efecto principal de Derecha):')\n",
    "        print(f'       - Derecha tarda más en ambos tipos')\n",
    "    else:\n",
    "        print(f'    ➖ Sin patrón claro')\n",
    "\n",
    "print('\\n' + '='*70)"
   ]
  },
  {
   "cell_type": "markdown",
   "metadata": {},
   "source": [
    "## 7. Guardar Tablas Resumen"
   ]
  },
  {
   "cell_type": "code",
   "execution_count": null,
   "metadata": {},
   "outputs": [],
   "source": [
    "# Crear carpeta de salida\n",
    "Carpeta_Salida = os.path.join(os.getcwd(), '..', 'Data', 'Resultados_Cleveland')\n",
    "if not os.path.exists(Carpeta_Salida):\n",
    "    os.makedirs(Carpeta_Salida)\n",
    "\n",
    "# Guardar tablas\n",
    "for nombre, datos in datos_graficos.items():\n",
    "    for tipo, df_datos in datos.items():\n",
    "        archivo = os.path.join(Carpeta_Salida, f'Resumen_CT_Filtrado_{tipo}_{nombre}.xlsx')\n",
    "        df_datos.to_excel(archivo, index=False)\n",
    "        print(f'✅ Guardado: {archivo}')"
   ]
  },
  {
   "cell_type": "markdown",
   "metadata": {},
   "source": [
    "## 8. Resumen Final"
   ]
  },
  {
   "cell_type": "code",
   "execution_count": null,
   "metadata": {},
   "outputs": [],
   "source": [
    "print('='*70)\n",
    "print('RESUMEN: CT FILTRADO CRUZADO')\n",
    "print('='*70)\n",
    "\n",
    "print('\\n📊 Análisis completado:')\n",
    "print(f'  - Datasets analizados: 2 (Generales y Ballotage)')\n",
    "print(f'  - Tipos de ítems: 2 (Progresistas y Conservadores)')\n",
    "print(f'  - Categorías por dataset: {len(Categorias)}')\n",
    "print(f'  - Gráficos generados: 2 (comparativos con 2 paneles cada uno)')\n",
    "\n",
    "print('\\n📁 Archivos generados:')\n",
    "print('  Gráficos:')\n",
    "print('    - Cleveland_CT_Filtrado_Cruzado_Generales.png')\n",
    "print('    - Cleveland_CT_Filtrado_Cruzado_Ballotage.png')\n",
    "print('  Tablas Excel:')\n",
    "print('    - Resumen_CT_Filtrado_Progresistas_Generales.xlsx')\n",
    "print('    - Resumen_CT_Filtrado_Conservadores_Generales.xlsx')\n",
    "print('    - Resumen_CT_Filtrado_Progresistas_Ballotage.xlsx')\n",
    "print('    - Resumen_CT_Filtrado_Conservadores_Ballotage.xlsx')\n",
    "\n",
    "print('\\n💡 Interpretación:')\n",
    "print('  - CT Filtrado usa solo ítems que fueron significativos en Kruskal-Wallis')\n",
    "print('  - Hipótesis: Mayor tiempo en contenido ideológicamente afín')\n",
    "print('  - Patrón esperado: Interacción Tipo_Ítem × Ideología_Candidato')\n",
    "\n",
    "print('\\n' + '='*70)\n",
    "print('✅ ANÁLISIS COMPLETADO')\n",
    "print('='*70)"
   ]
  }
 ],
 "metadata": {
  "kernelspec": {
   "display_name": "Python 3",
   "language": "python",
   "name": "python3"
  },
  "language_info": {
   "name": "python",
   "version": "3.8.0"
  }
 },
 "nbformat": 4,
 "nbformat_minor": 4
}