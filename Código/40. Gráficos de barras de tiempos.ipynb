{
 "cells": [
  {
   "cell_type": "code",
   "execution_count": 1,
   "id": "87471fb7",
   "metadata": {},
   "outputs": [],
   "source": [
    "# Librerías.\n",
    "import pandas as pd\n",
    "import Funciones as f\n",
    "import unidecode\n",
    "from docx import Document\n",
    "from docx.shared import Inches\n",
    "import os\n",
    "import matplotlib.pyplot as plt\n",
    "import seaborn as sns\n",
    "import numpy as np\n",
    "from scipy import stats"
   ]
  },
  {
   "cell_type": "code",
   "execution_count": null,
   "id": "ae815838",
   "metadata": {},
   "outputs": [],
   "source": [
    "%%capture\n",
    "%run \"38. Comparaciones estadísticas de nuevos CT filtrados.ipynb\""
   ]
  },
  {
   "cell_type": "code",
   "execution_count": 3,
   "id": "1fbd83f7",
   "metadata": {},
   "outputs": [],
   "source": [
    "Columnas_A_Graficar = [                   'CT_Item_5_Izq',\n",
    "                                          'CT_Item_6_Izq',\n",
    "                                          'CT_Item_9_Izq',\n",
    "                                          'CT_Item_11_Izq',\n",
    "                                          'CT_Item_16_Izq',\n",
    "                                          'CT_Item_20_Izq',\n",
    "                                          'CT_Item_24_Izq',\n",
    "                                          'CT_Item_25_Izq',\n",
    "                                          'CT_Item_27_Izq',\n",
    "                                          'CT_Item_28_Izq',\n",
    "                                          'CT_Item_5_Der',\n",
    "                                          'CT_Item_6_Der',\n",
    "                                          'CT_Item_9_Der',\n",
    "                                          'CT_Item_11_Der',\n",
    "                                          'CT_Item_16_Der',\n",
    "                                          'CT_Item_20_Der',\n",
    "                                          'CT_Item_24_Der',\n",
    "                                          'CT_Item_25_Der',\n",
    "                                          'CT_Item_27_Der',\n",
    "                                          'CT_Item_28_Der',\n",
    "                                          'CT_Item_3_Izq',\n",
    "                                          'CT_Item_4_Izq',\n",
    "                                          'CT_Item_7_Izq',\n",
    "                                          'CT_Item_8_Izq',\n",
    "                                          'CT_Item_10_Izq',\n",
    "                                          'CT_Item_19_Izq', \n",
    "                                          'CT_Item_22_Izq',\n",
    "                                          'CT_Item_23_Izq',\n",
    "                                          'CT_Item_29_Izq',\n",
    "                                          'CT_Item_30_Izq',\n",
    "                                          'CT_Item_3_Der',\n",
    "                                          'CT_Item_4_Der',\n",
    "                                          'CT_Item_7_Der',\n",
    "                                          'CT_Item_8_Der',\n",
    "                                          'CT_Item_10_Der',\n",
    "                                          'CT_Item_19_Der', \n",
    "                                          'CT_Item_22_Der',\n",
    "                                          'CT_Item_23_Der',\n",
    "                                          'CT_Item_29_Der',\n",
    "                                          'CT_Item_30_Der',\n",
    "                                          'Cambio_Tiempo_Sum_Pro_Izq',\n",
    "                                          'Cambio_Tiempo_Sum_Pro_Der',\n",
    "                                          'Cambio_Tiempo_Sum_Con_Izq',\n",
    "                                          'Cambio_Tiempo_Sum_Con_Der',\n",
    "                                          'Cambio_Tiempo_Filt_Pro_Izq', \n",
    "                                          'Cambio_Tiempo_Filt_Con_Izq', \n",
    "                                          'Cambio_Tiempo_Filt_Con_Der']"
   ]
  },
  {
   "cell_type": "code",
   "execution_count": 4,
   "id": "7644713f",
   "metadata": {},
   "outputs": [],
   "source": [
    "%%capture\n",
    "for Nombre_df, df in dfs_Finales.items():\n",
    "\n",
    "    # Filtrar solo categorías políticas relevantes.\n",
    "    df = df[df['Categoria_PASO_2023'].isin(['Left_Wing', 'Progressivism', 'Centre', 'Moderate_Right_A', 'Moderate_Right_B',\n",
    "                                'Right_Wing_Libertarian'])].copy()\n",
    "    \n",
    "    # Crear carpeta si no existe.\n",
    "    Carpeta_Graficos = \"Graficos_Barras_Tiempos\"\n",
    "    os.makedirs(Carpeta_Graficos, exist_ok=True)\n",
    "\n",
    "    # Graficar cada columna.    \n",
    "    for Columna in Columnas_A_Graficar:\n",
    "        if Columna in df.columns:  # Solo graficar si existe.\n",
    "            Graficar_Medias_Por_Grupo(df, \n",
    "                                    Columna, \n",
    "                                    'Categoria_PASO_2023',\n",
    "                                    Columna, \n",
    "                                    Escala_Y = None, \n",
    "                                    Colores_Barras = ['#f65058', '#0078bf', '#009cdd', \n",
    "                                                    '#f7d117', '#f7d117', '#753bbd'], \n",
    "                                    Barras_Maximo = 6, \n",
    "                                    Orden_Grupos = ['Left_Wing', 'Progressivism', 'Centre', \n",
    "                                                'Moderate_Right_A', 'Moderate_Right_B',\n",
    "                                                'Right_Wing_Libertarian'],\n",
    "                                    Nombre_df = Nombre_df,\n",
    "                                    Carpeta = Carpeta_Graficos)"
   ]
  },
  {
   "cell_type": "code",
   "execution_count": null,
   "id": "f4f40cf9",
   "metadata": {},
   "outputs": [],
   "source": []
  }
 ],
 "metadata": {
  "kernelspec": {
   "display_name": "Python 3",
   "language": "python",
   "name": "python3"
  },
  "language_info": {
   "codemirror_mode": {
    "name": "ipython",
    "version": 3
   },
   "file_extension": ".py",
   "mimetype": "text/x-python",
   "name": "python",
   "nbconvert_exporter": "python",
   "pygments_lexer": "ipython3",
   "version": "3.11.9"
  }
 },
 "nbformat": 4,
 "nbformat_minor": 5
}
