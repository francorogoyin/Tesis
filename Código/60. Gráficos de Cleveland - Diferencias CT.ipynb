{
 "cells": [
  {
   "cell_type": "markdown",
   "metadata": {},
   "source": [
    "# Gráficos de Cleveland: Diferencias en Tiempo entre Generales y Ballotage\n\n",
    "Este notebook genera **gráficos de Cleveland (Cleveland dot plots)** para visualizar las diferencias en Cambio de Tiempo (CT) entre candidatos de Izquierda y Derecha, comparando Generales vs Ballotage.\n\n",
    "## Concepto:\n\n",
    "Para cada ítem mostramos:\n",
    "- **Punto azul (●)**: Diferencia Izq-Der en **Generales** (Dif_Gen_CT)\n",
    "- **Punto rojo (●)**: Diferencia Izq-Der en **Ballotage** (Dif_Bal_CT)\n",
    "- **Línea conectando**: Muestra el cambio entre elecciones\n",
    "- **Color de línea**:\n",
    "  - Verde: Diferencia aumentó en Ballotage (más positivo)\n",
    "  - Gris: Cambio pequeño (≤ 0.5 segundos)\n",
    "  - Naranja: Diferencia disminuyó en Ballotage (más negativo)\n\n",
    "## Interpretación:\n\n",
    "- **Valores positivos**: Mayor tiempo en candidatos de Izquierda\n",
    "- **Valores negativos**: Mayor tiempo en candidatos de Derecha\n",
    "- **Línea hacia la derecha**: La diferencia aumentó en Ballotage\n",
    "- **Línea hacia la izquierda**: La diferencia disminuyó en Ballotage"
   ]
  },
  {
   "cell_type": "code",
   "execution_count": null,
   "metadata": {},
   "outputs": [],
   "source": [
    "import pandas as pd\n",
    "import numpy as np\n",
    "import matplotlib.pyplot as plt\n",
    "import seaborn as sns\n",
    "import os\n",
    "from matplotlib.lines import Line2D\n",
    "import warnings\n",
    "warnings.filterwarnings('ignore')\n\n",
    "# Configurar estilo\n",
    "plt.style.use('seaborn-v0_8-darkgrid')\n",
    "sns.set_palette('husl')\n\n",
    "print('✓ Librerías cargadas exitosamente')"
   ]
  },
  {
   "cell_type": "markdown",
   "metadata": {},
   "source": [
    "## 1. Cargar Datos"
   ]
  },
  {
   "cell_type": "code",
   "execution_count": null,
   "metadata": {},
   "outputs": [],
   "source": [
    "# Ruta al archivo\n",
    "Ruta_Base = os.path.join(os.getcwd(), '..', 'Data', 'Procesados')\n",
    "Archivo_Elecciones = os.path.join(Ruta_Base, 'df_Elecciones.xlsx')\n\n",
    "# Cargar datos\n",
    "df_Elecciones = pd.read_excel(Archivo_Elecciones)\n\n",
    "print(f'✓ Datos cargados:')\n",
    "print(f'  - {len(df_Elecciones)} registros')\n",
    "print(f'  - {len(df_Elecciones.columns)} columnas')\n\n",
    "# Verificar que tenemos las columnas necesarias\n",
    "columnas_dif_gen = [col for col in df_Elecciones.columns if col.startswith('Dif_Gen_CT')]\n",
    "columnas_dif_bal = [col for col in df_Elecciones.columns if col.startswith('Dif_Bal_CT')]\n\n",
    "print(f'\\n  - Variables Dif_Gen_CT: {len(columnas_dif_gen)}')\n",
    "print(f'  - Variables Dif_Bal_CT: {len(columnas_dif_bal)}')"
   ]
  },
  {
   "cell_type": "markdown",
   "metadata": {},
   "source": [
    "## 2. Preparar Datos para Gráfico"
   ]
  },
  {
   "cell_type": "code",
   "execution_count": null,
   "metadata": {},
   "outputs": [],
   "source": [
    "# Definir ítems\n",
    "Items_Progresistas = [5, 6, 9, 11, 16, 20, 24, 25, 27, 28]\n",
    "Items_Conservadores = [3, 4, 7, 8, 10, 19, 22, 23, 29, 30]\n",
    "Todos_Items = sorted(Items_Progresistas + Items_Conservadores)\n\n",
    "print(f'Total de ítems: {len(Todos_Items)}')\n",
    "print(f'Ítems: {Todos_Items}')\n\n",
    "# Calcular promedios por ítem\n",
    "datos_grafico = []\n\n",
    "for item in Todos_Items:\n",
    "    var_gen = f'Dif_Gen_CT_Item_{item}'\n",
    "    var_bal = f'Dif_Bal_CT_Item_{item}'\n",
    "    \n",
    "    if var_gen in df_Elecciones.columns and var_bal in df_Elecciones.columns:\n",
    "        # Calcular promedios (ignorando NaN)\n",
    "        media_gen = df_Elecciones[var_gen].mean()\n",
    "        media_bal = df_Elecciones[var_bal].mean()\n",
    "        \n",
    "        # Calcular cambio\n",
    "        cambio = media_bal - media_gen\n",
    "        \n",
    "        # Determinar tipo de ítem\n",
    "        tipo = 'Progresista' if item in Items_Progresistas else 'Conservador'\n",
    "        \n",
    "        datos_grafico.append({\n",
    "            'Item': item,\n",
    "            'Tipo': tipo,\n",
    "            'Dif_Generales': media_gen,\n",
    "            'Dif_Ballotage': media_bal,\n",
    "            'Cambio': cambio\n",
    "        })\n\n",
    "# Crear DataFrame\n",
    "df_grafico = pd.DataFrame(datos_grafico)\n\n",
    "print(f'\\n✓ Datos preparados para {len(df_grafico)} ítems')\n",
    "print(f'\\nPrimeras filas:')\n",
    "print(df_grafico.head(10))"
   ]
  },
  {
   "cell_type": "markdown",
   "metadata": {},
   "source": [
    "## 3. Función para Crear Gráfico de Cleveland"
   ]
  },
  {
   "cell_type": "code",
   "execution_count": null,
   "metadata": {},
   "outputs": [],
   "source": [
    "def Crear_Grafico_Cleveland(df, titulo, nombre_archivo=None, carpeta_destino='Graficos_Cleveland'):\n",
    "    \"\"\"\n",
    "    Crea un gráfico de Cleveland mostrando diferencias Gen vs Bal.\n",
    "    \n",
    "    Parámetros:\n",
    "    -----------\n",
    "    df : DataFrame\n",
    "        DataFrame con columnas: Item, Dif_Generales, Dif_Ballotage, Cambio\n",
    "    titulo : str\n",
    "        Título del gráfico\n",
    "    nombre_archivo : str, optional\n",
    "        Nombre del archivo (sin extensión)\n",
    "    carpeta_destino : str\n",
    "        Carpeta donde guardar\n",
    "    \"\"\"\n",
    "    \n",
    "    # Crear carpeta si no existe\n",
    "    if not os.path.exists(carpeta_destino):\n",
    "        os.makedirs(carpeta_destino)\n",
    "    \n",
    "    # Ordenar por cambio (descendente)\n",
    "    df_sorted = df.sort_values('Cambio', ascending=True).reset_index(drop=True)\n",
    "    \n",
    "    # Crear figura\n",
    "    fig, ax = plt.subplots(figsize=(12, 10))\n",
    "    \n",
    "    # Parámetros visuales\n",
    "    y_positions = np.arange(len(df_sorted))\n",
    "    \n",
    "    # Dibujar líneas conectando los puntos\n",
    "    for idx, row in df_sorted.iterrows():\n",
    "        gen_val = row['Dif_Generales']\n",
    "        bal_val = row['Dif_Ballotage']\n",
    "        cambio = row['Cambio']\n",
    "        \n",
    "        # Determinar color de línea según cambio\n",
    "        if cambio > 0.5:  # Aumentó\n",
    "            color_linea = '#2ecc71'  # Verde\n",
    "            alpha = 0.6\n",
    "        elif cambio < -0.5:  # Disminuyó\n",
    "            color_linea = '#e74c3c'  # Rojo/Naranja\n",
    "            alpha = 0.6\n",
    "        else:  # Cambio pequeño\n",
    "            color_linea = '#95a5a6'  # Gris\n",
    "            alpha = 0.3\n",
    "        \n",
    "        # Dibujar línea\n",
    "        ax.plot([gen_val, bal_val], [idx, idx], \n",
    "                color=color_linea, linewidth=1.5, alpha=alpha, zorder=1)\n",
    "    \n",
    "    # Dibujar puntos de Generales\n",
    "    ax.scatter(df_sorted['Dif_Generales'], y_positions, \n",
    "               s=120, c='#3498db', marker='o', \n",
    "               edgecolors='white', linewidths=1.5,\n",
    "               label='Generales', zorder=3, alpha=0.8)\n",
    "    \n",
    "    # Dibujar puntos de Ballotage\n",
    "    ax.scatter(df_sorted['Dif_Ballotage'], y_positions, \n",
    "               s=120, c='#e74c3c', marker='o', \n",
    "               edgecolors='white', linewidths=1.5,\n",
    "               label='Ballotage', zorder=3, alpha=0.8)\n",
    "    \n",
    "    # Línea vertical en x=0\n",
    "    ax.axvline(x=0, color='black', linestyle='--', linewidth=0.8, alpha=0.3, zorder=0)\n",
    "    \n",
    "    # Configurar ejes\n",
    "    ax.set_yticks(y_positions)\n",
    "    ax.set_yticklabels([f'Ítem {int(item)}' for item in df_sorted['Item']], fontsize=10)\n",
    "    \n",
    "    ax.set_xlabel('Diferencia Izq - Der (segundos)', fontsize=12, fontweight='bold')\n",
    "    ax.set_ylabel('Ítem', fontsize=12, fontweight='bold')\n",
    "    ax.set_title(titulo, fontsize=14, fontweight='bold', pad=20)\n",
    "    \n",
    "    # Grid\n",
    "    ax.grid(True, axis='x', alpha=0.3, linestyle=':', linewidth=0.5)\n",
    "    ax.set_axisbelow(True)\n",
    "    \n",
    "    # Leyenda personalizada\n",
    "    legend_elements = [\n",
    "        Line2D([0], [0], marker='o', color='w', markerfacecolor='#3498db', \n",
    "               markersize=10, label='Generales', markeredgecolor='white', markeredgewidth=1),\n",
    "        Line2D([0], [0], marker='o', color='w', markerfacecolor='#e74c3c', \n",
    "               markersize=10, label='Ballotage', markeredgecolor='white', markeredgewidth=1),\n",
    "        Line2D([0], [0], color='#2ecc71', linewidth=2, label='Aumentó (>0.5s)'),\n",
    "        Line2D([0], [0], color='#95a5a6', linewidth=2, label='Sin cambio (±0.5s)'),\n",
    "        Line2D([0], [0], color='#e74c3c', linewidth=2, label='Disminuyó (<-0.5s)')\n",
    "    ]\n",
    "    \n",
    "    ax.legend(handles=legend_elements, loc='lower right', fontsize=10, \n",
    "              framealpha=0.95, edgecolor='gray')\n",
    "    \n",
    "    # Ajustar layout\n",
    "    plt.tight_layout()\n",
    "    \n",
    "    # Guardar\n",
    "    if nombre_archivo:\n",
    "        ruta_completa = os.path.join(carpeta_destino, f'{nombre_archivo}.png')\n",
    "        plt.savefig(ruta_completa, dpi=300, bbox_inches='tight', facecolor='white')\n",
    "        print(f'✅ Gráfico guardado: {ruta_completa}')\n",
    "    \n",
    "    plt.show()\n",
    "    \n",
    "    return fig, ax"
   ]
  },
  {
   "cell_type": "markdown",
   "metadata": {},
   "source": [
    "## 4. Gráfico Principal: Todos los Ítems"
   ]
  },
  {
   "cell_type": "code",
   "execution_count": null,
   "metadata": {},
   "outputs": [],
   "source": [
    "# Crear gráfico principal\n",
    "fig, ax = Crear_Grafico_Cleveland(\n",
    "    df_grafico,\n",
    "    titulo='Diferencias en Tiempo (Izq - Der):\\nGenerales vs Ballotage',\n",
    "    nombre_archivo='Cleveland_CT_Todos_Items'\n",
    ")"
   ]
  },
  {
   "cell_type": "markdown",
   "metadata": {},
   "source": [
    "## 5. Análisis Estadístico de Cambios"
   ]
  },
  {
   "cell_type": "code",
   "execution_count": null,
   "metadata": {},
   "outputs": [],
   "source": [
    "print('='*70)\n",
    "print('ANÁLISIS DE CAMBIOS ENTRE GENERALES Y BALLOTAGE')\n",
    "print('='*70)\n\n",
    "print(f'\\n📊 Estadísticas Generales:')\n",
    "print(f'  Promedio Dif_Generales: {df_grafico[\"Dif_Generales\"].mean():.3f} seg')\n",
    "print(f'  Promedio Dif_Ballotage: {df_grafico[\"Dif_Ballotage\"].mean():.3f} seg')\n",
    "print(f'  Promedio Cambio: {df_grafico[\"Cambio\"].mean():.3f} seg')\n\n",
    "print(f'\\n📈 Distribución de Cambios:')\n",
    "aumentaron = len(df_grafico[df_grafico['Cambio'] > 0.5])\n",
    "sin_cambio = len(df_grafico[(df_grafico['Cambio'] >= -0.5) & (df_grafico['Cambio'] <= 0.5)])\n",
    "disminuyeron = len(df_grafico[df_grafico['Cambio'] < -0.5])\n\n",
    "print(f'  Aumentaron (>0.5s): {aumentaron} ítems ({aumentaron/len(df_grafico)*100:.1f}%)')\n",
    "print(f'  Sin cambio (±0.5s): {sin_cambio} ítems ({sin_cambio/len(df_grafico)*100:.1f}%)')\n",
    "print(f'  Disminuyeron (<-0.5s): {disminuyeron} ítems ({disminuyeron/len(df_grafico)*100:.1f}%)')\n\n",
    "print(f'\\n🏆 Top 5 Ítems con MAYOR Aumento:')\n",
    "print('-'*70)\n",
    "top_aumento = df_grafico.nlargest(5, 'Cambio')[['Item', 'Tipo', 'Dif_Generales', 'Dif_Ballotage', 'Cambio']]\n",
    "print(top_aumento.to_string(index=False))\n\n",
    "print(f'\\n🏆 Top 5 Ítems con MAYOR Disminución:')\n",
    "print('-'*70)\n",
    "top_disminucion = df_grafico.nsmallest(5, 'Cambio')[['Item', 'Tipo', 'Dif_Generales', 'Dif_Ballotage', 'Cambio']]\n",
    "print(top_disminucion.to_string(index=False))\n\n",
    "print('\\n' + '='*70)"
   ]
  },
  {
   "cell_type": "markdown",
   "metadata": {},
   "source": [
    "## 6. Comparación por Tipo de Ítem"
   ]
  },
  {
   "cell_type": "code",
   "execution_count": null,
   "metadata": {},
   "outputs": [],
   "source": [
    "print('='*70)\n",
    "print('COMPARACIÓN: ÍTEMS PROGRESISTAS vs CONSERVADORES')\n",
    "print('='*70)\n\n",
    "# Agrupar por tipo\n",
    "por_tipo = df_grafico.groupby('Tipo').agg({\n",
    "    'Dif_Generales': ['mean', 'std'],\n",
    "    'Dif_Ballotage': ['mean', 'std'],\n",
    "    'Cambio': ['mean', 'std'],\n",
    "    'Item': 'count'\n",
    "}).round(3)\n\n",
    "print('\\n📊 Estadísticas por Tipo:')\n",
    "print(por_tipo)\n\n",
    "print('\\n💡 Interpretación:')\n",
    "cambio_prog = df_grafico[df_grafico['Tipo'] == 'Progresista']['Cambio'].mean()\n",
    "cambio_cons = df_grafico[df_grafico['Tipo'] == 'Conservador']['Cambio'].mean()\n\n",
    "print(f'\\n  Ítems Progresistas:')\n",
    "print(f'    - Cambio promedio: {cambio_prog:.3f} seg')\n",
    "if cambio_prog > 0:\n",
    "    print(f'    - En Ballotage aumentó la diferencia Izq-Der')\n",
    "else:\n",
    "    print(f'    - En Ballotage disminuyó la diferencia Izq-Der')\n\n",
    "print(f'\\n  Ítems Conservadores:')\n",
    "print(f'    - Cambio promedio: {cambio_cons:.3f} seg')\n",
    "if cambio_cons > 0:\n",
    "    print(f'    - En Ballotage aumentó la diferencia Izq-Der')\n",
    "else:\n",
    "    print(f'    - En Ballotage disminuyó la diferencia Izq-Der')\n\n",
    "print('\\n' + '='*70)"
   ]
  },
  {
   "cell_type": "markdown",
   "metadata": {},
   "source": [
    "## 7. Guardar Tabla Resumen"
   ]
  },
  {
   "cell_type": "code",
   "execution_count": null,
   "metadata": {},
   "outputs": [],
   "source": [
    "# Crear carpeta de salida\n",
    "Carpeta_Salida = os.path.join(os.getcwd(), '..', 'Data', 'Resultados_Cleveland')\n",
    "if not os.path.exists(Carpeta_Salida):\n",
    "    os.makedirs(Carpeta_Salida)\n\n",
    "# Guardar tabla de datos\n",
    "Archivo_Salida = os.path.join(Carpeta_Salida, 'Resumen_Diferencias_CT.xlsx')\n",
    "df_grafico_export = df_grafico.copy()\n",
    "df_grafico_export.to_excel(Archivo_Salida, index=False)\n\n",
    "print(f'✅ Tabla resumen guardada: {Archivo_Salida}')\n",
    "print(f'   {len(df_grafico_export)} ítems × {len(df_grafico_export.columns)} columnas')"
   ]
  },
  {
   "cell_type": "markdown",
   "metadata": {},
   "source": [
    "## 8. Resumen Final"
   ]
  },
  {
   "cell_type": "code",
   "execution_count": null,
   "metadata": {},
   "outputs": [],
   "source": [
    "print('='*70)\n",
    "print('RESUMEN: GRÁFICOS DE CLEVELAND - DIFERENCIAS EN TIEMPO')\n",
    "print('='*70)\n\n",
    "print('\\n📊 Análisis completado:')\n",
    "print(f'  - Ítems analizados: {len(df_grafico)}')\n",
    "print(f'  - Gráficos generados: 1 (Cleveland plot)')\n",
    "print(f'  - Comparación: Generales vs Ballotage')\n\n",
    "print('\\n📁 Archivos generados:')\n",
    "print('  - Cleveland_CT_Todos_Items.png (gráfico principal)')\n",
    "print('  - Resumen_Diferencias_CT.xlsx (tabla de datos)')\n\n",
    "print('\\n🎯 Hallazgos clave:')\n",
    "print(f'  - {aumentaron} ítems mostraron aumento en diferencia Izq-Der')\n",
    "print(f'  - {disminuyeron} ítems mostraron disminución')\n",
    "print(f'  - {sin_cambio} ítems sin cambio sustancial')\n\n",
    "print('\\n💡 Interpretación:')\n",
    "print('  - Valores positivos: Mayor tiempo dedicado a candidatos de Izquierda')\n",
    "print('  - Valores negativos: Mayor tiempo dedicado a candidatos de Derecha')\n",
    "print('  - Líneas verdes: La asimetría Izq-Der aumentó en Ballotage')\n",
    "print('  - Líneas naranjas: La asimetría Izq-Der disminuyó en Ballotage')\n\n",
    "print('\\n' + '='*70)\n",
    "print('✅ ANÁLISIS COMPLETADO')\n",
    "print('='*70)"
   ]
  }
 ],
 "metadata": {
  "kernelspec": {
   "display_name": "Python 3",
   "language": "python",
   "name": "python3"
  },
  "language_info": {
   "name": "python",
   "version": "3.8.0"
  }
 },
 "nbformat": 4,
 "nbformat_minor": 4
}