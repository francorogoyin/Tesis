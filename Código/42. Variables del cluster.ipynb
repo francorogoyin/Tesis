{
 "cells": [
  {
   "cell_type": "code",
   "execution_count": 1,
   "id": "87471fb7",
   "metadata": {},
   "outputs": [],
   "source": [
    "# Librerías.\n",
    "import pandas as pd\n",
    "import Funciones as f\n",
    "import unidecode\n",
    "from docx import Document\n",
    "from docx.shared import Inches\n",
    "import os\n",
    "import matplotlib.pyplot as plt\n",
    "import seaborn as sns\n",
    "import numpy as np\n",
    "from scipy import stats"
   ]
  },
  {
   "cell_type": "code",
   "execution_count": 2,
   "id": "ae815838",
   "metadata": {},
   "outputs": [],
   "source": [
    "%%capture\n",
    "%run \"41. Tabla con P-valores.ipynb\""
   ]
  },
  {
   "cell_type": "code",
   "execution_count": 7,
   "id": "babfe7e4",
   "metadata": {},
   "outputs": [],
   "source": [
    "Base_Clusters = Carpeta + \"Clusters.xlsx\""
   ]
  },
  {
   "cell_type": "code",
   "execution_count": 8,
   "id": "621771af",
   "metadata": {},
   "outputs": [],
   "source": [
    "df_Clusters = pd.read_excel(Base_Clusters)"
   ]
  },
  {
   "cell_type": "code",
   "execution_count": 9,
   "id": "ec342b08",
   "metadata": {},
   "outputs": [],
   "source": [
    "# Obtener las columnas a transferir.\n",
    "Columnas_A_Transferir = ['Conservative_Vector',\n",
    "                         'Progressive_Vector', \n",
    "                         'Conservative_Cluster', \n",
    "                         'Progressive_Cluster']"
   ]
  },
  {
   "cell_type": "code",
   "execution_count": 10,
   "id": "c197aeb3",
   "metadata": {},
   "outputs": [],
   "source": [
    "# Iterar sobre cada tipo de elección.\n",
    "for Tipo_Election in dfs_Finales.keys():\n",
    "    \n",
    "    # Filtrar datos correspondientes a este tipo de elección.\n",
    "    Datos_Filtrados = df_Clusters[\n",
    "        df_Clusters['Election'] == Tipo_Election\n",
    "    ].copy()\n",
    "    \n",
    "    # Seleccionar solo ID y las columnas a transferir.\n",
    "    Datos_A_Mergear = Datos_Filtrados[\n",
    "        ['ID'] + Columnas_A_Transferir\n",
    "    ]\n",
    "    \n",
    "    # Realizar merge con el DataFrame correspondiente.\n",
    "    dfs_Finales[Tipo_Election] = dfs_Finales[Tipo_Election].merge(\n",
    "        Datos_A_Mergear, \n",
    "        on = 'ID', \n",
    "        how = 'left'\n",
    "    )"
   ]
  },
  {
   "cell_type": "code",
   "execution_count": null,
   "id": "b80c1678",
   "metadata": {},
   "outputs": [],
   "source": []
  }
 ],
 "metadata": {
  "kernelspec": {
   "display_name": "Python 3",
   "language": "python",
   "name": "python3"
  },
  "language_info": {
   "codemirror_mode": {
    "name": "ipython",
    "version": 3
   },
   "file_extension": ".py",
   "mimetype": "text/x-python",
   "name": "python",
   "nbconvert_exporter": "python",
   "pygments_lexer": "ipython3",
   "version": "3.11.9"
  }
 },
 "nbformat": 4,
 "nbformat_minor": 5
}
