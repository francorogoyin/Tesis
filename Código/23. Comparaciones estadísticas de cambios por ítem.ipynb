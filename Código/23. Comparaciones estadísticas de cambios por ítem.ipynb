{
 "cells": [
  {
   "cell_type": "code",
   "execution_count": 5,
   "id": "87471fb7",
   "metadata": {},
   "outputs": [],
   "source": [
    "# Librerías.\n",
    "import pandas as pd\n",
    "import Funciones as f\n",
    "import unidecode\n",
    "from docx import Document\n",
    "from docx.shared import Inches\n",
    "import os\n",
    "import matplotlib.pyplot as plt\n",
    "import seaborn as sns\n",
    "import numpy as np"
   ]
  },
  {
   "cell_type": "code",
   "execution_count": 6,
   "id": "ae815838",
   "metadata": {},
   "outputs": [],
   "source": [
    "%%capture\n",
    "%run \"22. Análisis post hoc de cambios promedios.ipynb\""
   ]
  },
  {
   "cell_type": "code",
   "execution_count": 7,
   "id": "550ebaf1",
   "metadata": {},
   "outputs": [],
   "source": [
    "# Definir las columnas de cambios de opinión por ítem individual.\n",
    "Columnas_Cambios = Columnas_CO_Pro + Columnas_CO_Con \n",
    "                    # + Columnas_CT_Pro + Columnas_CT_Con"
   ]
  },
  {
   "cell_type": "code",
   "execution_count": null,
   "id": "e0d924c0",
   "metadata": {},
   "outputs": [],
   "source": [
    "Diccionario_P_Valores = {'Generales':{},\n",
    "                         'Ballotage':{}}"
   ]
  },
  {
   "cell_type": "code",
   "execution_count": null,
   "id": "856630f6",
   "metadata": {},
   "outputs": [],
   "source": [
    "for Nombre_df, df in dfs_Finales.items():\n",
    "\n",
    "    print(\"\\n\" + \"=\"*50)\n",
    "    print(f\"Comparaciones estadísticas para el conjunto de datos: {Nombre_df}\")\n",
    "    print(\"\\n\" + \"=\"*50)\n",
    "\n",
    "    # Crear un DataFrame con las columnas necesarias.\n",
    "    df_Cambios_Item = df[['ID', 'Categoria_PASO_2023'] + Columnas_CO_Pro + Columnas_CO_Con \n",
    "        # + Columnas_CT_Pro + Columnas_CT_Con\n",
    "        ]\n",
    "    \n",
    "    # Filtrar filas con categorías válidas y sin valores nulos en las columnas de interés.\n",
    "    Categorias_Validas = [\n",
    "        'Left_Wing', \n",
    "        'Progressivism', \n",
    "        'Centre',\n",
    "        'Moderate_Right_A', \n",
    "        'Moderate_Right_B',\n",
    "        'Right_Wing_Libertarian'\n",
    "    ]\n",
    "\n",
    "    # Filtrar solo las categorías válidas\n",
    "    df_Cambios_Item = df_Cambios_Item[df_Cambios_Item['Categoria_PASO_2023'].isin(Categorias_Validas)]\n",
    "\n",
    "\n",
    "    from scipy.stats import kruskal\n",
    "\n",
    "    # Crear diccionario para almacenar resultados.\n",
    "    Resultados_Kruskal = {}\n",
    "\n",
    "    # Agrupar por categoría para cada columna y aplicar Kruskal-Wallis.\n",
    "    for Nombre_Columna in Columnas_Cambios:\n",
    "        Grupos = [\n",
    "            df_Cambios_Item[df_Cambios_Item['Categoria_PASO_2023'] == Categoria][Nombre_Columna].dropna()\n",
    "            for Categoria in Categorias_Validas\n",
    "        ]\n",
    "\n",
    "        # Verificar que todos los grupos tengan al menos dos datos.\n",
    "        if all(len(Grupo) > 1 for Grupo in Grupos):\n",
    "            Estadistico, P_Valor = kruskal(*Grupos)\n",
    "            Resultados_Kruskal[Nombre_Columna] = {\n",
    "                'Estadístico': Estadistico,\n",
    "                'Valor_p': P_Valor\n",
    "            }\n",
    "\n",
    "        # Convertir los resultados a DataFrame.\n",
    "        Tabla_Resultados_Kruskal = pd.DataFrame.from_dict(\n",
    "            Resultados_Kruskal, orient='index'\n",
    "        ).reset_index().rename(columns={\n",
    "            'index': 'Variable',\n",
    "            'Estadístico': 'Estadistico_Kruskal',\n",
    "            'Valor_p': 'Valor_p'\n",
    "        })\n",
    "        # Ordenar por p-valor ascendente.\n",
    "        Tabla_Resultados_Kruskal = Tabla_Resultados_Kruskal.sort_values(\n",
    "            by='Valor_p'\n",
    "        ).reset_index(drop=True)\n",
    "        Tabla_Valor_P_Menor_005 = Tabla_Resultados_Kruskal[\n",
    "            Tabla_Resultados_Kruskal['Valor_p'] < 0.05\n",
    "        ]\n",
    "    \n",
    "    # Mostrar la tabla de resultados.\n",
    "    print(Tabla_Resultados_Kruskal)\n",
    "\n",
    "    # Extraer las variables significativas.\n",
    "    Variables_Significativas_Items = Tabla_Valor_P_Menor_005['Variable'].tolist()\n",
    "\n",
    "    # Guardar las variables significativas en el diccionario global.\n",
    "    Todas_Variables_Significativas['Cambios_Por_Item_Significativos'][Nombre_df] = Variables_Significativas_Items\n",
    "\n",
    "    # Mostrar resultados.\n",
    "    print(f\"Variables significativas para {Nombre_df}: {len(Variables_Significativas_Items)} variables\")\n",
    "    print(Variables_Significativas_Items)\n",
    "\n",
    "    # Recolectar p-valores en el diccionario.\n",
    "    for _, Fila in Tabla_Resultados_Kruskal.iterrows():\n",
    "        Variable = Fila['Variable']\n",
    "        P_Valor = Fila['Valor_p']\n",
    "        Diccionario_P_Valores[Nombre_df][Variable] = P_Valor"
   ]
  },
  {
   "cell_type": "code",
   "execution_count": null,
   "id": "3bb2f004",
   "metadata": {},
   "outputs": [],
   "source": []
  }
 ],
 "metadata": {
  "kernelspec": {
   "display_name": "Python 3",
   "language": "python",
   "name": "python3"
  },
  "language_info": {
   "codemirror_mode": {
    "name": "ipython",
    "version": 3
   },
   "file_extension": ".py",
   "mimetype": "text/x-python",
   "name": "python",
   "nbconvert_exporter": "python",
   "pygments_lexer": "ipython3",
   "version": "3.11.9"
  }
 },
 "nbformat": 4,
 "nbformat_minor": 5
}
