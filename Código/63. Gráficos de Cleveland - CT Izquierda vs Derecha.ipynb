{
 "cells": [
  {
   "cell_type": "markdown",
   "metadata": {},
   "source": [
    "# Gráficos de Cleveland: CT Izquierda vs Derecha\n",
    "\n",
    "Este notebook genera **gráficos de Cleveland** para visualizar el Cambio de Tiempo (CT) comparando candidatos de **Izquierda** vs **Derecha** por ítem.\n",
    "\n",
    "## Concepto:\n",
    "\n",
    "Para cada ítem mostramos:\n",
    "- **Punto azul (●)**: Tiempo promedio en candidatos de **Izquierda**\n",
    "- **Punto rojo (●)**: Tiempo promedio en candidatos de **Derecha**\n",
    "- **Línea conectando**: Muestra la asimetría ideológica\n",
    "- **Color de línea**:\n",
    "  - Azul: Mayor tiempo en Izquierda (>0.5 seg)\n",
    "  - Gris: Tiempos similares (±0.5 seg)\n",
    "  - Rojo: Mayor tiempo en Derecha (<-0.5 seg)\n",
    "\n",
    "## Interpretación:\n",
    "\n",
    "- **Valores más altos**: Mayor tiempo de respuesta\n",
    "- **Línea hacia la derecha**: Más tiempo en candidatos de Izquierda\n",
    "- **Línea hacia la izquierda**: Más tiempo en candidatos de Derecha\n",
    "- **Hipótesis**: Diferencias pueden indicar procesamiento más deliberado según afinidad ideológica"
   ]
  },
  {
   "cell_type": "code",
   "execution_count": null,
   "metadata": {},
   "outputs": [],
   "source": [
    "import pandas as pd\n",
    "import numpy as np\n",
    "import matplotlib.pyplot as plt\n",
    "import seaborn as sns\n",
    "import os\n",
    "from matplotlib.lines import Line2D\n",
    "from scipy import stats\n",
    "import warnings\n",
    "warnings.filterwarnings('ignore')\n",
    "\n",
    "# Configurar estilo\n",
    "plt.style.use('seaborn-v0_8-darkgrid')\n",
    "sns.set_palette('husl')\n",
    "\n",
    "print('✓ Librerías cargadas exitosamente')"
   ]
  },
  {
   "cell_type": "markdown",
   "metadata": {},
   "source": [
    "## 1. Cargar Datos"
   ]
  },
  {
   "cell_type": "code",
   "execution_count": null,
   "metadata": {},
   "outputs": [],
   "source": [
    "# Rutas a los archivos\n",
    "Ruta_Base = os.path.join(os.getcwd(), '..', 'Data', 'Bases definitivas')\n",
    "Archivo_Generales = os.path.join(Ruta_Base, 'Generales.xlsx')\n",
    "Archivo_Ballotage = os.path.join(Ruta_Base, 'Ballotage.xlsx')\n",
    "\n",
    "# Cargar datos\n",
    "df_Generales = pd.read_excel(Archivo_Generales)\n",
    "df_Ballotage = pd.read_excel(Archivo_Ballotage)\n",
    "\n",
    "dfs = {\n",
    "    'Generales': df_Generales,\n",
    "    'Ballotage': df_Ballotage\n",
    "}\n",
    "\n",
    "print(f'✓ Datos cargados:')\n",
    "print(f'  - Generales: {len(df_Generales)} registros')\n",
    "print(f'  - Ballotage: {len(df_Ballotage)} registros')\n",
    "\n",
    "# Verificar columnas CT\n",
    "for nombre, df in dfs.items():\n",
    "    columnas_ct_izq = [col for col in df.columns if col.startswith('CT_Item_') and col.endswith('_Izq')]\n",
    "    columnas_ct_der = [col for col in df.columns if col.startswith('CT_Item_') and col.endswith('_Der')]\n",
    "    print(f'\\n  {nombre}:')\n",
    "    print(f'    Variables CT_Izq: {len(columnas_ct_izq)}')\n",
    "    print(f'    Variables CT_Der: {len(columnas_ct_der)}')"
   ]
  },
  {
   "cell_type": "markdown",
   "metadata": {},
   "source": [
    "## 2. Preparar Datos para Gráfico"
   ]
  },
  {
   "cell_type": "code",
   "execution_count": null,
   "metadata": {},
   "outputs": [],
   "source": [
    "# Definir ítems\n",
    "Items_Progresistas = [5, 6, 9, 11, 16, 20, 24, 25, 27, 28]\n",
    "Items_Conservadores = [3, 4, 7, 8, 10, 19, 22, 23, 29, 30]\n",
    "Todos_Items = sorted(Items_Progresistas + Items_Conservadores)\n",
    "\n",
    "print(f'Total de ítems: {len(Todos_Items)}')\n",
    "print(f'Ítems: {Todos_Items}')"
   ]
  },
  {
   "cell_type": "code",
   "execution_count": null,
   "metadata": {},
   "outputs": [],
   "source": "# Calcular promedios por ítem para cada dataset\ndef Preparar_Datos_Por_Item(df, items):\n    \"\"\"\n    Calcula promedios de CT_Izq y CT_Der por ítem.\n    Incluye test t pareado para significancia estadística.\n    \"\"\"\n    datos = []\n    \n    for item in items:\n        var_izq = f'CT_Item_{item}_Izq'\n        var_der = f'CT_Item_{item}_Der'\n        \n        if var_izq in df.columns and var_der in df.columns:\n            # Calcular promedios (ignorando NaN)\n            media_izq = df[var_izq].mean()\n            media_der = df[var_der].mean()\n            \n            # Calcular diferencia (Izq - Der)\n            diferencia = media_izq - media_der\n            \n            # Determinar tipo de ítem\n            tipo = 'Progresista' if item in Items_Progresistas else 'Conservador'\n            \n            # Test t pareado para significancia\n            datos_pareados = df[[var_izq, var_der]].dropna()\n            if len(datos_pareados) > 1:\n                from scipy.stats import ttest_rel\n                try:\n                    t_stat, p_valor = ttest_rel(datos_pareados[var_izq], \n                                                datos_pareados[var_der])\n                    \n                    # Determinar asteriscos de significancia\n                    if p_valor < 0.001:\n                        sig = '***'\n                    elif p_valor < 0.01:\n                        sig = '**'\n                    elif p_valor < 0.05:\n                        sig = '*'\n                    else:\n                        sig = ''\n                except:\n                    p_valor = np.nan\n                    sig = ''\n            else:\n                p_valor = np.nan\n                sig = ''\n            \n            datos.append({\n                'Item': item,\n                'Tipo': tipo,\n                'CT_Izquierda': media_izq,\n                'CT_Derecha': media_der,\n                'Diferencia': diferencia,\n                'p_valor': p_valor,\n                'Significancia': sig\n            })\n    \n    return pd.DataFrame(datos)\n\n# Preparar datos para ambos datasets\ndatos_graficos = {}\nfor nombre, df in dfs.items():\n    datos_graficos[nombre] = Preparar_Datos_Por_Item(df, Todos_Items)\n    print(f'\\n{nombre}: {len(datos_graficos[nombre])} ítems preparados')\n    print(datos_graficos[nombre][['Item', 'Tipo', 'CT_Izquierda', 'CT_Derecha', 'Diferencia', 'Significancia']].head(10))"
  },
  {
   "cell_type": "markdown",
   "metadata": {},
   "source": [
    "## 3. Función para Crear Gráfico de Cleveland"
   ]
  },
  {
   "cell_type": "code",
   "execution_count": null,
   "metadata": {},
   "outputs": [],
   "source": "def Crear_Grafico_Cleveland_CT(df, titulo, nombre_archivo=None, carpeta_destino='Graficos_Cleveland'):\n    \"\"\"\n    Crea un gráfico de Cleveland mostrando CT Izquierda vs Derecha.\n    Incluye asteriscos para indicar significancia estadística.\n    \"\"\"\n    \n    # Crear carpeta si no existe\n    if not os.path.exists(carpeta_destino):\n        os.makedirs(carpeta_destino)\n    \n    # Ordenar por diferencia (descendente)\n    df_sorted = df.sort_values('Diferencia', ascending=True).reset_index(drop=True)\n    \n    # Crear figura\n    fig, ax = plt.subplots(figsize=(12, 10))\n    \n    # Parámetros visuales\n    y_positions = np.arange(len(df_sorted))\n    \n    # Dibujar líneas conectando los puntos\n    for idx, row in df_sorted.iterrows():\n        izq_val = row['CT_Izquierda']\n        der_val = row['CT_Derecha']\n        diferencia = row['Diferencia']\n        \n        # Determinar color de línea según diferencia\n        if diferencia > 0.5:  # Más tiempo en Izquierda\n            color_linea = '#3498db'  # Azul\n            alpha = 0.6\n        elif diferencia < -0.5:  # Más tiempo en Derecha\n            color_linea = '#e74c3c'  # Rojo\n            alpha = 0.6\n        else:  # Diferencia pequeña\n            color_linea = '#95a5a6'  # Gris\n            alpha = 0.3\n        \n        # Dibujar línea\n        ax.plot([der_val, izq_val], [idx, idx], \n                color=color_linea, linewidth=1.5, alpha=alpha, zorder=1)\n    \n    # Dibujar puntos de Izquierda\n    ax.scatter(df_sorted['CT_Izquierda'], y_positions, \n               s=120, c='#3498db', marker='o', \n               edgecolors='white', linewidths=1.5,\n               label='Izquierda', zorder=3, alpha=0.8)\n    \n    # Dibujar puntos de Derecha\n    ax.scatter(df_sorted['CT_Derecha'], y_positions, \n               s=120, c='#e74c3c', marker='o', \n               edgecolors='white', linewidths=1.5,\n               label='Derecha', zorder=3, alpha=0.8)\n    \n    # Configurar ejes con asteriscos de significancia\n    ax.set_yticks(y_positions)\n    etiquetas_con_sig = [f\"Ítem {int(row['Item'])} {row['Significancia']}\" if row['Significancia'] else f\"Ítem {int(row['Item'])}\" \n                         for _, row in df_sorted.iterrows()]\n    ax.set_yticklabels(etiquetas_con_sig, fontsize=10)\n    \n    ax.set_xlabel('Tiempo de Respuesta (segundos)', fontsize=12, fontweight='bold')\n    ax.set_ylabel('Ítem', fontsize=12, fontweight='bold')\n    ax.set_title(titulo, fontsize=14, fontweight='bold', pad=20)\n    \n    # Grid\n    ax.grid(True, axis='x', alpha=0.3, linestyle=':', linewidth=0.5)\n    ax.set_axisbelow(True)\n    \n    # Leyenda personalizada\n    legend_elements = [\n        Line2D([0], [0], marker='o', color='w', markerfacecolor='#3498db', \n               markersize=10, label='Izquierda', markeredgecolor='white', markeredgewidth=1),\n        Line2D([0], [0], marker='o', color='w', markerfacecolor='#e74c3c', \n               markersize=10, label='Derecha', markeredgecolor='white', markeredgewidth=1),\n        Line2D([0], [0], color='#3498db', linewidth=2, label='Más tiempo Izq (>0.5s)'),\n        Line2D([0], [0], color='#95a5a6', linewidth=2, label='Similar (±0.5s)'),\n        Line2D([0], [0], color='#e74c3c', linewidth=2, label='Más tiempo Der (<-0.5s)'),\n        Line2D([0], [0], marker='', color='w', label='* p<0.05, ** p<0.01, *** p<0.001')\n    ]\n    \n    ax.legend(handles=legend_elements, loc='lower right', fontsize=10, \n              framealpha=0.95, edgecolor='gray')\n    \n    # Ajustar layout\n    plt.tight_layout()\n    \n    # Guardar\n    if nombre_archivo:\n        ruta_completa = os.path.join(carpeta_destino, f'{nombre_archivo}.svg')\n        plt.savefig(ruta_completa.replace('.png', '.svg'), format='svg', bbox_inches='tight', facecolor='white')\n        print(f'✅ Gráfico guardado: {ruta_completa}')\n    \n    plt.show()\n    \n    return fig, ax"
  },
  {
   "cell_type": "markdown",
   "metadata": {},
   "source": [
    "## 4. Gráficos por Dataset"
   ]
  },
  {
   "cell_type": "code",
   "execution_count": null,
   "metadata": {},
   "outputs": [],
   "source": [
    "# Crear gráfico para Generales\n",
    "print('Generando gráfico para Generales...\\n')\n",
    "fig_gen, ax_gen = Crear_Grafico_Cleveland_CT(\n",
    "    datos_graficos['Generales'],\n",
    "    titulo='Tiempo de Respuesta: Izquierda vs Derecha - Generales',\n",
    "    nombre_archivo='Cleveland_CT_Izquierda_vs_Derecha_Generales'\n",
    ")"
   ]
  },
  {
   "cell_type": "code",
   "execution_count": null,
   "metadata": {},
   "outputs": [],
   "source": [
    "# Crear gráfico para Ballotage\n",
    "print('Generando gráfico para Ballotage...\\n')\n",
    "fig_bal, ax_bal = Crear_Grafico_Cleveland_CT(\n",
    "    datos_graficos['Ballotage'],\n",
    "    titulo='Tiempo de Respuesta: Izquierda vs Derecha - Ballotage',\n",
    "    nombre_archivo='Cleveland_CT_Izquierda_vs_Derecha_Ballotage'\n",
    ")"
   ]
  },
  {
   "cell_type": "markdown",
   "metadata": {},
   "source": "## 4.1. Análisis de Significancia Estadística"
  },
  {
   "cell_type": "code",
   "execution_count": null,
   "metadata": {},
   "outputs": [],
   "source": "print('='*70)\nprint('ANÁLISIS DE SIGNIFICANCIA ESTADÍSTICA')\nprint('Test t Pareado: CT Izquierda vs Derecha')\nprint('='*70)\n\nfor nombre, df_datos in datos_graficos.items():\n    print(f'\\n📊 {nombre}:')\n    print('-'*70)\n    \n    # Filtrar ítems con significancia\n    sig_items = df_datos[df_datos['Significancia'] != ''].copy()\n    \n    if len(sig_items) > 0:\n        print(f'\\n✅ Ítems con diferencias significativas: {len(sig_items)}/{len(df_datos)}')\n        \n        # Separar por dirección\n        sig_mas_izq = sig_items[sig_items['Diferencia'] > 0]\n        sig_mas_der = sig_items[sig_items['Diferencia'] < 0]\n        \n        if len(sig_mas_izq) > 0:\n            print(f'\\n  Más tiempo en IZQUIERDA ({len(sig_mas_izq)} ítems):')\n            for _, row in sig_mas_izq.iterrows():\n                print(f\"    {row['Significancia']:3s} Ítem {int(row['Item']):2d} ({row['Tipo']:12s}) | Dif: {row['Diferencia']:6.3f}s | p={row['p_valor']:.4f}\")\n        \n        if len(sig_mas_der) > 0:\n            print(f'\\n  Más tiempo en DERECHA ({len(sig_mas_der)} ítems):')\n            for _, row in sig_mas_der.iterrows():\n                print(f\"    {row['Significancia']:3s} Ítem {int(row['Item']):2d} ({row['Tipo']:12s}) | Dif: {row['Diferencia']:6.3f}s | p={row['p_valor']:.4f}\")\n    else:\n        print('\\n❌ No hay ítems con diferencias significativas (p < 0.05)')\n    \n    # Ítems no significativos\n    no_sig = df_datos[df_datos['Significancia'] == '']\n    if len(no_sig) > 0:\n        print(f'\\n⚪ Ítems sin diferencias significativas: {len(no_sig)}/{len(df_datos)}')\n    \n    print('\\n' + '-'*70)\n\nprint('\\n' + '='*70)\nprint('Niveles de significancia: * p<0.05, ** p<0.01, *** p<0.001')\nprint('='*70)"
  },
  {
   "cell_type": "markdown",
   "metadata": {},
   "source": [
    "## 5. Análisis Estadístico de Diferencias"
   ]
  },
  {
   "cell_type": "code",
   "execution_count": null,
   "metadata": {},
   "outputs": [],
   "source": [
    "print('='*70)\n",
    "print('ANÁLISIS: CT IZQUIERDA VS DERECHA')\n",
    "print('='*70)\n",
    "\n",
    "for nombre, df_datos in datos_graficos.items():\n",
    "    print(f'\\n📊 {nombre}:')\n",
    "    print('-'*70)\n",
    "    \n",
    "    print(f'\\nEstadísticas Generales:')\n",
    "    print(f'  Promedio CT_Izquierda: {df_datos[\"CT_Izquierda\"].mean():.3f} seg')\n",
    "    print(f'  Promedio CT_Derecha: {df_datos[\"CT_Derecha\"].mean():.3f} seg')\n",
    "    print(f'  Diferencia promedio (Izq - Der): {df_datos[\"Diferencia\"].mean():.3f} seg')\n",
    "    \n",
    "    print(f'\\nDistribución de Diferencias:')\n",
    "    mayor_izq = len(df_datos[df_datos['Diferencia'] > 0.5])\n",
    "    similares = len(df_datos[(df_datos['Diferencia'] >= -0.5) & (df_datos['Diferencia'] <= 0.5)])\n",
    "    mayor_der = len(df_datos[df_datos['Diferencia'] < -0.5])\n",
    "    \n",
    "    print(f'  Mayor tiempo en Izquierda (>0.5s): {mayor_izq} ítems ({mayor_izq/len(df_datos)*100:.1f}%)')\n",
    "    print(f'  Similar (±0.5s): {similares} ítems ({similares/len(df_datos)*100:.1f}%)')\n",
    "    print(f'  Mayor tiempo en Derecha (<-0.5s): {mayor_der} ítems ({mayor_der/len(df_datos)*100:.1f}%)')\n",
    "    \n",
    "    print(f'\\nTop 5 Ítems con MÁS tiempo en Izquierda:')\n",
    "    print('-'*70)\n",
    "    top_izq = df_datos.nlargest(5, 'Diferencia')[['Item', 'Tipo', 'CT_Izquierda', 'CT_Derecha', 'Diferencia']]\n",
    "    print(top_izq.to_string(index=False))\n",
    "    \n",
    "    print(f'\\nTop 5 Ítems con MÁS tiempo en Derecha:')\n",
    "    print('-'*70)\n",
    "    top_der = df_datos.nsmallest(5, 'Diferencia')[['Item', 'Tipo', 'CT_Izquierda', 'CT_Derecha', 'Diferencia']]\n",
    "    print(top_der.to_string(index=False))\n",
    "    \n",
    "    print('\\n' + '-'*70)\n",
    "\n",
    "print('\\n' + '='*70)"
   ]
  },
  {
   "cell_type": "markdown",
   "metadata": {},
   "source": [
    "## 6. Test Estadístico: ¿Son Diferentes?"
   ]
  },
  {
   "cell_type": "code",
   "execution_count": null,
   "metadata": {},
   "outputs": [],
   "source": [
    "print('='*70)\n",
    "print('TEST ESTADÍSTICO')\n",
    "print('='*70)\n",
    "\n",
    "for nombre, df_datos in datos_graficos.items():\n",
    "    print(f'\\n📊 {nombre}:')\n",
    "    print('-'*70)\n",
    "    \n",
    "    # Test t pareado\n",
    "    t_stat, p_value = stats.ttest_rel(df_datos['CT_Izquierda'], df_datos['CT_Derecha'])\n",
    "    \n",
    "    print(f'\\nTest t Pareado:')\n",
    "    print(f'  H0: No hay diferencia entre CT_Izquierda y CT_Derecha')\n",
    "    print(f'  Ha: Hay diferencia significativa')\n",
    "    print(f'\\n  Estadístico t: {t_stat:.4f}')\n",
    "    print(f'  Valor p: {p_value:.4f}')\n",
    "    \n",
    "    if p_value < 0.05:\n",
    "        print(f'\\n  ✅ SIGNIFICATIVO (p < 0.05)')\n",
    "        if df_datos['Diferencia'].mean() > 0:\n",
    "            print(f'     El tiempo es SIGNIFICATIVAMENTE MAYOR en candidatos de Izquierda')\n",
    "        else:\n",
    "            print(f'     El tiempo es SIGNIFICATIVAMENTE MAYOR en candidatos de Derecha')\n",
    "    else:\n",
    "        print(f'\\n  ❌ NO SIGNIFICATIVO (p ≥ 0.05)')\n",
    "        print(f'     No hay diferencia significativa entre candidatos')\n",
    "    \n",
    "    # Tamaño del efecto\n",
    "    diferencias = df_datos['CT_Izquierda'] - df_datos['CT_Derecha']\n",
    "    d_cohen = diferencias.mean() / diferencias.std()\n",
    "    \n",
    "    print(f'\\n  Tamaño del efecto (d de Cohen): {d_cohen:.4f}')\n",
    "    if abs(d_cohen) < 0.2:\n",
    "        magnitud = 'PEQUEÑO'\n",
    "    elif abs(d_cohen) < 0.5:\n",
    "        magnitud = 'MEDIANO'\n",
    "    else:\n",
    "        magnitud = 'GRANDE'\n",
    "    print(f'  Magnitud: {magnitud}')\n",
    "    \n",
    "    print('\\n' + '-'*70)\n",
    "\n",
    "print('\\n' + '='*70)"
   ]
  },
  {
   "cell_type": "markdown",
   "metadata": {},
   "source": [
    "## 7. Análisis por Tipo de Ítem"
   ]
  },
  {
   "cell_type": "code",
   "execution_count": null,
   "metadata": {},
   "outputs": [],
   "source": [
    "print('='*70)\n",
    "print('ANÁLISIS POR TIPO DE ÍTEM')\n",
    "print('='*70)\n",
    "\n",
    "for nombre, df_datos in datos_graficos.items():\n",
    "    print(f'\\n📊 {nombre}:')\n",
    "    print('-'*70)\n",
    "    \n",
    "    # Agrupar por tipo\n",
    "    por_tipo = df_datos.groupby('Tipo').agg({\n",
    "        'CT_Izquierda': ['mean', 'std'],\n",
    "        'CT_Derecha': ['mean', 'std'],\n",
    "        'Diferencia': ['mean', 'std'],\n",
    "        'Item': 'count'\n",
    "    }).round(3)\n",
    "    \n",
    "    print('\\nEstadísticas por Tipo:')\n",
    "    print(por_tipo)\n",
    "    \n",
    "    print('\\nInterpretación Teórica:')\n",
    "    df_prog = df_datos[df_datos['Tipo'] == 'Progresista']\n",
    "    df_cons = df_datos[df_datos['Tipo'] == 'Conservador']\n",
    "    \n",
    "    dif_prog = df_prog['Diferencia'].mean()\n",
    "    dif_cons = df_cons['Diferencia'].mean()\n",
    "    \n",
    "    print(f'\\n  Ítems Progresistas:')\n",
    "    print(f'    - Diferencia promedio (Izq - Der): {dif_prog:.3f} seg')\n",
    "    if dif_prog > 0.5:\n",
    "        print(f'    - ✅ ESPERADO: Candidatos de Izquierda tardan MÁS')\n",
    "    elif dif_prog < -0.5:\n",
    "        print(f'    - ⚠️  INESPERADO: Candidatos de Derecha tardan MÁS')\n",
    "    else:\n",
    "        print(f'    - ➖ Sin diferencia clara')\n",
    "    \n",
    "    print(f'\\n  Ítems Conservadores:')\n",
    "    print(f'    - Diferencia promedio (Izq - Der): {dif_cons:.3f} seg')\n",
    "    if dif_cons < -0.5:\n",
    "        print(f'    - ✅ ESPERADO: Candidatos de Derecha tardan MÁS')\n",
    "    elif dif_cons > 0.5:\n",
    "        print(f'    - ⚠️  INESPERADO: Candidatos de Izquierda tardan MÁS')\n",
    "    else:\n",
    "        print(f'    - ➖ Sin diferencia clara')\n",
    "    \n",
    "    print('\\n  Patrón de Interacción:')\n",
    "    if (dif_prog > 0 and dif_cons < 0) or (dif_prog < 0 and dif_cons > 0):\n",
    "        print('    ✅ HAY INTERACCIÓN: El efecto cambia según tipo de ítem')\n",
    "    else:\n",
    "        print('    ➖ NO HAY INTERACCIÓN: El efecto es consistente')\n",
    "    \n",
    "    print('\\n' + '-'*70)\n",
    "\n",
    "print('\\n' + '='*70)"
   ]
  },
  {
   "cell_type": "markdown",
   "metadata": {},
   "source": [
    "## 8. Guardar Tablas Resumen"
   ]
  },
  {
   "cell_type": "code",
   "execution_count": null,
   "metadata": {},
   "outputs": [],
   "source": [
    "# Crear carpeta de salida\n",
    "Carpeta_Salida = os.path.join(os.getcwd(), '..', 'Data', 'Resultados_Cleveland')\n",
    "if not os.path.exists(Carpeta_Salida):\n",
    "    os.makedirs(Carpeta_Salida)\n",
    "\n",
    "# Guardar tablas\n",
    "for nombre, df_datos in datos_graficos.items():\n",
    "    archivo = os.path.join(Carpeta_Salida, f'Resumen_CT_Izquierda_vs_Derecha_{nombre}.xlsx')\n",
    "    df_datos.to_excel(archivo, index=False)\n",
    "    print(f'✅ Guardado: {archivo}')"
   ]
  },
  {
   "cell_type": "markdown",
   "metadata": {},
   "source": [
    "## 9. Resumen Final"
   ]
  },
  {
   "cell_type": "code",
   "execution_count": null,
   "metadata": {},
   "outputs": [],
   "source": [
    "print('='*70)\n",
    "print('RESUMEN: CT IZQUIERDA VS DERECHA')\n",
    "print('='*70)\n",
    "\n",
    "print('\\n📊 Análisis completado:')\n",
    "print(f'  - Datasets analizados: 2 (Generales y Ballotage)')\n",
    "print(f'  - Ítems analizados: {len(Todos_Items)}')\n",
    "print(f'  - Gráficos generados: 2 (Cleveland plots)')\n",
    "\n",
    "print('\\n📁 Archivos generados:')\n",
    "print('  - Cleveland_CT_Izquierda_vs_Derecha_Generales.png')\n",
    "print('  - Cleveland_CT_Izquierda_vs_Derecha_Ballotage.png')\n",
    "print('  - Resumen_CT_Izquierda_vs_Derecha_Generales.xlsx')\n",
    "print('  - Resumen_CT_Izquierda_vs_Derecha_Ballotage.xlsx')\n",
    "\n",
    "print('\\n💡 Interpretación:')\n",
    "print('  - Mayor tiempo puede indicar procesamiento más deliberado')\n",
    "print('  - Hipótesis: Mayor tiempo en contenido ideológicamente afín')\n",
    "\n",
    "print('\\n' + '='*70)\n",
    "print('✅ ANÁLISIS COMPLETADO')\n",
    "print('='*70)"
   ]
  }
 ],
 "metadata": {
  "kernelspec": {
   "display_name": "Python 3",
   "language": "python",
   "name": "python3"
  },
  "language_info": {
   "name": "python",
   "version": "3.8.0"
  }
 },
 "nbformat": 4,
 "nbformat_minor": 4
}