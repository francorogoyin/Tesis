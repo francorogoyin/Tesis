{
 "cells": [
  {
   "cell_type": "code",
   "execution_count": 1,
   "id": "87471fb7",
   "metadata": {},
   "outputs": [],
   "source": [
    "# Librerías.\n",
    "import pandas as pd\n",
    "import Funciones as f\n",
    "import unidecode\n",
    "from docx import Document\n",
    "from docx.shared import Inches\n",
    "import os\n",
    "import matplotlib.pyplot as plt\n",
    "import seaborn as sns\n",
    "import numpy as np\n",
    "import scikit_posthocs as sp\n",
    "import openpyxl\n",
    "from openpyxl import Workbook\n",
    "from openpyxl.utils import get_column_letter\n",
    "from openpyxl.styles import Font"
   ]
  },
  {
   "cell_type": "code",
   "execution_count": 2,
   "id": "ae815838",
   "metadata": {},
   "outputs": [],
   "source": [
    "%%capture\n",
    "%run \"27. Nuevo CO Sumados.ipynb\""
   ]
  },
  {
   "cell_type": "code",
   "execution_count": null,
   "id": "b0ef1fb2",
   "metadata": {},
   "outputs": [],
   "source": [
    "for Nombre_df, df in dfs_Finales.items():\n",
    "    print(f\"\\n--- Procesando DataFrame: {Nombre_df} ---\")\n",
    "\n",
    "    Items_Significativos_Opinion = Todas_Variables_Significativas['Cambios_Por_Item_Significativos'][Nombre_df]\n",
    "\n",
    "    # Filtrar ítems significativos por cada categoría.\n",
    "    Items_CO_Pro_Izq_Significativos = [\n",
    "        Item for Item in Items_Significativos_Opinion \n",
    "        if Item in CO_Progresistas_Izquierda\n",
    "    ]\n",
    "\n",
    "    print(f\"Ítems CO Progresistas Izquierda Significativos: {Items_CO_Pro_Izq_Significativos}\")\n",
    "\n",
    "    Items_CO_Pro_Der_Significativos = [\n",
    "        Item for Item in Items_Significativos_Opinion \n",
    "        if Item in CO_Progresistas_Derecha\n",
    "    ]\n",
    "\n",
    "    print(f\"Ítems CO Progresistas Derecha Significativos: {Items_CO_Pro_Der_Significativos}\")\n",
    "    \n",
    "    Items_CO_Con_Izq_Significativos = [\n",
    "        Item for Item in Items_Significativos_Opinion \n",
    "        if Item in CO_Conservadores_Izquierda\n",
    "    ]\n",
    "\n",
    "    print(f\"Ítems CO Conservadores Izquierda Significativos: {Items_CO_Con_Izq_Significativos}\")\n",
    "    \n",
    "    Items_CO_Con_Der_Significativos = [\n",
    "        Item for Item in Items_Significativos_Opinion \n",
    "        if Item in CO_Conservadores_Derecha\n",
    "    ]\n",
    "\n",
    "    print(f\"Ítems CO Conservadores Derecha Significativos: {Items_CO_Con_Der_Significativos}\")\n",
    "\n",
    "    # Columnas de Cambio de Opinión Filtradas.\n",
    "    df['Cambio_Op_Filt_Pro_Izq'] = (\n",
    "        df[Items_CO_Pro_Izq_Significativos].sum(axis=1) \n",
    "        if Items_CO_Pro_Izq_Significativos else 0\n",
    "    )\n",
    "    \n",
    "    df['Cambio_Op_Filt_Pro_Der'] = (\n",
    "        df[Items_CO_Pro_Der_Significativos].sum(axis=1) \n",
    "        if Items_CO_Pro_Der_Significativos else 0\n",
    "    )\n",
    "    \n",
    "    df['Cambio_Op_Filt_Con_Izq'] = (\n",
    "        df[Items_CO_Con_Izq_Significativos].sum(axis=1) \n",
    "        if Items_CO_Con_Izq_Significativos else 0\n",
    "    )\n",
    "    \n",
    "    df['Cambio_Op_Filt_Con_Der'] = (\n",
    "        df[Items_CO_Con_Der_Significativos].sum(axis=1) \n",
    "        if Items_CO_Con_Der_Significativos else 0\n",
    "    )\n",
    "\n",
    "    print(f\"--- Finalizado procesamiento de {Nombre_df} ---\\n\")"
   ]
  },
  {
   "cell_type": "code",
   "execution_count": null,
   "id": "a7bacbce",
   "metadata": {},
   "outputs": [],
   "source": []
  }
 ],
 "metadata": {
  "kernelspec": {
   "display_name": "Python 3",
   "language": "python",
   "name": "python3"
  },
  "language_info": {
   "codemirror_mode": {
    "name": "ipython",
    "version": 3
   },
   "file_extension": ".py",
   "mimetype": "text/x-python",
   "name": "python",
   "nbconvert_exporter": "python",
   "pygments_lexer": "ipython3",
   "version": "3.11.9"
  }
 },
 "nbformat": 4,
 "nbformat_minor": 5
}
