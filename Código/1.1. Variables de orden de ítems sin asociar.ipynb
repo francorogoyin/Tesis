{
 "cells": [
  {
   "cell_type": "code",
   "execution_count": 6,
   "id": "1d3e3a05",
   "metadata": {},
   "outputs": [],
   "source": [
    "# Librerías.\n",
    "import pandas as pd\n",
    "import Funciones as f\n",
    "import unidecode\n",
    "import json"
   ]
  },
  {
   "cell_type": "code",
   "execution_count": null,
   "id": "bbe63d25",
   "metadata": {},
   "outputs": [],
   "source": [
    "%%capture\n",
    "%run \"1. Armar databases de datos crudos.ipynb\""
   ]
  },
  {
   "cell_type": "code",
   "execution_count": 8,
   "id": "4d9c21b2",
   "metadata": {},
   "outputs": [],
   "source": [
    "df_Columnas_Orden_IP_Items = []"
   ]
  },
  {
   "cell_type": "code",
   "execution_count": 9,
   "id": "63f74ba7",
   "metadata": {},
   "outputs": [],
   "source": [
    "for i, df in enumerate(Dataframes_Procesados):\n",
    "\n",
    "    # Filtramos y nos quedamos solo con la columna 'results'.\n",
    "    df = df[['id', 'results']].copy()\n",
    "\n",
    "    # Eliminar filas en blanco.\n",
    "    df = df[df['results'].notna()].reset_index(drop=True)\n",
    "\n",
    "    # Crear columnas con el orden de los IP Items y el último IP Item.\n",
    "    df = f.Crear_Variables_De_Orden_IP_Items(df)\n",
    "\n",
    "    # Crear columnas con el orden de los IP Items y el último IP Item.\n",
    "    df = f.Crear_Variables_De_Orden_IP_Items_Asociados(df)\n",
    "\n",
    "    # Crear columna con primeros 3 primeros IP Items asociados.\n",
    "    df = f.Crear_Primeros_IP_Items_Asociados(df, 3)\n",
    "\n",
    "    # Nos quedamos solo con las columnas de interés.\n",
    "    df = df[['id', 'results',\n",
    "             'Orden_IP_Items', 'Ultimo_IP_Item',\n",
    "             'Orden_IP_Items_Asociados', 'Primeros_IP_Items_Asociados',\n",
    "             'Ultimo_IP_Item_Asociado']]\n",
    "\n",
    "    # Modificar df original.\n",
    "    Dataframes_Procesados[i] = df"
   ]
  }
 ],
 "metadata": {
  "kernelspec": {
   "display_name": "Python 3",
   "language": "python",
   "name": "python3"
  },
  "language_info": {
   "codemirror_mode": {
    "name": "ipython",
    "version": 3
   },
   "file_extension": ".py",
   "mimetype": "text/x-python",
   "name": "python",
   "nbconvert_exporter": "python",
   "pygments_lexer": "ipython3",
   "version": "3.11.9"
  }
 },
 "nbformat": 4,
 "nbformat_minor": 5
}
