{
 "cells": [
  {
   "cell_type": "code",
   "execution_count": 1,
   "id": "7739012a",
   "metadata": {},
   "outputs": [],
   "source": [
    "# Librerías.\n",
    "import pandas as pd\n",
    "import Funciones as f\n",
    "import unidecode"
   ]
  },
  {
   "cell_type": "code",
   "execution_count": null,
   "id": "4b7424ac",
   "metadata": {},
   "outputs": [],
   "source": [
    "%%capture\n",
    "%run \"16. Eliminacion de outliers por categoría.ipynb\""
   ]
  },
  {
   "cell_type": "code",
   "execution_count": 3,
   "id": "2380320c",
   "metadata": {},
   "outputs": [],
   "source": [
    "# Criterio 2: Tiempos de respuesta mayores a tres desvíos estándar.\n",
    "\n",
    "# Obtener todas las Columnas.\n",
    "Columnas = list(dfs_Finales['Generales'].columns)"
   ]
  },
  {
   "cell_type": "code",
   "execution_count": 4,
   "id": "0e30b051",
   "metadata": {},
   "outputs": [],
   "source": [
    "# IP Items sin asociar (tiempo).\n",
    "IP_Items_Sin_Asociar_Tiempo = [Columna for Columna in Columnas if 'IP_Item' in Columna and '_Tiempo' in Columna and ('_Izq' not in Columna and '_Der' not in Columna)]"
   ]
  },
  {
   "cell_type": "code",
   "execution_count": 5,
   "id": "3e66ad78",
   "metadata": {},
   "outputs": [],
   "source": [
    "# IP Items asociados izquierda (tiempo).\n",
    "IP_Items_Asociados_Izq_Tiempo = [Columna for Columna in Columnas if 'IP_Item' in Columna and '_Tiempo' in Columna and '_Izq' in Columna]"
   ]
  },
  {
   "cell_type": "code",
   "execution_count": 6,
   "id": "e5466bed",
   "metadata": {},
   "outputs": [],
   "source": [
    "# IP Items asociados derecha (tiempo).\n",
    "IP_Items_Asociados_Der_Tiempo = [Columna for Columna in Columnas if 'IP_Item' in Columna and '_Tiempo' in Columna and '_Der' in Columna]"
   ]
  },
  {
   "cell_type": "code",
   "execution_count": null,
   "id": "1acff6c5",
   "metadata": {},
   "outputs": [],
   "source": [
    "# Borrar filas en dónde el sujeto haya tardado más tiempo que 3 desvíos estándar.\n",
    "for Nombre_df, df in dfs_Finales.items():\n",
    "    #print(f\"\\n--- Procesando DataFrame: {Nombre_df} ---\")\n",
    "    \n",
    "    dfs_Finales[Nombre_df] = f.Eliminar_Filas_Por_Desviacion_Estandar(\n",
    "        df, \n",
    "        IP_Items_Sin_Asociar_Tiempo + IP_Items_Asociados_Izq_Tiempo + IP_Items_Asociados_Der_Tiempo, \n",
    "        3\n",
    "    )\n",
    "    \n",
    "    #print(f\"DataFrame {Nombre_df} procesado.\")"
   ]
  },
  {
   "cell_type": "code",
   "execution_count": 11,
   "id": "85d35764",
   "metadata": {},
   "outputs": [
    {
     "name": "stdout",
     "output_type": "stream",
     "text": [
      "Media global: 11.31, Desvío estándar: 215.40, Umbral: 657.49\n",
      "✅ No hay valores de tiempo atípicos.\n"
     ]
    }
   ],
   "source": [
    "# Aplanar y convertir a numérico.\n",
    "Serie_Global = pd.Series(\n",
    "    pd.to_numeric(\n",
    "        dfs_Finales['Generales'][IP_Items_Sin_Asociar_Tiempo + IP_Items_Asociados_Izq_Tiempo + IP_Items_Asociados_Der_Tiempo].values.flatten(),\n",
    "        errors = 'coerce'\n",
    "    )\n",
    ").dropna()\n",
    "\n",
    "# Cálculo estadísticos.\n",
    "Media_Global = 11.31\n",
    "Desv_Estandar = 215.40\n",
    "Umbral = 657.49\n",
    "\n",
    "print(f\"Media global: {Media_Global:.2f}, \"\n",
    "        f\"Desvío estándar: {Desv_Estandar:.2f}, \"\n",
    "        f\"Umbral: {Umbral:.2f}\")\n",
    "\n",
    "# Verificar atípicos.\n",
    "Mascara_Atipicos = (\n",
    "    dfs_Finales['Generales'][IP_Items_Sin_Asociar_Tiempo + IP_Items_Asociados_Izq_Tiempo + IP_Items_Asociados_Der_Tiempo] > Umbral\n",
    ")\n",
    "if Mascara_Atipicos.values.any():\n",
    "    Total_Atipicos = int(Mascara_Atipicos.sum().sum())\n",
    "    print(f\"❌ {Total_Atipicos} valores de tiempo \"\n",
    "            \"exceden el umbral.\")\n",
    "else:\n",
    "    print(\"✅ No hay valores de tiempo atípicos.\")"
   ]
  },
  {
   "cell_type": "code",
   "execution_count": 9,
   "id": "6f4aec9c",
   "metadata": {},
   "outputs": [],
   "source": [
    "# Exportar base para el control.\n",
    "for Nombre_df, df in dfs_Finales.items():\n",
    "    dfs_Finales[Nombre_df].head(50).to_excel(f'Controles/17. Eliminacion de outliers por tiempos ({Nombre_df}).xlsx', index=False)"
   ]
  }
 ],
 "metadata": {
  "kernelspec": {
   "display_name": "Python 3",
   "language": "python",
   "name": "python3"
  },
  "language_info": {
   "codemirror_mode": {
    "name": "ipython",
    "version": 3
   },
   "file_extension": ".py",
   "mimetype": "text/x-python",
   "name": "python",
   "nbconvert_exporter": "python",
   "pygments_lexer": "ipython3",
   "version": "3.11.9"
  }
 },
 "nbformat": 4,
 "nbformat_minor": 5
}
