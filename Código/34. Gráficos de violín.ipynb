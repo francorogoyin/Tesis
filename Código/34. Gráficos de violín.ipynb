{
 "cells": [
  {
   "cell_type": "code",
   "execution_count": 1,
   "id": "87471fb7",
   "metadata": {},
   "outputs": [],
   "source": [
    "# Librerías.\n",
    "import pandas as pd\n",
    "import Funciones as f\n",
    "import unidecode\n",
    "from docx import Document\n",
    "from docx.shared import Inches\n",
    "import os\n",
    "import matplotlib.pyplot as plt\n",
    "import seaborn as sns\n",
    "import numpy as np\n",
    "from scipy import stats"
   ]
  },
  {
   "cell_type": "code",
   "execution_count": null,
   "id": "ae815838",
   "metadata": {},
   "outputs": [],
   "source": [
    "%%capture\n",
    "%run \"33. Gráficos de barras.ipynb\""
   ]
  },
  {
   "cell_type": "code",
   "execution_count": null,
   "id": "8743c9b1",
   "metadata": {},
   "outputs": [],
   "source": [
    "Mapa_Colores_Categorias = {\n",
    "    'Progressivism': '#0078bf',\n",
    "    'Moderate_Right_A': '#f7d117',\n",
    "    'Moderate_Right_B': '#f7d117',\n",
    "    'Left_Wing': '#f65058',\n",
    "    'Blank': '#FFFFFF',\n",
    "    'Centre': '#009cdd',\n",
    "    'Right_Wing_Libertarian': '#753bbd'\n",
    "}"
   ]
  },
  {
   "cell_type": "code",
   "execution_count": null,
   "id": "1fde29a1",
   "metadata": {},
   "outputs": [],
   "source": [
    "Orden_Categorias = [\n",
    "    'Left_Wing',\n",
    "    'Progressivism',\n",
    "    'Centre',\n",
    "    'Moderate_Right_A',\n",
    "    'Moderate_Right_B',\n",
    "    'Right_Wing_Libertarian'\n",
    "]"
   ]
  },
  {
   "cell_type": "code",
   "execution_count": null,
   "id": "30f256d0",
   "metadata": {},
   "outputs": [],
   "source": [
    "def Generar_Grafico_Violin(\n",
    "    Df: pd.DataFrame,\n",
    "    Nombre_Variable: str,\n",
    "    Nombre_Columna_Categoria: str\n",
    ") -> None:\n",
    "\n",
    "    \"\"\"\n",
    "    \n",
    "    Genera un gráfico de violín para la variable numérica\n",
    "    especificada agrupada por la columna categórica indicada.\n",
    "    \n",
    "    Utiliza el mapa de colores y el orden de categorías\n",
    "    definidos globalmente.\n",
    "    \n",
    "    Ejemplo:\n",
    "        Generar_Grafico_Violin(\n",
    "            Df = df,\n",
    "            Nombre_Variable = 'CT_Pro_Der',\n",
    "            Nombre_Columna_Categoria =\n",
    "                'Categoria_PASO_2023'\n",
    "        )\n",
    "    \n",
    "    \"\"\"\n",
    "\n",
    "    plt.figure(figsize = (8, 6))\n",
    "    sns.violinplot(\n",
    "        x = Nombre_Columna_Categoria,\n",
    "        y = Nombre_Variable,\n",
    "        data = Df,\n",
    "        palette = Mapa_Colores_Categorias,\n",
    "        order = Orden_Categorias\n",
    "    )\n",
    "    plt.title(\n",
    "        f\"Distribución de {Nombre_Variable} \"\n",
    "        f\"por {Nombre_Columna_Categoria}\"\n",
    "    )\n",
    "    plt.xlabel(Nombre_Columna_Categoria)\n",
    "    plt.ylabel(Nombre_Variable)\n",
    "    plt.xticks(rotation = 45)\n",
    "    plt.tight_layout()\n",
    "    plt.show()"
   ]
  },
  {
   "cell_type": "code",
   "execution_count": null,
   "id": "6f2c0e3c",
   "metadata": {},
   "outputs": [],
   "source": [
    "def Generar_Violines_Para_Variables(\n",
    "    Df: pd.DataFrame,\n",
    "    Lista_Variables: list[str],\n",
    "    Nombre_Columna_Categoria: str\n",
    ") -> None:\n",
    "\n",
    "    \"\"\"\n",
    "    \n",
    "    Recorre la lista de variables y genera un gráfico\n",
    "    de violín para cada una.\n",
    "    \n",
    "    Ejemplo:\n",
    "        Generar_Violines_Para_Variables(\n",
    "            Df = df,\n",
    "            Lista_Variables =\n",
    "                Variables_Significativas,\n",
    "            Nombre_Columna_Categoria =\n",
    "                'Categoria_PASO_2023'\n",
    "        )\n",
    "    \n",
    "    \"\"\"\n",
    "\n",
    "    for Nombre_Variable in Lista_Variables:\n",
    "        Generar_Grafico_Violin(\n",
    "            Df = Df,\n",
    "            Nombre_Variable = Nombre_Variable,\n",
    "            Nombre_Columna_Categoria =\n",
    "                Nombre_Columna_Categoria\n",
    "        )"
   ]
  },
  {
   "cell_type": "code",
   "execution_count": null,
   "id": "701974d8",
   "metadata": {},
   "outputs": [],
   "source": [
    "for Nombre_df, df in dfs_Finales.items():\n",
    "    Generar_Violines_Para_Variables(\n",
    "        Df = df,\n",
    "        Lista_Variables = Variables_Significativas,\n",
    "        Nombre_Columna_Categoria =\n",
    "            'Categoria_PASO_2023'\n",
    "    )"
   ]
  }
 ],
 "metadata": {
  "kernelspec": {
   "display_name": "Python 3",
   "language": "python",
   "name": "python3"
  },
  "language_info": {
   "codemirror_mode": {
    "name": "ipython",
    "version": 3
   },
   "file_extension": ".py",
   "mimetype": "text/x-python",
   "name": "python",
   "nbconvert_exporter": "python",
   "pygments_lexer": "ipython3",
   "version": "3.11.9"
  }
 },
 "nbformat": 4,
 "nbformat_minor": 5
}
