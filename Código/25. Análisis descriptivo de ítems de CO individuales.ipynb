{
 "cells": [
  {
   "cell_type": "code",
   "execution_count": 1,
   "id": "87471fb7",
   "metadata": {},
   "outputs": [],
   "source": [
    "# Librerías.\n",
    "import pandas as pd\n",
    "import Funciones as f\n",
    "import unidecode\n",
    "from docx import Document\n",
    "from docx.shared import Inches\n",
    "import os\n",
    "import matplotlib.pyplot as plt\n",
    "import seaborn as sns\n",
    "import numpy as np\n",
    "import scikit_posthocs as sp"
   ]
  },
  {
   "cell_type": "code",
   "execution_count": 2,
   "id": "ae815838",
   "metadata": {},
   "outputs": [],
   "source": [
    "%%capture\n",
    "%run \"24. Análisis post hoc de cambios por ítem.ipynb\""
   ]
  },
  {
   "cell_type": "code",
   "execution_count": 3,
   "id": "d86e2475",
   "metadata": {},
   "outputs": [],
   "source": [
    "# Columnas de CO y CT de ítems individuales.\n",
    "Columnas_Cambios = Columnas_CO_Pro + Columnas_CO_Con + Columnas_CT_Pro + Columnas_CT_Con"
   ]
  },
  {
   "cell_type": "code",
   "execution_count": 4,
   "id": "81d0d31a",
   "metadata": {},
   "outputs": [],
   "source": [
    "# Inicializar diccionario de resultados.\n",
    "Diccionario_Resultados_CO_Individuales = {'Generales': {},\n",
    "                                          'Ballotage': {}}"
   ]
  },
  {
   "cell_type": "code",
   "execution_count": null,
   "id": "1672f0c7",
   "metadata": {},
   "outputs": [],
   "source": [
    "for Nombre_df, df in dfs_Finales.items():\n",
    "\n",
    "    # Segmentos poblacionales que importan.\n",
    "    Categorias_Validas = [\n",
    "        'Left_Wing', \n",
    "        'Progressivism', \n",
    "        'Centre',\n",
    "        'Moderate_Right_A', \n",
    "        'Moderate_Right_B',\n",
    "        'Right_Wing_Libertarian'\n",
    "    ]\n",
    "\n",
    "    # Filtrar solo las categorías válidas\n",
    "    df_Descriptivo = df[df['Categoria_PASO_2023'].isin(Categorias_Validas)]\n",
    "\n",
    "    # Calcular estadísticas por categoría y por columna.\n",
    "    for Categoria in Categorias_Validas:  # Cambiar esta línea\n",
    "       Datos_Categoria = df_Descriptivo[df_Descriptivo['Categoria_PASO_2023'] == Categoria]\n",
    "       Estadisticas_Categoria = {}\n",
    "       \n",
    "       for Columna in Columnas_Cambios:\n",
    "           Valores = Datos_Categoria[Columna].dropna()\n",
    "           \n",
    "           # Verificar si hay datos disponibles.\n",
    "           if len(Valores) > 0:\n",
    "               Media = Valores.mean()\n",
    "               Mediana = Valores.median()\n",
    "               Desvio_Estandar = Valores.std()\n",
    "               Error_Estandar = Valores.sem()\n",
    "               N = Valores.count()\n",
    "           else:\n",
    "               Media = 0\n",
    "               Mediana = 0\n",
    "               Desvio_Estandar = 0\n",
    "               Error_Estandar = 0\n",
    "               N = 0\n",
    "           \n",
    "           Estadisticas_Categoria[Columna] = {\n",
    "               'Media': Media,\n",
    "               'Mediana': Mediana,\n",
    "               'Desvio_Estandar': Desvio_Estandar,\n",
    "               'Error_Estandar': Error_Estandar,\n",
    "               'N': N\n",
    "           }\n",
    "       \n",
    "       Diccionario_Resultados_CO_Individuales[Nombre_df][Categoria] = Estadisticas_Categoria"
   ]
  }
 ],
 "metadata": {
  "kernelspec": {
   "display_name": "Python 3",
   "language": "python",
   "name": "python3"
  },
  "language_info": {
   "codemirror_mode": {
    "name": "ipython",
    "version": 3
   },
   "file_extension": ".py",
   "mimetype": "text/x-python",
   "name": "python",
   "nbconvert_exporter": "python",
   "pygments_lexer": "ipython3",
   "version": "3.11.9"
  }
 },
 "nbformat": 4,
 "nbformat_minor": 5
}
