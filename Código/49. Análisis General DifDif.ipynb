{
 "cells": [
  {
   "cell_type": "markdown",
   "metadata": {},
   "source": [
    "# Análisis General de Diferencia de Diferencias\n",
    "\n",
    "Este notebook analiza las variables DifDif calculadas en el notebook 48.\n",
    "\n",
    "## Análisis realizados:\n",
    "\n",
    "1. **Estadísticas descriptivas**: Media, n, Desvío Estándar\n",
    "2. **Tests de significancia**: Test t de una muestra (H₀: DifDif = 0)\n",
    "3. **Tablas Excel**: Resultados formateados y exportados\n",
    "\n",
    "## Interpretación:\n",
    "\n",
    "- Si DifDif es **significativamente diferente de 0**, significa que hubo un cambio real en la asimetría Izq-Der entre Generales y Ballotage."
   ]
  },
  {
   "cell_type": "code",
   "execution_count": 3,
   "metadata": {},
   "outputs": [
    {
     "name": "stdout",
     "output_type": "stream",
     "text": [
      "✓ Librerías cargadas exitosamente\n"
     ]
    }
   ],
   "source": [
    "import pandas as pd\n",
    "import numpy as np\n",
    "import os\n",
    "from scipy import stats\n",
    "from openpyxl import Workbook\n",
    "from openpyxl.styles import Font, PatternFill, Alignment, Border, Side\n",
    "from openpyxl.utils import get_column_letter\n",
    "\n",
    "print(\"✓ Librerías cargadas exitosamente\")"
   ]
  },
  {
   "cell_type": "markdown",
   "metadata": {},
   "source": [
    "## 1. Cargar Datos"
   ]
  },
  {
   "cell_type": "code",
   "execution_count": 4,
   "metadata": {},
   "outputs": [
    {
     "name": "stdout",
     "output_type": "stream",
     "text": [
      "✓ df_Elecciones cargado exitosamente\n",
      "  Dimensiones: (2786, 122)\n",
      "  Columnas: ['Categoria_PASO_2023', 'ID', 'Dif_Gen_CO_Item_3', 'Dif_Bal_CO_Item_3', 'DifDif_CO_Item_3']...\n"
     ]
    }
   ],
   "source": [
    "# Cargar df_Elecciones\n",
    "Ruta_Datos = os.path.join(os.getcwd(), '..', 'Data', 'Procesados', 'df_Elecciones.xlsx')\n",
    "df_Elecciones = pd.read_excel(Ruta_Datos)\n",
    "\n",
    "print(f\"✓ df_Elecciones cargado exitosamente\")\n",
    "print(f\"  Dimensiones: {df_Elecciones.shape}\")\n",
    "print(f\"  Columnas: {df_Elecciones.columns.tolist()[:5]}...\")"
   ]
  },
  {
   "cell_type": "markdown",
   "metadata": {},
   "source": [
    "## 2. Identificar Variables DifDif"
   ]
  },
  {
   "cell_type": "code",
   "execution_count": 5,
   "metadata": {},
   "outputs": [
    {
     "name": "stdout",
     "output_type": "stream",
     "text": [
      "Variables DifDif_CO: 20\n",
      "Variables DifDif_CT: 20\n",
      "\n",
      "Ejemplos DifDif_CO: ['DifDif_CO_Item_3', 'DifDif_CO_Item_4', 'DifDif_CO_Item_5']\n",
      "Ejemplos DifDif_CT: ['DifDif_CT_Item_3', 'DifDif_CT_Item_4', 'DifDif_CT_Item_5']\n"
     ]
    }
   ],
   "source": [
    "# Identificar columnas DifDif\n",
    "columnas_difdif_co = [col for col in df_Elecciones.columns if col.startswith('DifDif_CO')]\n",
    "columnas_difdif_ct = [col for col in df_Elecciones.columns if col.startswith('DifDif_CT')]\n",
    "\n",
    "print(f\"Variables DifDif_CO: {len(columnas_difdif_co)}\")\n",
    "print(f\"Variables DifDif_CT: {len(columnas_difdif_ct)}\")\n",
    "print(f\"\\nEjemplos DifDif_CO: {columnas_difdif_co[:3]}\")\n",
    "print(f\"Ejemplos DifDif_CT: {columnas_difdif_ct[:3]}\")"
   ]
  },
  {
   "cell_type": "markdown",
   "metadata": {},
   "source": [
    "## 3. Función para Calcular Estadísticas y Significancia"
   ]
  },
  {
   "cell_type": "code",
   "execution_count": 6,
   "metadata": {},
   "outputs": [],
   "source": [
    "def Calcular_Estadisticas_DifDif(df, columnas_difdif):\n",
    "    \"\"\"\n",
    "    Calcula estadísticas descriptivas y test t para variables DifDif.\n",
    "    \n",
    "    Test de hipótesis:\n",
    "    H₀: DifDif = 0 (no hay cambio en la asimetría)\n",
    "    H₁: DifDif ≠ 0 (hay cambio en la asimetría)\n",
    "    \"\"\"\n",
    "    \n",
    "    resultados = []\n",
    "    \n",
    "    for columna in columnas_difdif:\n",
    "        # Extraer datos válidos (sin NaN)\n",
    "        datos = df[columna].dropna()\n",
    "        \n",
    "        if len(datos) > 0:\n",
    "            # Estadísticas descriptivas\n",
    "            media = datos.mean()\n",
    "            n = len(datos)\n",
    "            de = datos.std()\n",
    "            ee = datos.sem()\n",
    "            \n",
    "            # Test t de una muestra (contra 0)\n",
    "            if n > 1:\n",
    "                t_stat, p_valor = stats.ttest_1samp(datos, 0)\n",
    "            else:\n",
    "                t_stat = np.nan\n",
    "                p_valor = np.nan\n",
    "            \n",
    "            # Determinar significancia\n",
    "            if not np.isnan(p_valor):\n",
    "                if p_valor < 0.001:\n",
    "                    sig = '***'\n",
    "                elif p_valor < 0.01:\n",
    "                    sig = '**'\n",
    "                elif p_valor < 0.05:\n",
    "                    sig = '*'\n",
    "                else:\n",
    "                    sig = 'ns'\n",
    "            else:\n",
    "                sig = '—'\n",
    "            \n",
    "            resultados.append({\n",
    "                'Variable': columna,\n",
    "                'Media': media,\n",
    "                'n': n,\n",
    "                'DE': de,\n",
    "                'EE': ee,\n",
    "                't': t_stat,\n",
    "                'p_valor': p_valor,\n",
    "                'Sig': sig\n",
    "            })\n",
    "        else:\n",
    "            resultados.append({\n",
    "                'Variable': columna,\n",
    "                'Media': np.nan,\n",
    "                'n': 0,\n",
    "                'DE': np.nan,\n",
    "                'EE': np.nan,\n",
    "                't': np.nan,\n",
    "                'p_valor': np.nan,\n",
    "                'Sig': '—'\n",
    "            })\n",
    "    \n",
    "    return pd.DataFrame(resultados)"
   ]
  },
  {
   "cell_type": "markdown",
   "metadata": {},
   "source": [
    "## 4. Calcular Estadísticas para DifDif_CO"
   ]
  },
  {
   "cell_type": "code",
   "execution_count": 7,
   "metadata": {},
   "outputs": [
    {
     "name": "stdout",
     "output_type": "stream",
     "text": [
      "Calculando estadísticas para DifDif_CO...\n",
      "\n",
      "✓ Estadísticas calculadas para 20 variables DifDif_CO\n",
      "\n",
      "Primeras 5 variables:\n",
      "\n",
      "           Variable     Media    n        DE        EE         t   p_valor Sig\n",
      "0  DifDif_CO_Item_3  0.073864  176  1.556626  0.117335  0.629510  0.529836  ns\n",
      "1  DifDif_CO_Item_4  0.113475  141  1.444656  0.121662  0.932708  0.352576  ns\n",
      "2  DifDif_CO_Item_5 -0.119760  167  1.491148  0.115389 -1.037889  0.300831  ns\n",
      "3  DifDif_CO_Item_6 -0.006098  164  2.017552  0.157544 -0.038704  0.969174  ns\n",
      "4  DifDif_CO_Item_7  0.103704  135  1.763113  0.151745  0.683409  0.495528  ns\n"
     ]
    }
   ],
   "source": [
    "print(\"Calculando estadísticas para DifDif_CO...\\n\")\n",
    "\n",
    "df_Stats_CO = Calcular_Estadisticas_DifDif(df_Elecciones, columnas_difdif_co)\n",
    "\n",
    "print(f\"✓ Estadísticas calculadas para {len(df_Stats_CO)} variables DifDif_CO\")\n",
    "print(f\"\\nPrimeras 5 variables:\\n\")\n",
    "print(df_Stats_CO.head())"
   ]
  },
  {
   "cell_type": "markdown",
   "metadata": {},
   "source": [
    "## 5. Calcular Estadísticas para DifDif_CT"
   ]
  },
  {
   "cell_type": "code",
   "execution_count": 8,
   "metadata": {},
   "outputs": [
    {
     "name": "stdout",
     "output_type": "stream",
     "text": [
      "Calculando estadísticas para DifDif_CT...\n",
      "\n",
      "✓ Estadísticas calculadas para 20 variables DifDif_CT\n",
      "\n",
      "Primeras 5 variables:\n",
      "\n",
      "           Variable     Media    n         DE        EE         t   p_valor  \\\n",
      "0  DifDif_CT_Item_3  0.892293  176  13.451007  1.013908  0.880053  0.380038   \n",
      "1  DifDif_CT_Item_4  0.480277  141   5.991982  0.504616  0.951767  0.342856   \n",
      "2  DifDif_CT_Item_5  2.574593  167  14.583042  1.128470  2.281491  0.023790   \n",
      "3  DifDif_CT_Item_6  0.038692  164  11.479872  0.896427  0.043163  0.965625   \n",
      "4  DifDif_CT_Item_7 -1.764437  135  10.488542  0.902710 -1.954600  0.052712   \n",
      "\n",
      "  Sig  \n",
      "0  ns  \n",
      "1  ns  \n",
      "2   *  \n",
      "3  ns  \n",
      "4  ns  \n"
     ]
    }
   ],
   "source": [
    "print(\"Calculando estadísticas para DifDif_CT...\\n\")\n",
    "\n",
    "df_Stats_CT = Calcular_Estadisticas_DifDif(df_Elecciones, columnas_difdif_ct)\n",
    "\n",
    "print(f\"✓ Estadísticas calculadas para {len(df_Stats_CT)} variables DifDif_CT\")\n",
    "print(f\"\\nPrimeras 5 variables:\\n\")\n",
    "print(df_Stats_CT.head())"
   ]
  },
  {
   "cell_type": "markdown",
   "metadata": {},
   "source": [
    "## 6. Resumen de Significancia"
   ]
  },
  {
   "cell_type": "code",
   "execution_count": 9,
   "metadata": {},
   "outputs": [
    {
     "name": "stdout",
     "output_type": "stream",
     "text": [
      "======================================================================\n",
      "RESUMEN DE SIGNIFICANCIA\n",
      "======================================================================\n",
      "\n",
      "DifDif_CO:\n",
      "Sig\n",
      "*       2\n",
      "**      1\n",
      "***     1\n",
      "ns     16\n",
      "Name: count, dtype: int64\n",
      "\n",
      "DifDif_CT:\n",
      "Sig\n",
      "*      1\n",
      "**     1\n",
      "ns    18\n",
      "Name: count, dtype: int64\n",
      "\n",
      "======================================================================\n"
     ]
    }
   ],
   "source": [
    "print(\"=\"*70)\n",
    "print(\"RESUMEN DE SIGNIFICANCIA\")\n",
    "print(\"=\"*70)\n",
    "\n",
    "print(\"\\nDifDif_CO:\")\n",
    "print(df_Stats_CO['Sig'].value_counts().sort_index())\n",
    "\n",
    "print(\"\\nDifDif_CT:\")\n",
    "print(df_Stats_CT['Sig'].value_counts().sort_index())\n",
    "\n",
    "print(\"\\n\" + \"=\"*70)"
   ]
  },
  {
   "cell_type": "markdown",
   "metadata": {},
   "source": [
    "## 7. Funciones Auxiliares para Excel"
   ]
  },
  {
   "cell_type": "code",
   "execution_count": 10,
   "metadata": {},
   "outputs": [],
   "source": [
    "def hex_to_rgb(hex_color):\n",
    "    \"\"\"Convierte color hexadecimal a formato RGB para openpyxl.\"\"\"\n",
    "    hex_color = hex_color.lstrip('#')\n",
    "    return hex_color.upper()\n",
    "\n",
    "\n",
    "def aplicar_borde_completo(cell):\n",
    "    \"\"\"Aplica bordes a todas las celdas.\"\"\"\n",
    "    thin_border = Border(\n",
    "        left=Side(style='thin', color='000000'),\n",
    "        right=Side(style='thin', color='000000'),\n",
    "        top=Side(style='thin', color='000000'),\n",
    "        bottom=Side(style='thin', color='000000')\n",
    "    )\n",
    "    cell.border = thin_border\n",
    "\n",
    "\n",
    "def obtener_color_significancia(texto_sig):\n",
    "    \"\"\"Retorna el color de fondo según nivel de significancia.\"\"\"\n",
    "    if texto_sig == '***':\n",
    "        return '90EE90'  # Verde oscuro\n",
    "    elif texto_sig == '**':\n",
    "        return 'B8F4B8'  # Verde medio\n",
    "    elif texto_sig == '*':\n",
    "        return 'D4F4D4'  # Verde claro\n",
    "    elif texto_sig == 'ns':\n",
    "        return 'FFE4E1'  # Rosa claro\n",
    "    else:\n",
    "        return 'FFFFFF'  # Blanco\n",
    "\n",
    "\n",
    "def obtener_color_texto_significancia(texto_sig):\n",
    "    \"\"\"Retorna el color de texto según nivel de significancia.\"\"\"\n",
    "    if texto_sig == '***':\n",
    "        return '006400'  # Verde oscuro\n",
    "    elif texto_sig == '**':\n",
    "        return '228B22'  # Verde medio\n",
    "    elif texto_sig == '*':\n",
    "        return '000000'  # Negro\n",
    "    elif texto_sig == 'ns':\n",
    "        return '8B0000'  # Rojo oscuro\n",
    "    else:\n",
    "        return '000000'  # Negro"
   ]
  },
  {
   "cell_type": "markdown",
   "metadata": {},
   "source": [
    "## 8. Función para Crear Tabla Excel General"
   ]
  },
  {
   "cell_type": "code",
   "execution_count": 11,
   "metadata": {},
   "outputs": [],
   "source": [
    "def Crear_Tabla_Excel_DifDif_General(\n",
    "    df_stats,\n",
    "    tipo,\n",
    "    nombre_archivo,\n",
    "    carpeta_destino='Tablas_Excel_DifDif'\n",
    "):\n",
    "    \"\"\"\n",
    "    Crea una tabla Excel con estadísticas generales de DifDif.\n",
    "    \n",
    "    Parámetros:\n",
    "    - df_stats: DataFrame con estadísticas calculadas\n",
    "    - tipo: 'CO' o 'CT'\n",
    "    - nombre_archivo: Nombre del archivo de salida\n",
    "    - carpeta_destino: Carpeta donde guardar\n",
    "    \"\"\"\n",
    "    \n",
    "    if not os.path.exists(carpeta_destino):\n",
    "        os.makedirs(carpeta_destino)\n",
    "    \n",
    "    # Crear workbook\n",
    "    wb = Workbook()\n",
    "    ws = wb.active\n",
    "    ws.title = f'DifDif_{tipo}_General'\n",
    "    \n",
    "    fila = 1\n",
    "    \n",
    "    # TÍTULO\n",
    "    ws.merge_cells(start_row=fila, start_column=1, end_row=fila, end_column=7)\n",
    "    cell_titulo = ws.cell(fila, 1)\n",
    "    cell_titulo.value = f'Análisis General - Diferencia de Diferencias ({tipo})'\n",
    "    cell_titulo.font = Font(bold=True, size=14, color='FFFFFF')\n",
    "    cell_titulo.fill = PatternFill(start_color='2C5282', end_color='2C5282', fill_type='solid')\n",
    "    cell_titulo.alignment = Alignment(horizontal='center', vertical='center')\n",
    "    \n",
    "    fila += 2\n",
    "    \n",
    "    # ENCABEZADO\n",
    "    headers = ['Ítem', 'Media', 'n', 'DE', 't', 'p-valor', 'Sig']\n",
    "    for col_idx, header in enumerate(headers, start=1):\n",
    "        cell = ws.cell(fila, col_idx)\n",
    "        cell.value = header\n",
    "        cell.font = Font(bold=True, color='FFFFFF', size=11)\n",
    "        cell.fill = PatternFill(start_color='5B9BD5', end_color='5B9BD5', fill_type='solid')\n",
    "        cell.alignment = Alignment(horizontal='center', vertical='center')\n",
    "    \n",
    "    fila += 1\n",
    "    \n",
    "    # DATOS\n",
    "    for idx, row in df_stats.iterrows():\n",
    "        # Extraer número de ítem de la variable\n",
    "        variable = row['Variable']\n",
    "        # Formato: DifDif_CO_Item_5 o DifDif_CT_Item_5\n",
    "        num_item = variable.split('_')[-1]\n",
    "        \n",
    "        # Ítem\n",
    "        cell = ws.cell(fila, 1)\n",
    "        cell.value = f'Ítem {num_item}'\n",
    "        cell.alignment = Alignment(horizontal='center', vertical='center')\n",
    "        cell.fill = PatternFill(start_color='E7E6E6', end_color='E7E6E6', fill_type='solid')\n",
    "        cell.font = Font(bold=True)\n",
    "        \n",
    "        # Media\n",
    "        cell = ws.cell(fila, 2)\n",
    "        if not np.isnan(row['Media']):\n",
    "            cell.value = f\"{row['Media']:.3f}\"\n",
    "        else:\n",
    "            cell.value = '—'\n",
    "        cell.alignment = Alignment(horizontal='center', vertical='center')\n",
    "        \n",
    "        # n\n",
    "        cell = ws.cell(fila, 3)\n",
    "        cell.value = int(row['n']) if row['n'] > 0 else '—'\n",
    "        cell.alignment = Alignment(horizontal='center', vertical='center')\n",
    "        \n",
    "        # DE\n",
    "        cell = ws.cell(fila, 4)\n",
    "        if not np.isnan(row['DE']):\n",
    "            cell.value = f\"{row['DE']:.3f}\"\n",
    "        else:\n",
    "            cell.value = '—'\n",
    "        cell.alignment = Alignment(horizontal='center', vertical='center')\n",
    "        \n",
    "        # t\n",
    "        cell = ws.cell(fila, 5)\n",
    "        if not np.isnan(row['t']):\n",
    "            cell.value = f\"{row['t']:.3f}\"\n",
    "        else:\n",
    "            cell.value = '—'\n",
    "        cell.alignment = Alignment(horizontal='center', vertical='center')\n",
    "        \n",
    "        # p-valor\n",
    "        cell = ws.cell(fila, 6)\n",
    "        if not np.isnan(row['p_valor']):\n",
    "            if row['p_valor'] < 0.001:\n",
    "                cell.value = '<0.001'\n",
    "            else:\n",
    "                cell.value = f\"{row['p_valor']:.4f}\"\n",
    "        else:\n",
    "            cell.value = '—'\n",
    "        cell.alignment = Alignment(horizontal='center', vertical='center')\n",
    "        \n",
    "        # Significancia\n",
    "        cell = ws.cell(fila, 7)\n",
    "        cell.value = row['Sig']\n",
    "        cell.alignment = Alignment(horizontal='center', vertical='center')\n",
    "        color_fondo = obtener_color_significancia(row['Sig'])\n",
    "        color_texto = obtener_color_texto_significancia(row['Sig'])\n",
    "        cell.fill = PatternFill(start_color=color_fondo, end_color=color_fondo, fill_type='solid')\n",
    "        cell.font = Font(bold=True, color=color_texto)\n",
    "        \n",
    "        fila += 1\n",
    "    \n",
    "    # Aplicar bordes\n",
    "    for row in ws.iter_rows(min_row=1, max_row=fila-1, min_col=1, max_col=7):\n",
    "        for cell in row:\n",
    "            aplicar_borde_completo(cell)\n",
    "    \n",
    "    # Ajustar anchos de columna\n",
    "    ws.column_dimensions['A'].width = 12\n",
    "    ws.column_dimensions['B'].width = 12\n",
    "    ws.column_dimensions['C'].width = 8\n",
    "    ws.column_dimensions['D'].width = 12\n",
    "    ws.column_dimensions['E'].width = 12\n",
    "    ws.column_dimensions['F'].width = 12\n",
    "    ws.column_dimensions['G'].width = 8\n",
    "    \n",
    "    # Guardar\n",
    "    ruta_completa = os.path.join(carpeta_destino, nombre_archivo)\n",
    "    wb.save(ruta_completa)\n",
    "    \n",
    "    print(f\"✅ Tabla Excel guardada en: {ruta_completa}\")\n",
    "    \n",
    "    return ruta_completa"
   ]
  },
  {
   "cell_type": "markdown",
   "metadata": {},
   "source": [
    "## 9. Generar Tablas Excel"
   ]
  },
  {
   "cell_type": "code",
   "execution_count": 12,
   "metadata": {},
   "outputs": [
    {
     "name": "stdout",
     "output_type": "stream",
     "text": [
      "Generando tabla Excel para DifDif_CO...\n",
      "\n",
      "✅ Tabla Excel guardada en: Tablas_Excel_DifDif\\Tabla_DifDif_CO_General.xlsx\n",
      "\n",
      "Generando tabla Excel para DifDif_CT...\n",
      "\n",
      "✅ Tabla Excel guardada en: Tablas_Excel_DifDif\\Tabla_DifDif_CT_General.xlsx\n",
      "\n",
      "✅ Todas las tablas generadas exitosamente\n"
     ]
    }
   ],
   "source": [
    "# Tabla para DifDif_CO\n",
    "print(\"Generando tabla Excel para DifDif_CO...\\n\")\n",
    "Crear_Tabla_Excel_DifDif_General(\n",
    "    df_stats=df_Stats_CO,\n",
    "    tipo='CO',\n",
    "    nombre_archivo='Tabla_DifDif_CO_General.xlsx'\n",
    ")\n",
    "\n",
    "# Tabla para DifDif_CT\n",
    "print(\"\\nGenerando tabla Excel para DifDif_CT...\\n\")\n",
    "Crear_Tabla_Excel_DifDif_General(\n",
    "    df_stats=df_Stats_CT,\n",
    "    tipo='CT',\n",
    "    nombre_archivo='Tabla_DifDif_CT_General.xlsx'\n",
    ")\n",
    "\n",
    "print(\"\\n✅ Todas las tablas generadas exitosamente\")"
   ]
  },
  {
   "cell_type": "markdown",
   "metadata": {},
   "source": [
    "## 10. Resumen Final"
   ]
  },
  {
   "cell_type": "code",
   "execution_count": 13,
   "metadata": {},
   "outputs": [
    {
     "name": "stdout",
     "output_type": "stream",
     "text": [
      "======================================================================\n",
      "RESUMEN DEL ANÁLISIS GENERAL DE DIFDIF\n",
      "======================================================================\n",
      "\n",
      "📊 Variables analizadas:\n",
      "   - DifDif_CO: 20 variables\n",
      "   - DifDif_CT: 20 variables\n",
      "\n",
      "📈 Resultados significativos (p < 0.05):\n",
      "   - DifDif_CO: 4 de 20 (20.0%)\n",
      "   - DifDif_CT: 2 de 20 (10.0%)\n",
      "\n",
      "📁 Archivos Excel generados:\n",
      "   - Tabla_DifDif_CO_General.xlsx\n",
      "   - Tabla_DifDif_CT_General.xlsx\n",
      "\n",
      "🎯 Interpretación:\n",
      "   - Test utilizado: t de una muestra (H₀: DifDif = 0)\n",
      "   - DifDif significativo → Cambió la asimetría Izq-Der entre elecciones\n",
      "   - Media positiva → Mayor asimetría hacia Izq en Ballotage\n",
      "   - Media negativa → Mayor asimetría hacia Der en Ballotage\n",
      "\n",
      "======================================================================\n"
     ]
    }
   ],
   "source": [
    "print(\"=\"*70)\n",
    "print(\"RESUMEN DEL ANÁLISIS GENERAL DE DIFDIF\")\n",
    "print(\"=\"*70)\n",
    "\n",
    "print(f\"\\n📊 Variables analizadas:\")\n",
    "print(f\"   - DifDif_CO: {len(df_Stats_CO)} variables\")\n",
    "print(f\"   - DifDif_CT: {len(df_Stats_CT)} variables\")\n",
    "\n",
    "print(f\"\\n📈 Resultados significativos (p < 0.05):\")\n",
    "sig_co = df_Stats_CO[df_Stats_CO['Sig'].isin(['*', '**', '***'])]\n",
    "sig_ct = df_Stats_CT[df_Stats_CT['Sig'].isin(['*', '**', '***'])]\n",
    "print(f\"   - DifDif_CO: {len(sig_co)} de {len(df_Stats_CO)} ({len(sig_co)/len(df_Stats_CO)*100:.1f}%)\")\n",
    "print(f\"   - DifDif_CT: {len(sig_ct)} de {len(df_Stats_CT)} ({len(sig_ct)/len(df_Stats_CT)*100:.1f}%)\")\n",
    "\n",
    "print(f\"\\n📁 Archivos Excel generados:\")\n",
    "print(f\"   - Tabla_DifDif_CO_General.xlsx\")\n",
    "print(f\"   - Tabla_DifDif_CT_General.xlsx\")\n",
    "\n",
    "print(f\"\\n🎯 Interpretación:\")\n",
    "print(f\"   - Test utilizado: t de una muestra (H₀: DifDif = 0)\")\n",
    "print(f\"   - DifDif significativo → Cambió la asimetría Izq-Der entre elecciones\")\n",
    "print(f\"   - Media positiva → Mayor asimetría hacia Izq en Ballotage\")\n",
    "print(f\"   - Media negativa → Mayor asimetría hacia Der en Ballotage\")\n",
    "\n",
    "print(\"\\n\" + \"=\"*70)"
   ]
  }
 ],
 "metadata": {
  "kernelnel": {
   "display_name": "Python 3",
   "language": "python",
   "name": "python3"
  },
  "kernelspec": {
   "display_name": "Python 3",
   "language": "python",
   "name": "python3"
  },
  "language_info": {
   "codemirror_mode": {
    "name": "ipython",
    "version": 3
   },
   "file_extension": ".py",
   "mimetype": "text/x-python",
   "name": "python",
   "nbconvert_exporter": "python",
   "pygments_lexer": "ipython3",
   "version": "3.13.7"
  }
 },
 "nbformat": 4,
 "nbformat_minor": 4
}
