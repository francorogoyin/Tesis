{
 "cells": [
  {
   "cell_type": "code",
   "execution_count": 7,
   "id": "9d950288",
   "metadata": {},
   "outputs": [],
   "source": [
    "# Librerías.\n",
    "import pandas as pd\n",
    "import Funciones as f"
   ]
  },
  {
   "cell_type": "code",
   "execution_count": null,
   "id": "ba126f73",
   "metadata": {},
   "outputs": [],
   "source": [
    "%%capture\n",
    "%run \"2. Formatear databases.ipynb\""
   ]
  },
  {
   "cell_type": "code",
   "execution_count": 9,
   "id": "b7de9654",
   "metadata": {},
   "outputs": [],
   "source": [
    "# Pasar columnas a numérico.\n",
    "Columnas_Positividad = [\n",
    " 'ECE_Item_1',\n",
    " 'ECE_Item_2',\n",
    " 'ECE_Item_3',\n",
    " 'ECE_Item_4',\n",
    " 'ECE_Item_5',\n",
    " 'ECE_Item_6',\n",
    " 'ECE_Item_7']\n",
    "\n",
    "for Nombre_df, df in dfs_Finales.items():\n",
    "   for Columna in Columnas_Positividad:\n",
    "       df[Columna] = pd.to_numeric(df[Columna])"
   ]
  },
  {
   "cell_type": "code",
   "execution_count": 10,
   "id": "2ee49ea6",
   "metadata": {},
   "outputs": [],
   "source": [
    "# Invertimos ece_item_5.\n",
    "for Nombre_df, df in dfs_Finales.items():\n",
    "   df['ECE_Item_5_Negativo'] = df['ECE_Item_5'].map({5: 1, 4: 2, 3: 3, 2: 4, 1: 5})"
   ]
  },
  {
   "cell_type": "code",
   "execution_count": 11,
   "id": "ce81a97a",
   "metadata": {},
   "outputs": [],
   "source": [
    "# Calculamos índice.\n",
    "for Nombre_df, df in dfs_Finales.items():\n",
    "   df['Indice_Positividad'] = df['ECE_Item_1'] + df['ECE_Item_2'] + df['ECE_Item_3'] + df['ECE_Item_4'] + df['ECE_Item_5_Negativo'] + df['ECE_Item_6'] + df['ECE_Item_7']"
   ]
  },
  {
   "cell_type": "code",
   "execution_count": 12,
   "id": "388fdb54",
   "metadata": {},
   "outputs": [],
   "source": [
    "# Exportar base para el control con solo las columnas del índice de positividad.\n",
    "for Nombre_df, df in dfs_Finales.items():\n",
    "    \n",
    "    # Definir columnas clave a incluir.\n",
    "    Columnas = ['ID', \n",
    "                'ECE_Item_1', 'ECE_Item_2', 'ECE_Item_3', 'ECE_Item_4',\n",
    "                'ECE_Item_5', 'ECE_Item_5_Negativo',\n",
    "                'ECE_Item_6', 'ECE_Item_7', \n",
    "                'Indice_Positividad']\n",
    "    \n",
    "    # Filtrar solo las que existan en el DataFrame.\n",
    "    Columnas_Presentes = [Columna for Columna in Columnas if Columna in df.columns]\n",
    "    \n",
    "    # Exportar primeras 50 filas con esas columnas.\n",
    "    dfs_Finales[Nombre_df][Columnas_Presentes].head(50).to_excel(\n",
    "        f'Controles/3. Indice de positividad ({Nombre_df}).xlsx',\n",
    "        index=False\n",
    "    )"
   ]
  }
 ],
 "metadata": {
  "kernelspec": {
   "display_name": "Python 3",
   "language": "python",
   "name": "python3"
  },
  "language_info": {
   "codemirror_mode": {
    "name": "ipython",
    "version": 3
   },
   "file_extension": ".py",
   "mimetype": "text/x-python",
   "name": "python",
   "nbconvert_exporter": "python",
   "pygments_lexer": "ipython3",
   "version": "3.11.9"
  }
 },
 "nbformat": 4,
 "nbformat_minor": 5
}
