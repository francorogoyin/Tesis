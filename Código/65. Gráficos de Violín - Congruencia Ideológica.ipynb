{
 "cells": [
  {
   "cell_type": "markdown",
   "metadata": {},
   "source": "# Gráficos de Violín: Congruencia vs Incongruencia Ideológica\n\nEste notebook genera **gráficos de violín** para visualizar las distribuciones de Cambio de Opinión (CO) y Cambio de Tiempo (CT) según congruencia ideológica.\n\n## Objetivo:\n\nVisualizar la distribución completa de las variables de congruencia/incongruencia (no solo las medias), permitiendo identificar:\n- Asimetría de las distribuciones\n- Presencia de múltiples modas\n- Outliers y valores extremos\n- Diferencias en dispersión entre grupos\n\n## Variables analizadas:\n\n- **CO_Congruente**: Ítems Progresistas → Izquierda + Ítems Conservadores → Derecha\n- **CO_Incongruente**: Ítems Progresistas → Derecha + Ítems Conservadores → Izquierda\n- **CT_Congruente**: Tiempos en dirección ideológicamente consistente\n- **CT_Incongruente**: Tiempos en dirección ideológicamente inconsistente\n\n## Elecciones:\n\n- Generales\n- Ballotage"
  },
  {
   "cell_type": "code",
   "execution_count": null,
   "metadata": {},
   "outputs": [],
   "source": "import pandas as pd\nimport numpy as np\nimport matplotlib.pyplot as plt\nimport seaborn as sns\nimport os\nfrom scipy import stats\nimport warnings\nwarnings.filterwarnings('ignore')\n\n# Configurar estilo\nplt.style.use('seaborn-v0_8-whitegrid')\nsns.set_palette('Set2')\nsns.set_context('notebook', font_scale=1.1)\n\nprint('✓ Librerías cargadas exitosamente')"
  },
  {
   "cell_type": "markdown",
   "metadata": {},
   "source": "## 1. Cargar Datos"
  },
  {
   "cell_type": "code",
   "execution_count": null,
   "metadata": {},
   "outputs": [],
   "source": "# Rutas a los archivos\nRuta_Base = os.path.join(os.getcwd(), '..', 'Data', 'Procesados')\nArchivo_Generales = os.path.join(Ruta_Base, 'Generales_con_Congruencia.xlsx')\nArchivo_Ballotage = os.path.join(Ruta_Base, 'Ballotage_con_Congruencia.xlsx')\n\n# Cargar datos\ndf_Generales = pd.read_excel(Archivo_Generales)\ndf_Ballotage = pd.read_excel(Archivo_Ballotage)\n\nprint(f'✓ Datos cargados:')\nprint(f'  - Generales: {len(df_Generales)} registros')\nprint(f'  - Ballotage: {len(df_Ballotage)} registros')\n\n# Verificar variables\nvars_necesarias = ['CO_Congruente', 'CO_Incongruente', 'CT_Congruente', 'CT_Incongruente']\n\nfor nombre, df in [('Generales', df_Generales), ('Ballotage', df_Ballotage)]:\n    faltantes = [v for v in vars_necesarias if v not in df.columns]\n    if faltantes:\n        print(f'  ⚠️  {nombre}: Faltan variables {faltantes}')\n    else:\n        print(f'  ✓ {nombre}: Todas las variables presentes')"
  },
  {
   "cell_type": "markdown",
   "metadata": {},
   "source": "## 2. Preparar Datos para Visualización"
  },
  {
   "cell_type": "code",
   "execution_count": null,
   "metadata": {},
   "outputs": [],
   "source": "def Crear_Grafico_Violin(df_long, variable_nombre, eleccion_nombre, guardar=True):\n    \"\"\"\n    Crea gráfico de violín para una variable específica usando seaborn.\n    \n    Parámetros:\n    -----------\n    df_long : DataFrame en formato largo\n    variable_nombre : 'Cambio de Opinión' o 'Cambio de Tiempo'\n    eleccion_nombre : 'Generales' o 'Ballotage'\n    guardar : bool, si True guarda el gráfico\n    \"\"\"\n    \n    # Filtrar datos\n    df_plot = df_long[df_long['Variable'] == variable_nombre].copy()\n    \n    # Crear figura más grande\n    fig, ax = plt.subplots(figsize=(12, 9))\n    \n    # Paleta de colores: Verde menta y Lavanda\n    palette = {\n        'Congruente': '#8dd3c7',\n        'Incongruente': '#bebada'\n    }\n    \n    # Crear gráfico de violín con seaborn\n    sns.violinplot(\n        data=df_plot,\n        x='Tipo',\n        y='Valor',\n        palette=palette,\n        cut=0,  # No extender más allá de los datos reales\n        inner='box',  # Mostrar cuartiles con cajita\n        linewidth=2,\n        alpha=0.85,\n        ax=ax\n    )\n    \n    # Configurar fondo con grid sutil\n    ax.set_facecolor('#fafafa')\n    ax.grid(True, alpha=0.25, linestyle='-', linewidth=0.5, color='gray')\n    ax.set_axisbelow(True)\n    \n    # Configurar ejes\n    ax.set_xlabel('Tipo de Congruencia', fontsize=14, fontweight='bold')\n    ax.set_ylabel('Valor', fontsize=14, fontweight='bold')\n    ax.tick_params(axis='both', labelsize=12)\n    \n    # Título\n    tipo_corto = 'CO' if variable_nombre == 'Cambio de Opinión' else 'CT'\n    ax.set_title(f'{variable_nombre}: Congruente vs Incongruente\\n{eleccion_nombre}',\n                 fontsize=16, fontweight='bold', pad=20)\n    \n    # Añadir línea en cero\n    ax.axhline(y=0, color='red', linestyle='--', linewidth=1.5, alpha=0.6, zorder=0)\n    \n    # Crear leyenda fuera del gráfico\n    from matplotlib.patches import Patch\n    from matplotlib.lines import Line2D\n    \n    legend_elements = [\n        Patch(facecolor='#8dd3c7', edgecolor='black', linewidth=1.5, \n              label='Congruente', alpha=0.85),\n        Patch(facecolor='#bebada', edgecolor='black', linewidth=1.5, \n              label='Incongruente', alpha=0.85),\n        Line2D([0], [0], color='black', linewidth=6, label='Mediana'),\n        Line2D([0], [0], color='black', linewidth=2, label='Cuartiles (Q1-Q3)'),\n        Line2D([0], [0], color='red', linestyle='--', linewidth=1.5, \n               label='Línea de cero', alpha=0.6)\n    ]\n    \n    # Posicionar leyenda fuera del área de ploteo\n    ax.legend(handles=legend_elements, \n              loc='upper left', \n              bbox_to_anchor=(1.02, 1),\n              fontsize=11,\n              frameon=True,\n              fancybox=True,\n              shadow=True,\n              framealpha=0.95)\n    \n    # Ajustar layout para que la leyenda no se corte\n    plt.tight_layout()\n    \n    # Guardar como SVG\n    if guardar:\n        carpeta = 'Graficos_Violin'\n        if not os.path.exists(carpeta):\n            os.makedirs(carpeta)\n        \n        nombre_archivo = f'Violin_{tipo_corto}_{eleccion_nombre}.svg'\n        ruta = os.path.join(carpeta, nombre_archivo)\n        plt.savefig(ruta, format='svg', bbox_inches='tight', facecolor='white')\n        print(f'✓ Gráfico guardado: {ruta}')\n    \n    plt.show()\n    \n    return fig, ax"
  },
  {
   "cell_type": "code",
   "metadata": {},
   "source": [
    "# Transformar datos a formato largo para seaborn\n",
    "def preparar_datos_long(df):\n",
    "    \"\"\"\n",
    "    Transforma datos de formato ancho a formato largo para visualización.\n",
    "    \"\"\"\n",
    "    df_long_list = []\n",
    "    \n",
    "    # CO: Cambio de Opinión\n",
    "    df_co = pd.DataFrame({\n",
    "        'Valor': pd.concat([df['CO_Congruente'], df['CO_Incongruente']]),\n",
    "        'Tipo': ['Congruente'] * len(df) + ['Incongruente'] * len(df),\n",
    "        'Variable': 'Cambio de Opinión'\n",
    "    })\n",
    "    \n",
    "    # CT: Cambio de Tiempo\n",
    "    df_ct = pd.DataFrame({\n",
    "        'Valor': pd.concat([df['CT_Congruente'], df['CT_Incongruente']]),\n",
    "        'Tipo': ['Congruente'] * len(df) + ['Incongruente'] * len(df),\n",
    "        'Variable': 'Cambio de Tiempo'\n",
    "    })\n",
    "    \n",
    "    # Combinar\n",
    "    df_long = pd.concat([df_co, df_ct], ignore_index=True)\n",
    "    df_long = df_long.dropna(subset=['Valor'])\n",
    "    \n",
    "    return df_long\n",
    "\n",
    "# Crear datasets en formato largo\n",
    "df_gen_long = preparar_datos_long(df_Generales)\n",
    "df_bal_long = preparar_datos_long(df_Ballotage)\n",
    "\n",
    "print('✓ Datos transformados a formato largo:')\n",
    "print(f'  - Generales: {len(df_gen_long)} observaciones')\n",
    "print(f'  - Ballotage: {len(df_bal_long)} observaciones')\n",
    "print(f'\\nColumnas: {list(df_gen_long.columns)}')\n",
    "print(f'\\nPrimeras filas:')\n",
    "print(df_gen_long.head(10))"
   ],
   "outputs": [],
   "execution_count": null
  },
  {
   "cell_type": "markdown",
   "metadata": {},
   "source": "## 3. Estadísticas Descriptivas"
  },
  {
   "cell_type": "code",
   "execution_count": null,
   "metadata": {},
   "outputs": [],
   "source": "print('='*70)\nprint('ESTADÍSTICAS DESCRIPTIVAS POR GRUPO')\nprint('='*70)\n\nfor nombre, df_long in [('Generales', df_gen_long), ('Ballotage', df_bal_long)]:\n    print(f'\\n📊 {nombre}:')\n    print('-'*70)\n    \n    for variable in ['Cambio de Opinión', 'Cambio de Tiempo']:\n        print(f'\\n  {variable}:')\n        \n        df_var = df_long[df_long['Variable'] == variable]\n        \n        for tipo in ['Congruente', 'Incongruente']:\n            datos = df_var[df_var['Tipo'] == tipo]['Valor']\n            \n            print(f'\\n    {tipo}:')\n            print(f'      n     = {len(datos)}')\n            print(f'      Media = {datos.mean():.4f}')\n            print(f'      Mediana = {datos.median():.4f}')\n            print(f'      DE    = {datos.std():.4f}')\n            print(f'      Min   = {datos.min():.4f}')\n            print(f'      Max   = {datos.max():.4f}')\n            print(f'      Q25   = {datos.quantile(0.25):.4f}')\n            print(f'      Q75   = {datos.quantile(0.75):.4f}')\n\nprint('\\n' + '='*70)"
  },
  {
   "cell_type": "markdown",
   "metadata": {},
   "source": "## 4. Gráficos de Violín"
  },
  {
   "cell_type": "markdown",
   "metadata": {},
   "source": "### 4.1. Gráficos: Generales"
  },
  {
   "cell_type": "code",
   "execution_count": null,
   "metadata": {},
   "outputs": [],
   "source": "print('Generando gráficos para Generales...\\n')\n\n# CO Generales\nfig_co_gen, ax_co_gen = Crear_Grafico_Violin(\n    df_gen_long,\n    'Cambio de Opinión',\n    'Generales'\n)"
  },
  {
   "cell_type": "code",
   "execution_count": null,
   "metadata": {},
   "outputs": [],
   "source": "# CT Generales\nfig_ct_gen, ax_ct_gen = Crear_Grafico_Violin(\n    df_gen_long,\n    'Cambio de Tiempo',\n    'Generales'\n)"
  },
  {
   "cell_type": "markdown",
   "metadata": {},
   "source": "### 4.2. Gráficos: Ballotage"
  },
  {
   "cell_type": "code",
   "execution_count": null,
   "metadata": {},
   "outputs": [],
   "source": "print('Generando gráficos para Ballotage...\\n')\n\n# CO Ballotage\nfig_co_bal, ax_co_bal = Crear_Grafico_Violin(\n    df_bal_long,\n    'Cambio de Opinión',\n    'Ballotage'\n)"
  },
  {
   "cell_type": "code",
   "execution_count": null,
   "metadata": {},
   "outputs": [],
   "source": "# CT Ballotage\nfig_ct_bal, ax_ct_bal = Crear_Grafico_Violin(\n    df_bal_long,\n    'Cambio de Tiempo',\n    'Ballotage'\n)"
  },
  {
   "cell_type": "markdown",
   "metadata": {},
   "source": "## 5. Pruebas de Significancia Estadística"
  },
  {
   "cell_type": "code",
   "execution_count": null,
   "metadata": {},
   "outputs": [],
   "source": "print('='*70)\nprint('TEST DE WILCOXON PAREADO')\nprint('='*70)\nprint('\\nH₀: No hay diferencia entre Congruente e Incongruente')\nprint('H₁: Hay diferencia entre Congruente e Incongruente\\n')\n\nresultados_tests = []\n\nfor nombre_df, df in [('Generales', df_Generales), ('Ballotage', df_Ballotage)]:\n    print(f'\\n📊 {nombre_df}:')\n    print('-'*70)\n    \n    for var_tipo, var_cong, var_incong in [\n        ('CO', 'CO_Congruente', 'CO_Incongruente'),\n        ('CT', 'CT_Congruente', 'CT_Incongruente')\n    ]:\n        datos_pareados = df[[var_cong, var_incong]].dropna()\n        \n        if len(datos_pareados) > 0:\n            stat, p_valor = stats.wilcoxon(\n                datos_pareados[var_cong],\n                datos_pareados[var_incong]\n            )\n            \n            # Determinar significancia\n            if p_valor < 0.001:\n                sig = '***'\n            elif p_valor < 0.01:\n                sig = '**'\n            elif p_valor < 0.05:\n                sig = '*'\n            else:\n                sig = 'ns'\n            \n            media_cong = datos_pareados[var_cong].mean()\n            media_incong = datos_pareados[var_incong].mean()\n            \n            print(f'\\n  {var_tipo}:')\n            print(f'    n = {len(datos_pareados)}')\n            print(f'    Media Congruente:    {media_cong:8.4f}')\n            print(f'    Media Incongruente:  {media_incong:8.4f}')\n            print(f'    Diferencia:          {media_cong - media_incong:8.4f}')\n            print(f'    Estadístico W:       {stat:8.2f}')\n            print(f'    p-valor:             {p_valor:.6f}')\n            print(f'    Significancia:       {sig}')\n            \n            if sig != 'ns':\n                if media_cong > media_incong:\n                    print(f'    ✓ Mayor en CONGRUENTE')\n                else:\n                    print(f'    ✓ Mayor en INCONGRUENTE')\n            \n            resultados_tests.append({\n                'Eleccion': nombre_df,\n                'Variable': var_tipo,\n                'n': len(datos_pareados),\n                'Media_Congruente': media_cong,\n                'Media_Incongruente': media_incong,\n                'W': stat,\n                'p_valor': p_valor,\n                'Significancia': sig\n            })\n\nprint('\\n' + '='*70)\n\n# Crear DataFrame con resultados\ndf_resultados = pd.DataFrame(resultados_tests)\nprint('\\n📋 Resumen de Resultados:\\n')\nprint(df_resultados.to_string(index=False))"
  },
  {
   "cell_type": "markdown",
   "metadata": {},
   "source": "## 6. Análisis de Distribuciones"
  },
  {
   "cell_type": "code",
   "execution_count": null,
   "metadata": {},
   "outputs": [],
   "source": "print('='*70)\nprint('ANÁLISIS DE FORMA DE DISTRIBUCIONES')\nprint('='*70)\n\nfor nombre, df in [('Generales', df_Generales), ('Ballotage', df_Ballotage)]:\n    print(f'\\n📊 {nombre}:')\n    print('-'*70)\n    \n    for var_nombre, var_col in [\n        ('CO_Congruente', 'CO_Congruente'),\n        ('CO_Incongruente', 'CO_Incongruente'),\n        ('CT_Congruente', 'CT_Congruente'),\n        ('CT_Incongruente', 'CT_Incongruente')\n    ]:\n        datos = df[var_col].dropna()\n        \n        if len(datos) > 3:\n            # Calcular asimetría (skewness) y curtosis\n            skewness = stats.skew(datos)\n            kurtosis = stats.kurtosis(datos)\n            \n            print(f'\\n  {var_nombre}:')\n            print(f'    Asimetría (skewness): {skewness:6.3f}', end='')\n            \n            if abs(skewness) < 0.5:\n                print(' (aproximadamente simétrica)')\n            elif skewness > 0:\n                print(' (sesgada a la derecha)')\n            else:\n                print(' (sesgada a la izquierda)')\n            \n            print(f'    Curtosis:             {kurtosis:6.3f}', end='')\n            \n            if abs(kurtosis) < 1:\n                print(' (mesocúrtica, similar a normal)')\n            elif kurtosis > 0:\n                print(' (leptocúrtica, más puntiaguda)')\n            else:\n                print(' (platicúrtica, más aplanada)')\n            \n            # Test de normalidad (Shapiro-Wilk para n < 5000)\n            if len(datos) < 5000:\n                w_stat, p_normal = stats.shapiro(datos)\n                print(f'    Test Shapiro-Wilk:    p = {p_normal:.6f}', end='')\n                \n                if p_normal < 0.05:\n                    print(' (NO normal)')\n                else:\n                    print(' (aproximadamente normal)')\n\nprint('\\n' + '='*70)"
  },
  {
   "cell_type": "markdown",
   "metadata": {},
   "source": "## 7. Guardar Resumen de Resultados"
  },
  {
   "cell_type": "code",
   "execution_count": null,
   "metadata": {},
   "outputs": [],
   "source": "# Guardar tabla de resultados\nCarpeta_Salida = os.path.join(os.getcwd(), '..', 'Data', 'Resultados_Violin')\nif not os.path.exists(Carpeta_Salida):\n    os.makedirs(Carpeta_Salida)\n\narchivo = os.path.join(Carpeta_Salida, 'Resultados_Tests_Congruencia.xlsx')\ndf_resultados.to_excel(archivo, index=False)\nprint(f'✓ Resultados guardados: {archivo}')"
  },
  {
   "cell_type": "markdown",
   "metadata": {},
   "source": "## 8. Resumen Final"
  },
  {
   "cell_type": "code",
   "execution_count": null,
   "metadata": {},
   "outputs": [],
   "source": [
    "print('='*70)\n",
    "print('RESUMEN: GRÁFICOS DE VIOLÍN - CONGRUENCIA IDEOLÓGICA')\n",
    "print('='*70)\n",
    "\n",
    "print('\\n📊 Análisis completado:')\n",
    "print('  - Gráficos generados: 4 (2 por elección)')\n",
    "print('  - Variables analizadas: CO y CT (Congruente vs Incongruente)')\n",
    "print('  - Elecciones: Generales y Ballotage')\n",
    "\n",
    "print('\\n📁 Archivos generados:')\n",
    "print('  Gráficos:')\n",
    "print('    - Graficos_Violin/Violin_CO_Generales.svg')\n",
    "print('    - Graficos_Violin/Violin_CT_Generales.svg')\n",
    "print('    - Graficos_Violin/Violin_CO_Ballotage.svg')\n",
    "print('    - Graficos_Violin/Violin_CT_Ballotage.svg')\n",
    "print('  Datos:')\n",
    "print('    - Data/Resultados_Violin/Resultados_Tests_Congruencia.xlsx')\n",
    "\n",
    "print('\\n💡 Interpretación de gráficos de violín:')\n",
    "print('  - Ancho del violín: densidad de observaciones en ese valor')\n",
    "print('  - Línea horizontal (mediana): divide la distribución en 2 mitades iguales')\n",
    "print('  - Diamante (media): centro de gravedad de la distribución')\n",
    "print('  - Forma simétrica: distribución balanceada')\n",
    "print('  - Múltiples \"barrigas\": posible distribución multimodal')\n",
    "\n",
    "print('\\n🎯 Hallazgos principales:')\n",
    "\n",
    "for _, row in df_resultados.iterrows():\n",
    "    if row['Significancia'] != 'ns':\n",
    "        direccion = 'Congruente > Incongruente' if row['Media_Congruente'] > row['Media_Incongruente'] else 'Incongruente > Congruente'\n",
    "        print(f\"  {row['Eleccion']} - {row['Variable']}: {direccion} (p = {row['p_valor']:.4f} {row['Significancia']})\")\n",
    "\n",
    "print('\\n' + '='*70)\n",
    "print('✓ ANÁLISIS COMPLETADO')\n",
    "print('='*70)"
   ]
  }
 ],
 "metadata": {
  "kernelspec": {
   "display_name": "Python 3",
   "language": "python",
   "name": "python3"
  },
  "language_info": {
   "name": "python",
   "version": "3.8.0"
  }
 },
 "nbformat": 4,
 "nbformat_minor": 4
}