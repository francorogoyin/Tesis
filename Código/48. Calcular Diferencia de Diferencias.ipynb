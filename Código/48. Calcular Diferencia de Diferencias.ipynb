{
 "cells": [
  {
   "cell_type": "markdown",
   "metadata": {},
   "source": [
    "# Cálculo de Diferencia de Diferencias (DifDif)\n",
    "\n",
    "Este notebook calcula nuevas variables que miden la **diferencia de diferencias** entre Generales y Ballotage.\n",
    "\n",
    "## Concepto:\n",
    "\n",
    "Para cada ítem, calculamos:\n",
    "\n",
    "1. **Diferencia en Generales**: `Dif_Gen = Izq - Der` (en Generales)\n",
    "2. **Diferencia en Ballotage**: `Dif_Bal = Izq - Der` (en Ballotage)\n",
    "3. **Diferencia de Diferencias**: `DifDif = Dif_Bal - Dif_Gen`\n",
    "\n",
    "Esto nos dice **cómo cambió la asimetría izquierda-derecha** entre ambas elecciones.\n",
    "\n",
    "## Variables calculadas:\n",
    "\n",
    "- `DifDif_CO_Item_X`: Para Cambio de Opinión\n",
    "- `DifDif_CT_Item_X`: Para Cambio de Tiempo\n",
    "\n",
    "Donde X es el número de ítem (3, 4, 5, 6, 7, 8, 9, 10, 11, 16, 19, 20, 22, 23, 24, 25, 27, 28, 29, 30)"
   ]
  },
  {
   "cell_type": "code",
   "execution_count": 1,
   "metadata": {},
   "outputs": [
    {
     "name": "stdout",
     "output_type": "stream",
     "text": [
      "Librerías cargadas exitosamente\n"
     ]
    }
   ],
   "source": [
    "import pandas as pd\n",
    "import numpy as np\n",
    "import os\n",
    "\n",
    "print(\"Librerías cargadas exitosamente\")"
   ]
  },
  {
   "cell_type": "markdown",
   "metadata": {},
   "source": [
    "## 1. Cargar Datos"
   ]
  },
  {
   "cell_type": "code",
   "execution_count": 2,
   "metadata": {},
   "outputs": [
    {
     "name": "stdout",
     "output_type": "stream",
     "text": [
      "✓ Datos cargados desde Excel:\n",
      "  - Generales: 2786 registros, 488 columnas\n",
      "  - Ballotage: 1254 registros, 471 columnas\n"
     ]
    }
   ],
   "source": [
    "# Rutas a los archivos Excel\n",
    "Ruta_Base = os.path.join(os.getcwd(), '..', 'Data', 'Bases definitivas')\n",
    "Excel_Generales = os.path.join(Ruta_Base, 'Generales.xlsx')\n",
    "Excel_Ballotage = os.path.join(Ruta_Base, 'Ballotage.xlsx')\n",
    "\n",
    "# Cargar DataFrames desde Excel\n",
    "df_Generales = pd.read_excel(Excel_Generales)\n",
    "df_Ballotage = pd.read_excel(Excel_Ballotage)\n",
    "\n",
    "print(f\"✓ Datos cargados desde Excel:\")\n",
    "print(f\"  - Generales: {len(df_Generales)} registros, {len(df_Generales.columns)} columnas\")\n",
    "print(f\"  - Ballotage: {len(df_Ballotage)} registros, {len(df_Ballotage.columns)} columnas\")"
   ]
  },
  {
   "cell_type": "markdown",
   "metadata": {},
   "source": [
    "## 2. Definir Ítems a Procesar"
   ]
  },
  {
   "cell_type": "code",
   "execution_count": 3,
   "metadata": {},
   "outputs": [
    {
     "name": "stdout",
     "output_type": "stream",
     "text": [
      "Total de ítems a procesar: 20\n",
      "Ítems: [3, 4, 5, 6, 7, 8, 9, 10, 11, 16, 19, 20, 22, 23, 24, 25, 27, 28, 29, 30]\n"
     ]
    }
   ],
   "source": [
    "# Ítems progresistas y conservadores\n",
    "Items_Progresistas = [5, 6, 9, 11, 16, 20, 24, 25, 27, 28]\n",
    "Items_Conservadores = [3, 4, 7, 8, 10, 19, 22, 23, 29, 30]\n",
    "\n",
    "# Todos los ítems\n",
    "Todos_Items = sorted(Items_Progresistas + Items_Conservadores)\n",
    "\n",
    "print(f\"Total de ítems a procesar: {len(Todos_Items)}\")\n",
    "print(f\"Ítems: {Todos_Items}\")"
   ]
  },
  {
   "cell_type": "markdown",
   "metadata": {},
   "source": [
    "## 3. Función para Calcular Diferencia de Diferencias"
   ]
  },
  {
   "cell_type": "code",
   "execution_count": 4,
   "metadata": {},
   "outputs": [],
   "source": [
    "def Calcular_DifDif_Para_Tipo(df_gen, df_bal, items, tipo):\n",
    "    \"\"\"\n",
    "    Calcula las variables de diferencia de diferencias para un tipo específico (CO o CT).\n",
    "    \n",
    "    Parámetros:\n",
    "    - df_gen: DataFrame de Generales\n",
    "    - df_bal: DataFrame de Ballotage\n",
    "    - items: Lista de números de ítems\n",
    "    - tipo: 'CO' o 'CT'\n",
    "    \n",
    "    Retorna:\n",
    "    - DataFrame con las columnas DifDif calculadas\n",
    "    \"\"\"\n",
    "    \n",
    "    # DataFrame resultado\n",
    "    df_resultado = pd.DataFrame()\n",
    "    \n",
    "    # Para cada ítem\n",
    "    for item in items:\n",
    "        # Nombres de las variables\n",
    "        var_izq = f'{tipo}_Item_{item}_Izq'\n",
    "        var_der = f'{tipo}_Item_{item}_Der'\n",
    "        \n",
    "        # Verificar que las columnas existen en ambos DataFrames\n",
    "        if var_izq in df_gen.columns and var_der in df_gen.columns and \\\n",
    "           var_izq in df_bal.columns and var_der in df_bal.columns:\n",
    "            \n",
    "            # Paso 1: Diferencia en Generales (Izq - Der)\n",
    "            Dif_Gen = df_gen[var_izq] - df_gen[var_der]\n",
    "            \n",
    "            # Paso 2: Diferencia en Ballotage (Izq - Der)\n",
    "            Dif_Bal = df_bal[var_izq] - df_bal[var_der]\n",
    "            \n",
    "            # Paso 3: Diferencia de Diferencias\n",
    "            DifDif = Dif_Bal - Dif_Gen\n",
    "            \n",
    "            # Nombre de la variable resultado\n",
    "            nombre_dif_gen = f'Dif_Gen_{tipo}_Item_{item}'\n",
    "            nombre_dif_bal = f'Dif_Bal_{tipo}_Item_{item}'\n",
    "            nombre_difdif = f'DifDif_{tipo}_Item_{item}'\n",
    "            \n",
    "            # Agregar al DataFrame resultado\n",
    "            df_resultado[nombre_dif_gen] = Dif_Gen\n",
    "            df_resultado[nombre_dif_bal] = Dif_Bal\n",
    "            df_resultado[nombre_difdif] = DifDif\n",
    "            \n",
    "        else:\n",
    "            print(f\"⚠️  Variables {var_izq} o {var_der} no encontradas en ambos DataFrames\")\n",
    "    \n",
    "    return df_resultado"
   ]
  },
  {
   "cell_type": "markdown",
   "metadata": {},
   "source": [
    "## 4. Calcular DifDif para CO (Cambio de Opinión)"
   ]
  },
  {
   "cell_type": "code",
   "execution_count": 5,
   "metadata": {},
   "outputs": [
    {
     "name": "stdout",
     "output_type": "stream",
     "text": [
      "Calculando DifDif para CO (Cambio de Opinión)...\n",
      "\n",
      "\n",
      "✓ Calculadas 60 variables para CO\n",
      "  Total de filas: 2786\n",
      "\n",
      "Primeras columnas: ['Dif_Gen_CO_Item_3', 'Dif_Bal_CO_Item_3', 'DifDif_CO_Item_3', 'Dif_Gen_CO_Item_4', 'Dif_Bal_CO_Item_4', 'DifDif_CO_Item_4']\n"
     ]
    }
   ],
   "source": [
    "print(\"Calculando DifDif para CO (Cambio de Opinión)...\\n\")\n",
    "\n",
    "df_DifDif_CO = Calcular_DifDif_Para_Tipo(\n",
    "    df_gen=df_Generales,\n",
    "    df_bal=df_Ballotage,\n",
    "    items=Todos_Items,\n",
    "    tipo='CO'\n",
    ")\n",
    "\n",
    "print(f\"\\n✓ Calculadas {len(df_DifDif_CO.columns)} variables para CO\")\n",
    "print(f\"  Total de filas: {len(df_DifDif_CO)}\")\n",
    "print(f\"\\nPrimeras columnas: {df_DifDif_CO.columns[:6].tolist()}\")"
   ]
  },
  {
   "cell_type": "markdown",
   "metadata": {},
   "source": [
    "## 5. Calcular DifDif para CT (Cambio de Tiempo)"
   ]
  },
  {
   "cell_type": "code",
   "execution_count": 6,
   "metadata": {},
   "outputs": [
    {
     "name": "stdout",
     "output_type": "stream",
     "text": [
      "Calculando DifDif para CT (Cambio de Tiempo)...\n",
      "\n",
      "\n",
      "✓ Calculadas 60 variables para CT\n",
      "  Total de filas: 2786\n",
      "\n",
      "Primeras columnas: ['Dif_Gen_CT_Item_3', 'Dif_Bal_CT_Item_3', 'DifDif_CT_Item_3', 'Dif_Gen_CT_Item_4', 'Dif_Bal_CT_Item_4', 'DifDif_CT_Item_4']\n"
     ]
    }
   ],
   "source": [
    "print(\"Calculando DifDif para CT (Cambio de Tiempo)...\\n\")\n",
    "\n",
    "df_DifDif_CT = Calcular_DifDif_Para_Tipo(\n",
    "    df_gen=df_Generales,\n",
    "    df_bal=df_Ballotage,\n",
    "    items=Todos_Items,\n",
    "    tipo='CT'\n",
    ")\n",
    "\n",
    "print(f\"\\n✓ Calculadas {len(df_DifDif_CT.columns)} variables para CT\")\n",
    "print(f\"  Total de filas: {len(df_DifDif_CT)}\")\n",
    "print(f\"\\nPrimeras columnas: {df_DifDif_CT.columns[:6].tolist()}\")"
   ]
  },
  {
   "cell_type": "markdown",
   "metadata": {},
   "source": [
    "## 6. Crear DataFrame Elecciones Completo"
   ]
  },
  {
   "cell_type": "code",
   "execution_count": 7,
   "metadata": {},
   "outputs": [
    {
     "name": "stdout",
     "output_type": "stream",
     "text": [
      "✓ DataFrame df_Elecciones creado exitosamente\n",
      "  Dimensiones: (2786, 122)\n",
      "  Total de variables DifDif: 40\n",
      "\n",
      "Columnas de identificación: ['Categoria_PASO_2023', 'ID']\n"
     ]
    }
   ],
   "source": [
    "# Combinar ambos DataFrames\n",
    "df_Elecciones = pd.concat([df_DifDif_CO, df_DifDif_CT], axis=1)\n",
    "\n",
    "# Agregar información de identificación desde df_Generales\n",
    "# Asumiendo que ambos DataFrames tienen el mismo número de filas en el mismo orden\n",
    "columnas_identificacion = ['Categoria_PASO_2023']\n",
    "\n",
    "# Agregar más columnas si existen\n",
    "if 'ID' in df_Generales.columns:\n",
    "    columnas_identificacion.insert(0, 'ID')\n",
    "\n",
    "for col in columnas_identificacion:\n",
    "    if col in df_Generales.columns:\n",
    "        df_Elecciones.insert(0, col, df_Generales[col].values)\n",
    "\n",
    "print(f\"✓ DataFrame df_Elecciones creado exitosamente\")\n",
    "print(f\"  Dimensiones: {df_Elecciones.shape}\")\n",
    "print(f\"  Total de variables DifDif: {len([col for col in df_Elecciones.columns if col.startswith('DifDif')])}\")\n",
    "print(f\"\\nColumnas de identificación: {[col for col in df_Elecciones.columns if not col.startswith('Dif')]}\")"
   ]
  },
  {
   "cell_type": "markdown",
   "metadata": {},
   "source": [
    "## 7. Exploración de los Datos"
   ]
  },
  {
   "cell_type": "code",
   "execution_count": 8,
   "metadata": {},
   "outputs": [
    {
     "name": "stdout",
     "output_type": "stream",
     "text": [
      "Primeras 5 filas de df_Elecciones:\n",
      "\n",
      "      Categoria_PASO_2023    ID  Dif_Gen_CO_Item_3  Dif_Bal_CO_Item_3  \\\n",
      "0        Moderate_Right_B  2792                3.0                NaN   \n",
      "1  Right_Wing_Libertarian  2800                NaN                NaN   \n",
      "2        Moderate_Right_A  2805                NaN                NaN   \n",
      "3               Left_Wing  3148                NaN                NaN   \n",
      "4                No_Apply  3212                NaN                NaN   \n",
      "\n",
      "   DifDif_CO_Item_3  Dif_Gen_CO_Item_4  Dif_Bal_CO_Item_4  DifDif_CO_Item_4  \\\n",
      "0               NaN                NaN                NaN               NaN   \n",
      "1               NaN                NaN                NaN               NaN   \n",
      "2               NaN                0.0                NaN               NaN   \n",
      "3               NaN                NaN                NaN               NaN   \n",
      "4               NaN                NaN                NaN               NaN   \n",
      "\n",
      "   Dif_Gen_CO_Item_5  Dif_Bal_CO_Item_5  ...  DifDif_CT_Item_27  \\\n",
      "0                NaN                1.0  ...                NaN   \n",
      "1                NaN                NaN  ...                NaN   \n",
      "2                NaN                0.0  ...                NaN   \n",
      "3                0.0                NaN  ...                NaN   \n",
      "4                NaN                0.0  ...                NaN   \n",
      "\n",
      "   Dif_Gen_CT_Item_28  Dif_Bal_CT_Item_28  DifDif_CT_Item_28  \\\n",
      "0               0.226               3.727              3.501   \n",
      "1                 NaN                 NaN                NaN   \n",
      "2                 NaN               1.006                NaN   \n",
      "3                 NaN              -1.396                NaN   \n",
      "4               5.286                 NaN                NaN   \n",
      "\n",
      "   Dif_Gen_CT_Item_29  Dif_Bal_CT_Item_29  DifDif_CT_Item_29  \\\n",
      "0                 NaN               5.253                NaN   \n",
      "1                 NaN                 NaN                NaN   \n",
      "2               0.179                 NaN                NaN   \n",
      "3                 NaN               1.607                NaN   \n",
      "4                 NaN                 NaN                NaN   \n",
      "\n",
      "   Dif_Gen_CT_Item_30  Dif_Bal_CT_Item_30  DifDif_CT_Item_30  \n",
      "0                 NaN                 NaN                NaN  \n",
      "1              -1.571              -2.147             -0.576  \n",
      "2              -1.596                 NaN                NaN  \n",
      "3              -0.053                 NaN                NaN  \n",
      "4               2.976                 NaN                NaN  \n",
      "\n",
      "[5 rows x 122 columns]\n"
     ]
    }
   ],
   "source": [
    "# Mostrar las primeras filas\n",
    "print(\"Primeras 5 filas de df_Elecciones:\\n\")\n",
    "print(df_Elecciones.head())"
   ]
  },
  {
   "cell_type": "code",
   "execution_count": 9,
   "metadata": {},
   "outputs": [
    {
     "name": "stdout",
     "output_type": "stream",
     "text": [
      "\n",
      "Estadísticas descriptivas de DifDif_CO (primeras 5 variables):\n",
      "\n",
      "       DifDif_CO_Item_3  DifDif_CO_Item_4  DifDif_CO_Item_5  DifDif_CO_Item_6  \\\n",
      "count        176.000000        141.000000        167.000000        164.000000   \n",
      "mean           0.073864          0.113475         -0.119760         -0.006098   \n",
      "std            1.556626          1.444656          1.491148          2.017552   \n",
      "min           -4.000000         -5.000000         -4.000000         -8.000000   \n",
      "25%            0.000000          0.000000         -1.000000          0.000000   \n",
      "50%            0.000000          0.000000          0.000000          0.000000   \n",
      "75%            0.000000          0.000000          0.000000          1.000000   \n",
      "max            7.000000          4.000000          5.000000          4.000000   \n",
      "\n",
      "       DifDif_CO_Item_7  \n",
      "count        135.000000  \n",
      "mean           0.103704  \n",
      "std            1.763113  \n",
      "min           -4.000000  \n",
      "25%            0.000000  \n",
      "50%            0.000000  \n",
      "75%            0.000000  \n",
      "max            7.000000  \n"
     ]
    }
   ],
   "source": [
    "# Estadísticas descriptivas de las variables DifDif_CO\n",
    "columnas_difdif_co = [col for col in df_Elecciones.columns if col.startswith('DifDif_CO')]\n",
    "\n",
    "print(f\"\\nEstadísticas descriptivas de DifDif_CO (primeras 5 variables):\\n\")\n",
    "print(df_Elecciones[columnas_difdif_co[:5]].describe())"
   ]
  },
  {
   "cell_type": "code",
   "execution_count": 10,
   "metadata": {},
   "outputs": [
    {
     "name": "stdout",
     "output_type": "stream",
     "text": [
      "\n",
      "Estadísticas descriptivas de DifDif_CT (primeras 5 variables):\n",
      "\n",
      "       DifDif_CT_Item_3  DifDif_CT_Item_4  DifDif_CT_Item_5  DifDif_CT_Item_6  \\\n",
      "count        176.000000        141.000000        167.000000        164.000000   \n",
      "mean           0.892293          0.480277          2.574593          0.038692   \n",
      "std           13.451007          5.991982         14.583042         11.479872   \n",
      "min          -25.894000        -29.444000        -17.879000        -43.711000   \n",
      "25%           -2.522000         -2.053000         -2.175500         -4.624000   \n",
      "50%           -0.404000          0.746000          0.384000         -0.419500   \n",
      "75%            2.591250          3.431000          3.737000          3.226250   \n",
      "max          146.585000         16.242000        148.364500         65.332000   \n",
      "\n",
      "       DifDif_CT_Item_7  \n",
      "count        135.000000  \n",
      "mean          -1.764437  \n",
      "std           10.488542  \n",
      "min          -63.497000  \n",
      "25%           -2.790000  \n",
      "50%           -0.121000  \n",
      "75%            2.338000  \n",
      "max           27.447000  \n"
     ]
    }
   ],
   "source": [
    "# Estadísticas descriptivas de las variables DifDif_CT\n",
    "columnas_difdif_ct = [col for col in df_Elecciones.columns if col.startswith('DifDif_CT')]\n",
    "\n",
    "print(f\"\\nEstadísticas descriptivas de DifDif_CT (primeras 5 variables):\\n\")\n",
    "print(df_Elecciones[columnas_difdif_ct[:5]].describe())"
   ]
  },
  {
   "cell_type": "markdown",
   "metadata": {},
   "source": [
    "## 8. Verificar Valores Faltantes"
   ]
  },
  {
   "cell_type": "code",
   "execution_count": 11,
   "metadata": {},
   "outputs": [
    {
     "name": "stdout",
     "output_type": "stream",
     "text": [
      "Valores faltantes por variable DifDif_CO:\n",
      "\n",
      "DifDif_CO_Item_3     2610\n",
      "DifDif_CO_Item_4     2645\n",
      "DifDif_CO_Item_5     2619\n",
      "DifDif_CO_Item_6     2622\n",
      "DifDif_CO_Item_7     2651\n",
      "DifDif_CO_Item_8     2622\n",
      "DifDif_CO_Item_9     2638\n",
      "DifDif_CO_Item_10    2629\n",
      "DifDif_CO_Item_11    2633\n",
      "DifDif_CO_Item_16    2632\n",
      "DifDif_CO_Item_19    2631\n",
      "DifDif_CO_Item_20    2639\n",
      "DifDif_CO_Item_22    2649\n",
      "DifDif_CO_Item_23    2630\n",
      "DifDif_CO_Item_24    2634\n",
      "DifDif_CO_Item_25    2614\n",
      "DifDif_CO_Item_27    2626\n",
      "DifDif_CO_Item_28    2641\n",
      "DifDif_CO_Item_29    2636\n",
      "DifDif_CO_Item_30    2633\n",
      "dtype: int64\n"
     ]
    }
   ],
   "source": [
    "# Contar valores faltantes\n",
    "print(\"Valores faltantes por variable DifDif_CO:\\n\")\n",
    "valores_faltantes_co = df_Elecciones[columnas_difdif_co].isnull().sum()\n",
    "print(valores_faltantes_co[valores_faltantes_co > 0])\n",
    "if valores_faltantes_co.sum() == 0:\n",
    "    print(\"  ✓ No hay valores faltantes en DifDif_CO\")"
   ]
  },
  {
   "cell_type": "code",
   "execution_count": 12,
   "metadata": {},
   "outputs": [
    {
     "name": "stdout",
     "output_type": "stream",
     "text": [
      "\n",
      "Valores faltantes por variable DifDif_CT:\n",
      "\n",
      "DifDif_CT_Item_3     2610\n",
      "DifDif_CT_Item_4     2645\n",
      "DifDif_CT_Item_5     2619\n",
      "DifDif_CT_Item_6     2622\n",
      "DifDif_CT_Item_7     2651\n",
      "DifDif_CT_Item_8     2622\n",
      "DifDif_CT_Item_9     2638\n",
      "DifDif_CT_Item_10    2629\n",
      "DifDif_CT_Item_11    2633\n",
      "DifDif_CT_Item_16    2632\n",
      "DifDif_CT_Item_19    2631\n",
      "DifDif_CT_Item_20    2639\n",
      "DifDif_CT_Item_22    2649\n",
      "DifDif_CT_Item_23    2630\n",
      "DifDif_CT_Item_24    2634\n",
      "DifDif_CT_Item_25    2614\n",
      "DifDif_CT_Item_27    2626\n",
      "DifDif_CT_Item_28    2641\n",
      "DifDif_CT_Item_29    2636\n",
      "DifDif_CT_Item_30    2633\n",
      "dtype: int64\n"
     ]
    }
   ],
   "source": [
    "print(\"\\nValores faltantes por variable DifDif_CT:\\n\")\n",
    "valores_faltantes_ct = df_Elecciones[columnas_difdif_ct].isnull().sum()\n",
    "print(valores_faltantes_ct[valores_faltantes_ct > 0])\n",
    "if valores_faltantes_ct.sum() == 0:\n",
    "    print(\"  ✓ No hay valores faltantes en DifDif_CT\")"
   ]
  },
  {
   "cell_type": "markdown",
   "metadata": {},
   "source": [
    "## 9. Distribución por Categoría"
   ]
  },
  {
   "cell_type": "code",
   "execution_count": 13,
   "metadata": {},
   "outputs": [
    {
     "name": "stdout",
     "output_type": "stream",
     "text": [
      "\n",
      "Distribución de registros por Categoría PASO 2023:\n",
      "\n",
      "Categoria_PASO_2023\n",
      "Blank                       66\n",
      "Centre                      84\n",
      "Left_Wing                  425\n",
      "Moderate_Right_A           208\n",
      "Moderate_Right_B           212\n",
      "No_Apply                   325\n",
      "No_Response                 24\n",
      "Progressivism             1257\n",
      "Right_Wing_Libertarian     185\n",
      "Name: count, dtype: int64\n",
      "\n",
      "Total: 2786 registros\n"
     ]
    }
   ],
   "source": [
    "# Contar registros por categoría\n",
    "if 'Categoria_PASO_2023' in df_Elecciones.columns:\n",
    "    print(\"\\nDistribución de registros por Categoría PASO 2023:\\n\")\n",
    "    print(df_Elecciones['Categoria_PASO_2023'].value_counts().sort_index())\n",
    "    print(f\"\\nTotal: {df_Elecciones['Categoria_PASO_2023'].value_counts().sum()} registros\")"
   ]
  },
  {
   "cell_type": "markdown",
   "metadata": {},
   "source": [
    "## 10. Guardar DataFrame Elecciones"
   ]
  },
  {
   "cell_type": "code",
   "execution_count": 14,
   "metadata": {},
   "outputs": [
    {
     "name": "stdout",
     "output_type": "stream",
     "text": [
      "\n",
      "✅ DataFrame guardado exitosamente en: c:\\Users\\Patricio\\Documents\\Codigo\\Python\\Investigacion\\Tesis\\Código\\..\\Data\\Procesados\\df_Elecciones.xlsx\n",
      "   2786 registros × 122 columnas\n"
     ]
    }
   ],
   "source": [
    "# Crear carpeta si no existe\n",
    "Carpeta_Salida = os.path.join(os.getcwd(), '..', 'Data', 'Procesados')\n",
    "if not os.path.exists(Carpeta_Salida):\n",
    "    os.makedirs(Carpeta_Salida)\n",
    "\n",
    "# Guardar en Excel\n",
    "Ruta_Salida = os.path.join(Carpeta_Salida, 'df_Elecciones.xlsx')\n",
    "df_Elecciones.to_excel(Ruta_Salida, index=False)\n",
    "\n",
    "print(f\"\\n✅ DataFrame guardado exitosamente en: {Ruta_Salida}\")\n",
    "print(f\"   {len(df_Elecciones)} registros × {len(df_Elecciones.columns)} columnas\")"
   ]
  },
  {
   "cell_type": "markdown",
   "metadata": {},
   "source": [
    "## 11. Resumen Final"
   ]
  },
  {
   "cell_type": "code",
   "execution_count": 15,
   "metadata": {},
   "outputs": [
    {
     "name": "stdout",
     "output_type": "stream",
     "text": [
      "======================================================================\n",
      "RESUMEN DEL CÁLCULO DE DIFERENCIA DE DIFERENCIAS\n",
      "======================================================================\n",
      "\n",
      "📊 Variables calculadas:\n",
      "   - Variables DifDif_CO: 20\n",
      "   - Variables DifDif_CT: 20\n",
      "   - Total variables DifDif: 40\n",
      "\n",
      "📁 DataFrame df_Elecciones:\n",
      "   - Dimensiones: 2786 filas × 122 columnas\n",
      "   - Archivo guardado: df_Elecciones.xlsx\n",
      "\n",
      "🎯 Interpretación de DifDif:\n",
      "   - DifDif > 0: La diferencia Izq-Der aumentó en Ballotage\n",
      "   - DifDif < 0: La diferencia Izq-Der disminuyó en Ballotage\n",
      "   - DifDif = 0: No hubo cambio en la asimetría Izq-Der\n",
      "\n",
      "✅ Proceso completado exitosamente\n",
      "======================================================================\n"
     ]
    }
   ],
   "source": [
    "print(\"=\"*70)\n",
    "print(\"RESUMEN DEL CÁLCULO DE DIFERENCIA DE DIFERENCIAS\")\n",
    "print(\"=\"*70)\n",
    "print(f\"\\n📊 Variables calculadas:\")\n",
    "print(f\"   - Variables DifDif_CO: {len(columnas_difdif_co)}\")\n",
    "print(f\"   - Variables DifDif_CT: {len(columnas_difdif_ct)}\")\n",
    "print(f\"   - Total variables DifDif: {len(columnas_difdif_co) + len(columnas_difdif_ct)}\")\n",
    "\n",
    "print(f\"\\n📁 DataFrame df_Elecciones:\")\n",
    "print(f\"   - Dimensiones: {df_Elecciones.shape[0]} filas × {df_Elecciones.shape[1]} columnas\")\n",
    "print(f\"   - Archivo guardado: df_Elecciones.xlsx\")\n",
    "\n",
    "print(f\"\\n🎯 Interpretación de DifDif:\")\n",
    "print(f\"   - DifDif > 0: La diferencia Izq-Der aumentó en Ballotage\")\n",
    "print(f\"   - DifDif < 0: La diferencia Izq-Der disminuyó en Ballotage\")\n",
    "print(f\"   - DifDif = 0: No hubo cambio en la asimetría Izq-Der\")\n",
    "\n",
    "print(f\"\\n✅ Proceso completado exitosamente\")\n",
    "print(\"=\"*70)"
   ]
  }
 ],
 "metadata": {
  "kernelspec": {
   "display_name": "Python 3",
   "language": "python",
   "name": "python3"
  },
  "language_info": {
   "codemirror_mode": {
    "name": "ipython",
    "version": 3
   },
   "file_extension": ".py",
   "mimetype": "text/x-python",
   "name": "python",
   "nbconvert_exporter": "python",
   "pygments_lexer": "ipython3",
   "version": "3.13.7"
  }
 },
 "nbformat": 4,
 "nbformat_minor": 4
}
