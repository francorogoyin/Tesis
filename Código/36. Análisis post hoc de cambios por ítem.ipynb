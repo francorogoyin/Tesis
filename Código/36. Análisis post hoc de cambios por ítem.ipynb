{
 "cells": [
  {
   "cell_type": "code",
   "execution_count": 1,
   "id": "87471fb7",
   "metadata": {},
   "outputs": [],
   "source": [
    "# Librerías.\n",
    "import pandas as pd\n",
    "import Funciones as f\n",
    "import unidecode\n",
    "from docx import Document\n",
    "from docx.shared import Inches\n",
    "import os\n",
    "import matplotlib.pyplot as plt\n",
    "import seaborn as sns\n",
    "import numpy as np\n",
    "import scikit_posthocs as sp"
   ]
  },
  {
   "cell_type": "code",
   "execution_count": 2,
   "id": "ae815838",
   "metadata": {},
   "outputs": [],
   "source": [
    "%%capture\n",
    "%run \"35. Comparaciones estadísticas de cambios de tiempo por ítem.ipynb\""
   ]
  },
  {
   "cell_type": "code",
   "execution_count": null,
   "id": "afcb7650",
   "metadata": {},
   "outputs": [],
   "source": [
    "for Nombre_df, df in dfs_Finales.items():\n",
    "\n",
    "    print(\"\\n\" + \"=\"*50)\n",
    "    print(f\"Análisis post hoc de tiempospara el conjunto de datos: {Nombre_df}\")\n",
    "    print(\"\\n\" + \"=\"*50)\n",
    "\n",
    "    # Extraer las variables significativas.\n",
    "    Variables_Significativas = Todas_Variables_Significativas['Cambios_Tiempo_Por_Item_Significativos'][Nombre_df]\n",
    "\n",
    "    # Diccionario para almacenar los resultados de Dunn.\n",
    "    Resultados_Post_Hoc = {}\n",
    "\n",
    "    # Aplicar prueba de Dunn por cada variable significativa.\n",
    "    for Variable in Variables_Significativas:\n",
    "\n",
    "        # Eliminar filas con NaN en la variable específica o en la categoría.\n",
    "        Datos_Limpios = df[['Categoria_PASO_2023', Variable]].dropna()\n",
    "\n",
    "        Matriz_Dunn = sp.posthoc_dunn(\n",
    "            Datos_Limpios,\n",
    "            val_col = Variable,\n",
    "            group_col = 'Categoria_PASO_2023',\n",
    "            p_adjust = 'holm'\n",
    "        )\n",
    "        Resultados_Post_Hoc[Variable] = Matriz_Dunn\n",
    "    \n",
    "    # Inicializar lista de resúmenes interpretativos.\n",
    "    Resumen_Significancias = []\n",
    "\n",
    "    # Recorrer cada variable significativa.\n",
    "    for Nombre_Variable, Matriz in Resultados_Post_Hoc.items():\n",
    "        Comparaciones_Significativas = []\n",
    "\n",
    "        for Categoria_1 in Matriz.index:\n",
    "            for Categoria_2 in Matriz.columns:\n",
    "                if Categoria_1 < Categoria_2:  # Evita duplicados.\n",
    "                    P_Valor = Matriz.loc[Categoria_1, Categoria_2]\n",
    "                    if P_Valor < 0.05:\n",
    "                        Comparaciones_Significativas.append(\n",
    "                            f\"- {Categoria_1} vs {Categoria_2} (p = {P_Valor:.4f})\"\n",
    "                        )\n",
    "\n",
    "        if Comparaciones_Significativas:\n",
    "            Resumen = (\n",
    "                f\"\\n📊 Comparaciones significativas para **{Nombre_Variable}**:\\n\" +\n",
    "                \"\\n\".join(Comparaciones_Significativas)\n",
    "            )\n",
    "        else:\n",
    "            Resumen = (\n",
    "                f\"\\n📊 No se encontraron diferencias significativas \"\n",
    "                f\"entre categorías para **{Nombre_Variable}**.\"\n",
    "            )\n",
    "\n",
    "        Resumen_Significancias.append(Resumen)\n",
    "\n",
    "    # Imprimir todos los resúmenes.\n",
    "    for R in Resumen_Significancias:\n",
    "        print(R)\n"
   ]
  }
 ],
 "metadata": {
  "kernelspec": {
   "display_name": "Python 3",
   "language": "python",
   "name": "python3"
  },
  "language_info": {
   "codemirror_mode": {
    "name": "ipython",
    "version": 3
   },
   "file_extension": ".py",
   "mimetype": "text/x-python",
   "name": "python",
   "nbconvert_exporter": "python",
   "pygments_lexer": "ipython3",
   "version": "3.11.9"
  }
 },
 "nbformat": 4,
 "nbformat_minor": 5
}
