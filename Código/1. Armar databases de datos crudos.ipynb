{
 "cells": [
  {
   "cell_type": "code",
   "execution_count": 1,
   "id": "a213e88d",
   "metadata": {},
   "outputs": [],
   "source": [
    "# Librerías.\n",
    "import pandas as pd\n",
    "import Funciones as f"
   ]
  },
  {
   "cell_type": "code",
   "execution_count": 2,
   "id": "9bb9e4da",
   "metadata": {},
   "outputs": [],
   "source": [
    "# Experimentos.\n",
    "Experimentos = ['Generales', 'Ballotage']"
   ]
  },
  {
   "cell_type": "code",
   "execution_count": null,
   "id": "ae2631a7",
   "metadata": {},
   "outputs": [],
   "source": [
    "# Carpeta con los datos crudos.\n",
    "Carpeta = 'C:/Users/Patricio/Documents/Codigo/Python/Investigacion/Data/Resultados/'"
   ]
  },
  {
   "cell_type": "code",
   "execution_count": 4,
   "id": "76f47e07",
   "metadata": {},
   "outputs": [],
   "source": [
    "# Archivos con los datos crudos.\n",
    "Archivos_CSV = {\n",
    "\n",
    "    'Generales': {\n",
    "             1: 'Generales 1.csv',\n",
    "             2: 'Generales 2.csv',\n",
    "             3: 'Generales 3.csv',\n",
    "             4: 'Generales 4.csv',\n",
    "             5: 'Generales 5.csv'},\n",
    "\n",
    "    'Ballotage': {\n",
    "             1: 'Ballotage 1.csv',\n",
    "             2: 'Ballotage 2.csv'}  \n",
    "\n",
    "             }"
   ]
  },
  {
   "cell_type": "code",
   "execution_count": 5,
   "id": "0f0e5511",
   "metadata": {},
   "outputs": [],
   "source": [
    "# Variables que solo están en los archivos CSV de Generales.\n",
    "Variables_Unicas_Generales = ['cercania_Schiaretti',\n",
    "                              'cercania_Bullrich',\n",
    "                              'cercania_Bregman',\n",
    "                              'bregman_ip_izqder',\n",
    "                              'bregman_ip_conpro',\n",
    "                              'bregman_ip_rt',\n",
    "                              'bullrich_ip_izqder',\n",
    "                              'bullrich_ip_conpro',\n",
    "                              'bullrich_ip_rt',\n",
    "                              'schiaretti_ip_izqder',\n",
    "                              'schiaretti_ip_conpro',\n",
    "                              'schiaretti_ip_rt']"
   ]
  },
  {
   "cell_type": "code",
   "execution_count": 6,
   "id": "56539d73",
   "metadata": {},
   "outputs": [],
   "source": [
    "# Unir los documentos.\n",
    "Dataframes_Procesados = []"
   ]
  },
  {
   "cell_type": "code",
   "execution_count": 7,
   "id": "fe10ac62",
   "metadata": {},
   "outputs": [],
   "source": [
    "for Instancia in Experimentos:\n",
    "    Archivos_CSV_Instancia = Archivos_CSV[Instancia]\n",
    "    \n",
    "    df_Instancia = pd.DataFrame()\n",
    "    \n",
    "    for Numero_Archivo, Nombre_Archivo in Archivos_CSV_Instancia.items():\n",
    "        df_Archivo = pd.read_csv(Carpeta + Nombre_Archivo)\n",
    "        \n",
    "        # Concatenar archivo actual con los anteriores de la misma instancia.\n",
    "        df_Instancia = pd.concat([df_Instancia, df_Archivo], \n",
    "                                 ignore_index=True)\n",
    "    \n",
    "    # Agregar DataFrame de la instancia a la lista de procesados.\n",
    "    Dataframes_Procesados.append(df_Instancia)"
   ]
  },
  {
   "cell_type": "code",
   "execution_count": null,
   "id": "35ce1352",
   "metadata": {},
   "outputs": [],
   "source": [
    "# Exportar base para el control."
   ]
  }
 ],
 "metadata": {
  "kernelspec": {
   "display_name": "Python 3",
   "language": "python",
   "name": "python3"
  },
  "language_info": {
   "codemirror_mode": {
    "name": "ipython",
    "version": 3
   },
   "file_extension": ".py",
   "mimetype": "text/x-python",
   "name": "python",
   "nbconvert_exporter": "python",
   "pygments_lexer": "ipython3",
   "version": "3.11.9"
  }
 },
 "nbformat": 4,
 "nbformat_minor": 5
}
