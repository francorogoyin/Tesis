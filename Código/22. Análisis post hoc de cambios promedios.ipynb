{
 "cells": [
  {
   "cell_type": "code",
   "execution_count": 1,
   "id": "87471fb7",
   "metadata": {},
   "outputs": [],
   "source": [
    "# Librerías.\n",
    "import pandas as pd\n",
    "import Funciones as f\n",
    "import unidecode\n",
    "from docx import Document\n",
    "from docx.shared import Inches\n",
    "import os\n",
    "import matplotlib.pyplot as plt\n",
    "import seaborn as sns\n",
    "import numpy as np"
   ]
  },
  {
   "cell_type": "code",
   "execution_count": 2,
   "id": "ae815838",
   "metadata": {},
   "outputs": [],
   "source": [
    "%%capture\n",
    "%run \"21. Comparaciones estadísticas de cambios promedios.ipynb\""
   ]
  },
  {
   "cell_type": "code",
   "execution_count": 3,
   "id": "389802d6",
   "metadata": {},
   "outputs": [],
   "source": [
    "import scikit_posthocs as sp"
   ]
  },
  {
   "cell_type": "code",
   "execution_count": 4,
   "id": "e0e52113",
   "metadata": {},
   "outputs": [],
   "source": [
    "# Definir variables con significancia (según Kruskal-Wallis)\n",
    "Variables_Significativas = ['CO_Con_Izq', 'CO_Pro_Izq', 'CO_Con_Der', 'CO_Pro_Der']"
   ]
  },
  {
   "cell_type": "code",
   "execution_count": 5,
   "id": "f38ccfb9",
   "metadata": {},
   "outputs": [],
   "source": [
    "# Diccionario para almacenar resultados\n",
    "Resultados_Post_Hoc_Promedios = {'Generales': {},\n",
    "                                 'Ballotage': {}}"
   ]
  },
  {
   "cell_type": "code",
   "execution_count": null,
   "id": "c6b271c5",
   "metadata": {},
   "outputs": [],
   "source": [
    "for Nombre_df, df in dfs_Finales.items():\n",
    "\n",
    "    print(\"\\n\" + \"=\"*50)\n",
    "    print(f\"Análisis post hoc para el conjunto de datos: {Nombre_df}\")\n",
    "    print(\"\\n\" + \"=\"*50)\n",
    "\n",
    "    # Aplicar prueba de Dunn por cada variable\n",
    "    for Variable in Todas_Variables_Significativas['Cambios_Promedios_Significativos'][Nombre_df]:\n",
    "\n",
    "        # Eliminar filas con NaN en la variable específica o en la categoría.\n",
    "        Datos_Limpios = df[['Categoria_PASO_2023', Variable]].dropna()\n",
    "\n",
    "        Matriz_Dunn = sp.posthoc_dunn(\n",
    "            Datos_Limpios,\n",
    "            val_col = Variable,\n",
    "            group_col = 'Categoria_PASO_2023',\n",
    "            p_adjust = 'holm'\n",
    "        )\n",
    "\n",
    "        Resultados_Post_Hoc_Promedios[Nombre_df][Variable] = Matriz_Dunn\n",
    "\n",
    "    # Inicializar lista de resúmenes interpretativos\n",
    "    Resumen_Significancias = []\n",
    "\n",
    "    # Recorrer cada variable significativa\n",
    "    for Nombre_Variable, Matriz in Resultados_Post_Hoc_Promedios[Nombre_df].items():\n",
    "        Comparaciones_Significativas = []\n",
    "\n",
    "        for Categoria_1 in Matriz.index:\n",
    "            for Categoria_2 in Matriz.columns:\n",
    "                if Categoria_1 < Categoria_2:  # Evita duplicados.\n",
    "                    P_Valor = Matriz.loc[Categoria_1, Categoria_2]\n",
    "                    if P_Valor < 0.05:\n",
    "                        Comparaciones_Significativas.append(\n",
    "                            f\"- {Categoria_1} vs {Categoria_2} (p = {P_Valor:.4f})\"\n",
    "                        )\n",
    "\n",
    "        if Comparaciones_Significativas:\n",
    "            Resumen = (\n",
    "                f\"\\n📊 Comparaciones significativas para **{Nombre_Variable}**:\\n\" +\n",
    "                \"\\n\".join(Comparaciones_Significativas)\n",
    "            )\n",
    "        else:\n",
    "            Resumen = (\n",
    "                f\"\\n📊 No se encontraron diferencias significativas \"\n",
    "                f\"entre categorías para **{Nombre_Variable}**.\"\n",
    "            )\n",
    "\n",
    "        Resumen_Significancias.append(Resumen)\n",
    "\n",
    "    # Imprimir todos los resúmenes.\n",
    "    for R in Resumen_Significancias:\n",
    "        print(R)"
   ]
  },
  {
   "cell_type": "code",
   "execution_count": null,
   "id": "faf65039",
   "metadata": {},
   "outputs": [],
   "source": []
  }
 ],
 "metadata": {
  "kernelspec": {
   "display_name": "Python 3",
   "language": "python",
   "name": "python3"
  },
  "language_info": {
   "codemirror_mode": {
    "name": "ipython",
    "version": 3
   },
   "file_extension": ".py",
   "mimetype": "text/x-python",
   "name": "python",
   "nbconvert_exporter": "python",
   "pygments_lexer": "ipython3",
   "version": "3.11.9"
  }
 },
 "nbformat": 4,
 "nbformat_minor": 5
}
