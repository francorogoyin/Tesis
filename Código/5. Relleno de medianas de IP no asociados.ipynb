{
 "cells": [
  {
   "cell_type": "code",
   "execution_count": 147,
   "id": "fee0a4ca",
   "metadata": {},
   "outputs": [],
   "source": [
    "# Librerías.\n",
    "import pandas as pd\n",
    "import Funciones as f"
   ]
  },
  {
   "cell_type": "code",
   "execution_count": null,
   "id": "9376cdda",
   "metadata": {},
   "outputs": [],
   "source": [
    "%%capture\n",
    "%run \"4. Categorias de candidatos.ipynb\""
   ]
  },
  {
   "cell_type": "code",
   "execution_count": 149,
   "id": "71af4e5a",
   "metadata": {},
   "outputs": [],
   "source": [
    "# Control.\n",
    "# Guardar los Valores Originales antes de la Imputación (evitando duplicaciones y errores).\n",
    "for Nombre_Dataframe, df in dfs_Finales.items():\n",
    "\n",
    "    for Columna in df.columns:\n",
    "\n",
    "        # Aplicar solo a columnas IP de Respuesta, no asociadas, y que NO sean ya copias originales.\n",
    "        if (Columna.startswith('IP_Item_') and \n",
    "            '_Respuesta' in Columna and \n",
    "            '_Izq' not in Columna and \n",
    "            '_Der' not in Columna and \n",
    "            not Columna.endswith('_Original')):\n",
    "\n",
    "            Columna_Original = f'{Columna}_Original'\n",
    "\n",
    "            # Crear la columna solo si no existe aún.\n",
    "            if Columna_Original not in df.columns:\n",
    "                df[Columna_Original] = df[Columna]"
   ]
  },
  {
   "cell_type": "code",
   "execution_count": 150,
   "id": "e72d9b41",
   "metadata": {},
   "outputs": [],
   "source": [
    "# Ítems progresistas.\n",
    "# [5, 6, 9, 11, 16, 20, 24, 25, 27, 28]\n",
    "\n",
    "# Variables progresistas.\n",
    "Items_Progresistas = ['IP_Item_5_Respuesta', 'IP_Item_6_Respuesta', 'IP_Item_9_Respuesta', 'IP_Item_11_Respuesta', 'IP_Item_16_Respuesta', 'IP_Item_20_Respuesta', 'IP_Item_24_Respuesta', 'IP_Item_25_Respuesta', 'IP_Item_27_Respuesta', 'IP_Item_28_Respuesta']\n",
    "Items_Progresistas_Tiempo = ['IP_Item_5_Tiempo', 'IP_Item_6_Tiempo', 'IP_Item_9_Tiempo', 'IP_Item_11_Tiempo', 'IP_Item_16_Tiempo', 'IP_Item_20_Tiempo', 'IP_Item_24_Tiempo', 'IP_Item_25_Tiempo', 'IP_Item_27_Tiempo', 'IP_Item_28_Tiempo']"
   ]
  },
  {
   "cell_type": "code",
   "execution_count": 151,
   "id": "591a16c1",
   "metadata": {},
   "outputs": [],
   "source": [
    "# Ítems conservadores.\n",
    "# [3, 4, 7, 8, 10, 19, 22, 23, 29, 30]\n",
    "\n",
    "Items_Conservadores = ['IP_Item_3_Respuesta', 'IP_Item_4_Respuesta', 'IP_Item_7_Respuesta', 'IP_Item_8_Respuesta', 'IP_Item_10_Respuesta', 'IP_Item_19_Respuesta', 'IP_Item_22_Respuesta', 'IP_Item_23_Respuesta', 'IP_Item_29_Respuesta', 'IP_Item_30_Respuesta']\n",
    "Items_Conservadores_Tiempo = ['IP_Item_3_Tiempo', 'IP_Item_4_Tiempo', 'IP_Item_7_Tiempo', 'IP_Item_8_Tiempo', 'IP_Item_10_Tiempo', 'IP_Item_19_Tiempo', 'IP_Item_22_Tiempo', 'IP_Item_23_Tiempo', 'IP_Item_29_Tiempo', 'IP_Item_30_Tiempo']"
   ]
  },
  {
   "cell_type": "code",
   "execution_count": 152,
   "id": "b37cbc31",
   "metadata": {},
   "outputs": [],
   "source": [
    "# Combinar todas las columnas que necesitan procesamiento.\n",
    "Items_Sin_Asociacion = (Items_Progresistas + Items_Progresistas_Tiempo + \n",
    "                       Items_Conservadores + Items_Conservadores_Tiempo)"
   ]
  },
  {
   "cell_type": "code",
   "execution_count": 153,
   "id": "6a4c8ac8",
   "metadata": {},
   "outputs": [],
   "source": [
    "# Convertir columnas de string a numérico.\n",
    "for Nombre_df, df in dfs_Finales.items():\n",
    "    for Columna in Items_Sin_Asociacion:\n",
    "        if Columna in df.columns:\n",
    "            df[Columna] = pd.to_numeric(df[Columna], errors='coerce')"
   ]
  },
  {
   "cell_type": "code",
   "execution_count": null,
   "id": "4a193c5e",
   "metadata": {},
   "outputs": [],
   "source": [
    "# Reporte de Medianas y Datos Faltantes por Columna.\n",
    "for Nombre_df, df in dfs_Finales.items():\n",
    "\n",
    "    print(f'\\nANTES DEL RELLENADOR\\n Reporte de Columnas IP para: {Nombre_df}\\n')\n",
    "\n",
    "    # Filtrar Columnas de Interés (Respuestas y Tiempos de IP Items no Asociados).\n",
    "    Columnas = [Columna for Columna in df.columns if Columna.startswith('IP_Item_') and \n",
    "                (('_Respuesta' in Columna or '_Tiempo' in Columna) and \n",
    "                 '_Izq' not in Columna and '_Der' not in Columna)]\n",
    "\n",
    "    for Columna in Columnas:\n",
    "        Serie_Numerica = pd.to_numeric(df[Columna], errors='coerce')\n",
    "        Faltantes = Serie_Numerica.isna().sum()\n",
    "\n",
    "        print(f'{Columna:<35} | Faltantes: {Faltantes}')"
   ]
  },
  {
   "cell_type": "code",
   "execution_count": 155,
   "id": "75633fb0",
   "metadata": {},
   "outputs": [],
   "source": [
    "# Rellenar valores vacíos en las columnas con la mediana de la población por Categoría PASO por cada df.\n",
    "for Nombre_df, df in dfs_Finales.items():\n",
    "    \n",
    "    # Verificar que existe la columna de agrupación.\n",
    "    if 'Categoria_PASO_2023' not in df.columns:\n",
    "        print(f\"  - Error: Columna 'Categoria_PASO_2023' no encontrada.\")\n",
    "        continue\n",
    "    \n",
    "    Columnas_Procesadas = 0\n",
    "    \n",
    "    # Procesar cada columna.\n",
    "    for Columna in Items_Sin_Asociacion:\n",
    "        if Columna in df.columns:\n",
    "            # Rellenar valores faltantes con la mediana por grupo.\n",
    "            df[Columna] = df.groupby('Categoria_PASO_2023')[Columna].transform(\n",
    "                lambda Grupo: Grupo.fillna(Grupo.median())\n",
    "            )\n",
    "            Columnas_Procesadas += 1"
   ]
  },
  {
   "cell_type": "code",
   "execution_count": null,
   "id": "a8cee261",
   "metadata": {},
   "outputs": [],
   "source": [
    "# Reporte de Medianas y Datos Faltantes por Columna.\n",
    "for Nombre_df, df in dfs_Finales.items():\n",
    "\n",
    "    print(f'\\nDESPUÉS DEL RELLENADOR\\n Reporte de Columnas IP para: {Nombre_df}\\n')\n",
    "\n",
    "    # Filtrar Columnas de Interés (Respuestas y Tiempos de IP Items no Asociados).\n",
    "    Columnas = [Columna for Columna in df.columns if Columna.startswith('IP_Item_') and \n",
    "                (('_Respuesta' in Columna or '_Tiempo' in Columna) and \n",
    "                 '_Izq' not in Columna and '_Der' not in Columna)]\n",
    "\n",
    "    for Columna in Columnas:\n",
    "        Serie_Numerica = pd.to_numeric(df[Columna], errors='coerce')\n",
    "        Faltantes = Serie_Numerica.isna().sum()\n",
    "\n",
    "        print(f'{Columna:<35} | Faltantes: {Faltantes}')"
   ]
  },
  {
   "cell_type": "code",
   "execution_count": null,
   "id": "663df210",
   "metadata": {},
   "outputs": [],
   "source": [
    "# Controlar que los Rellenos por Mediana coincidan con la Categoría Ideológica.\n",
    "for Nombre_Dataframe, df in dfs_Finales.items():\n",
    "\n",
    "    print(f'\\nControl de Imputación por Categoría en: {Nombre_Dataframe}\\n')\n",
    "\n",
    "    Columnas = [Columna for Columna in df.columns if \n",
    "                Columna.startswith('IP_Item_') and\n",
    "                '_Respuesta' in Columna and \n",
    "                '_Izq' not in Columna and \n",
    "                '_Der' not in Columna and\n",
    "                not Columna.endswith('_Original')]\n",
    "\n",
    "    for Columna in Columnas:\n",
    "        Columna_Original = f'{Columna}_Original'\n",
    "        \n",
    "        # Verificar que la columna original existe.\n",
    "        if Columna_Original not in df.columns:\n",
    "            print(f\"  - Advertencia: {Columna_Original} no encontrada.\")\n",
    "            continue\n",
    "            \n",
    "        Inconsistencias = 0\n",
    "\n",
    "        for Categoria in df['Categoria_PASO_2023'].dropna().unique():\n",
    "            df_Categoria = df[df['Categoria_PASO_2023'] == Categoria]\n",
    "            Serie_Actual = pd.to_numeric(df_Categoria[Columna], errors='coerce')\n",
    "            Serie_Original = pd.to_numeric(df_Categoria[Columna_Original], errors='coerce')\n",
    "            Mediana_Categoria = Serie_Actual.median()\n",
    "\n",
    "            Imputados_Invalidos = df_Categoria[\n",
    "                Serie_Original.isna() & \n",
    "                (Serie_Actual != Mediana_Categoria)\n",
    "            ]\n",
    "\n",
    "            Inconsistencias += len(Imputados_Invalidos)\n",
    "\n",
    "        print(f'{Columna:<35} | Rellenos Incorrectos: {Inconsistencias}')"
   ]
  },
  {
   "cell_type": "code",
   "execution_count": 158,
   "id": "19e32db7",
   "metadata": {},
   "outputs": [],
   "source": [
    "# Exportar base para el control.\n",
    "for Nombre_df, df in dfs_Finales.items():\n",
    "    dfs_Finales[Nombre_df].head(50).to_excel(f'Controles/5. Relleno de medianas de IP no asociados ({Nombre_df}).xlsx', index=False)"
   ]
  },
  {
   "cell_type": "code",
   "execution_count": 159,
   "id": "7c00708f",
   "metadata": {},
   "outputs": [],
   "source": [
    "# Exportar solo columnas imputadas para control\n",
    "Items = [3, 4, 5, 6, 7, 8, 9, 10, 11, 16, 19, 20, 22, 23, 24, 25, 27, 28, 29, 30]\n",
    "Columnas_Respuesta = [f'IP_Item_{i}_Respuesta' for i in Items]\n",
    "Columnas_Tiempo = [f'IP_Item_{i}_Tiempo' for i in Items]"
   ]
  },
  {
   "cell_type": "code",
   "execution_count": 160,
   "id": "4bbd4920",
   "metadata": {},
   "outputs": [],
   "source": [
    "for Nombre_df, df in dfs_Finales.items():\n",
    "    \n",
    "    Columnas = ['ID', 'Orden_IP_Items'] + Columnas_Respuesta + Columnas_Tiempo\n",
    "    Columnas_Presentes = [Columna for Columna in Columnas if Columna in df.columns]\n",
    "    \n",
    "    dfs_Finales[Nombre_df][Columnas_Presentes].head(50).to_excel(\n",
    "        f'Controles/5. Relleno de medianas de IP no asociados ({Nombre_df}).xlsx',\n",
    "        index=False\n",
    "    )"
   ]
  }
 ],
 "metadata": {
  "kernelspec": {
   "display_name": "Python 3",
   "language": "python",
   "name": "python3"
  },
  "language_info": {
   "codemirror_mode": {
    "name": "ipython",
    "version": 3
   },
   "file_extension": ".py",
   "mimetype": "text/x-python",
   "name": "python",
   "nbconvert_exporter": "python",
   "pygments_lexer": "ipython3",
   "version": "3.11.9"
  }
 },
 "nbformat": 4,
 "nbformat_minor": 5
}
