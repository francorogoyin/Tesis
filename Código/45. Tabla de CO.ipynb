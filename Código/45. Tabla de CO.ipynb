{
 "cells": [
  {
   "cell_type": "code",
   "execution_count": null,
   "id": "87471fb7",
   "metadata": {},
   "outputs": [],
   "source": "import pandas as pd\nimport Funciones as f\nimport matplotlib.pyplot as plt\nimport seaborn as sns\nimport numpy as np\nfrom scipy import stats\nimport matplotlib.patches as mpatches\nfrom matplotlib.patches import Rectangle\n\n# Mapa de colores para las categorías/poblaciones\nMapa_Colores_Categorias = {\n    'Progressivism': '#0078bf',\n    'Moderate_Right_A': '#f7d117',\n    'Moderate_Right_B': '#f7d117',\n    'Left_Wing': '#f65058',\n    'Blank': '#FFFFFF',\n    'Centre': '#009cdd',\n    'Right_Wing_Libertarian': '#753bbd'\n}"
  },
  {
   "cell_type": "code",
   "execution_count": null,
   "id": "d26c6c7f",
   "metadata": {},
   "outputs": [],
   "source": "# Cargar datos desde Excel en lugar de ejecutar todos los notebooks\nimport os\nfrom scipy.stats import kruskal\n\n# Rutas a los archivos Excel\nRuta_Base = os.path.join(os.getcwd(), '..', 'Data', 'Bases definitivas')\nExcel_Generales = os.path.join(Ruta_Base, 'Generales.xlsx')\nExcel_Ballotage = os.path.join(Ruta_Base, 'Ballotage.xlsx')\n\n# Cargar DataFrames desde Excel\ndf_Generales = pd.read_excel(Excel_Generales)\ndf_Ballotage = pd.read_excel(Excel_Ballotage)\n\n# Crear diccionario de DataFrames similar al que se crea en notebooks anteriores\ndfs_Finales = {\n    'Generales': df_Generales,\n    'Ballotage': df_Ballotage\n}\n\nprint(f\"✓ Datos cargados desde Excel:\")\nprint(f\"  - Generales: {len(df_Generales)} registros, {len(df_Generales.columns)} columnas\")\nprint(f\"  - Ballotage: {len(df_Ballotage)} registros, {len(df_Ballotage.columns)} columnas\")\n\n\n# ============================================================================\n# FUNCIONES PARA CALCULAR DICCIONARIOS DE ESTADÍSTICAS Y P-VALORES\n# ============================================================================\n\ndef Calcular_Diccionario_Resultados_CO(dfs_Finales):\n    \"\"\"\n    Calcula estadísticas descriptivas para cada categoría y variable de CO.\n    \n    Retorna un diccionario con la estructura:\n    {\n        'Generales': {\n            'Left_Wing': {\n                'CO_Item_5_Izq': {'Media': x, 'Mediana': y, 'Desvio_Estandar': z, ...},\n                ...\n            },\n            ...\n        },\n        'Ballotage': { ... }\n    }\n    \"\"\"\n    \n    # Definir ítems\n    Items_Progresistas = [5, 6, 9, 11, 16, 20, 24, 25, 27, 28]\n    Items_Conservadores = [3, 4, 7, 8, 10, 19, 22, 23, 29, 30]\n    \n    # Generar nombres de columnas\n    Columnas_CO_Pro = [f'CO_Item_{Item}_Izq' for Item in Items_Progresistas] + \\\n                      [f'CO_Item_{Item}_Der' for Item in Items_Progresistas]\n    \n    Columnas_CO_Con = [f'CO_Item_{Item}_Izq' for Item in Items_Conservadores] + \\\n                      [f'CO_Item_{Item}_Der' for Item in Items_Conservadores]\n    \n    Columnas_Cambios = Columnas_CO_Pro + Columnas_CO_Con\n    \n    # Inicializar diccionario de resultados\n    Diccionario_Resultados = {'Generales': {}, 'Ballotage': {}}\n    \n    # Categorías válidas\n    Categorias_Validas = [\n        'Left_Wing', \n        'Progressivism', \n        'Centre',\n        'Moderate_Right_A', \n        'Moderate_Right_B',\n        'Right_Wing_Libertarian'\n    ]\n    \n    # Para cada dataset\n    for Nombre_df, df in dfs_Finales.items():\n        # Filtrar solo las categorías válidas\n        df_Descriptivo = df[df['Categoria_PASO_2023'].isin(Categorias_Validas)]\n        \n        # Para cada categoría\n        for Categoria in Categorias_Validas:\n            Datos_Categoria = df_Descriptivo[df_Descriptivo['Categoria_PASO_2023'] == Categoria]\n            Estadisticas_Categoria = {}\n            \n            # Para cada columna de cambio de opinión\n            for Columna in Columnas_Cambios:\n                if Columna in df.columns:  # Verificar que la columna existe\n                    Valores = Datos_Categoria[Columna].dropna()\n                    \n                    # Calcular estadísticas\n                    if len(Valores) > 0:\n                        Media = Valores.mean()\n                        Mediana = Valores.median()\n                        Desvio_Estandar = Valores.std()\n                        Error_Estandar = Valores.sem()\n                        N = Valores.count()\n                    else:\n                        Media = 0\n                        Mediana = 0\n                        Desvio_Estandar = 0\n                        Error_Estandar = 0\n                        N = 0\n                    \n                    Estadisticas_Categoria[Columna] = {\n                        'Media': Media,\n                        'Mediana': Mediana,\n                        'Desvio_Estandar': Desvio_Estandar,\n                        'Error_Estandar': Error_Estandar,\n                        'N': N\n                    }\n            \n            Diccionario_Resultados[Nombre_df][Categoria] = Estadisticas_Categoria\n    \n    return Diccionario_Resultados\n\n\ndef Calcular_Diccionario_P_Valores(dfs_Finales):\n    \"\"\"\n    Calcula p-valores usando el test de Kruskal-Wallis para comparar\n    las diferentes categorías en cada variable de CO.\n    \n    Retorna un diccionario con la estructura:\n    {\n        'Generales': {\n            'CO_Item_5_Izq': p_valor,\n            'CO_Item_5_Der': p_valor,\n            ...\n        },\n        'Ballotage': { ... }\n    }\n    \"\"\"\n    \n    # Definir ítems\n    Items_Progresistas = [5, 6, 9, 11, 16, 20, 24, 25, 27, 28]\n    Items_Conservadores = [3, 4, 7, 8, 10, 19, 22, 23, 29, 30]\n    \n    # Generar nombres de columnas\n    Columnas_CO_Pro = [f'CO_Item_{Item}_Izq' for Item in Items_Progresistas] + \\\n                      [f'CO_Item_{Item}_Der' for Item in Items_Progresistas]\n    \n    Columnas_CO_Con = [f'CO_Item_{Item}_Izq' for Item in Items_Conservadores] + \\\n                      [f'CO_Item_{Item}_Der' for Item in Items_Conservadores]\n    \n    Columnas_Cambios = Columnas_CO_Pro + Columnas_CO_Con\n    \n    # Inicializar diccionario de p-valores\n    Diccionario_P_Valores = {'Generales': {}, 'Ballotage': {}}\n    \n    # Categorías válidas\n    Categorias_Validas = [\n        'Left_Wing', \n        'Progressivism', \n        'Centre',\n        'Moderate_Right_A', \n        'Moderate_Right_B',\n        'Right_Wing_Libertarian'\n    ]\n    \n    # Para cada dataset\n    for Nombre_df, df in dfs_Finales.items():\n        # Filtrar solo las categorías válidas\n        df_Filtrado = df[df['Categoria_PASO_2023'].isin(Categorias_Validas)]\n        \n        # Para cada columna de cambio de opinión\n        for Nombre_Columna in Columnas_Cambios:\n            if Nombre_Columna in df.columns:  # Verificar que la columna existe\n                # Crear grupos por categoría\n                Grupos = [\n                    df_Filtrado[df_Filtrado['Categoria_PASO_2023'] == Categoria][Nombre_Columna].dropna()\n                    for Categoria in Categorias_Validas\n                ]\n                \n                # Verificar que todos los grupos tengan al menos dos datos\n                if all(len(Grupo) > 1 for Grupo in Grupos):\n                    try:\n                        Estadistico, P_Valor = kruskal(*Grupos)\n                        Diccionario_P_Valores[Nombre_df][Nombre_Columna] = P_Valor\n                    except:\n                        # Si falla el test, asignar NaN\n                        Diccionario_P_Valores[Nombre_df][Nombre_Columna] = np.nan\n                else:\n                    # Si no hay suficientes datos, asignar NaN\n                    Diccionario_P_Valores[Nombre_df][Nombre_Columna] = np.nan\n    \n    return Diccionario_P_Valores\n\n\n# ============================================================================\n# CALCULAR DICCIONARIOS\n# ============================================================================\n\nprint(\"\\n📊 Calculando estadísticas descriptivas...\")\nDiccionario_Resultados_CO_Individuales = Calcular_Diccionario_Resultados_CO(dfs_Finales)\nprint(f\"✓ Diccionario de resultados calculado\")\nprint(f\"  - Datasets: {list(Diccionario_Resultados_CO_Individuales.keys())}\")\nprint(f\"  - Categorías por dataset: {list(Diccionario_Resultados_CO_Individuales['Generales'].keys())}\")\n\nprint(\"\\n📊 Calculando p-valores (test de Kruskal-Wallis)...\")\nDiccionario_P_Valores = Calcular_Diccionario_P_Valores(dfs_Finales)\nprint(f\"✓ Diccionario de p-valores calculado\")\nprint(f\"  - Variables analizadas en Generales: {len(Diccionario_P_Valores['Generales'])}\")\nprint(f\"  - Variables analizadas en Ballotage: {len(Diccionario_P_Valores['Ballotage'])}\")\n\n# Mostrar ejemplo de significancia\nVariables_Significativas_Gen = sum(1 for p in Diccionario_P_Valores['Generales'].values() if p < 0.05)\nVariables_Significativas_Bal = sum(1 for p in Diccionario_P_Valores['Ballotage'].values() if p < 0.05)\nprint(f\"  - Variables significativas (p < 0.05) en Generales: {Variables_Significativas_Gen}\")\nprint(f\"  - Variables significativas (p < 0.05) en Ballotage: {Variables_Significativas_Bal}\")\n\nprint(\"\\n✅ Datos listos para generar tablas\")"
  },
  {
   "cell_type": "code",
   "execution_count": null,
   "id": "v4uodwhuk0g",
   "metadata": {},
   "outputs": [],
   "source": "def Crear_Tabla_Por_Item(\n    Diccionario_Resultados,\n    Diccionario_P_Valores,\n    Numero_Item,\n    Nombre_Archivo = None,\n    Carpeta_Destino = 'Tablas_Estadisticas'\n):\n    \"\"\"\n    Crea una tabla para UN ítem específico mostrando TODAS las categorías.\n    Compara Generales vs Ballotage.\n\n    Formato:\n                        | Generales                    | Ballotage                    |\n                        | Media±DE  | n    | Sig       | Media±DE  | n    | Sig       |\n    --------------------|-----------|------|-----------|-----------|------|-----------|\n    Left_Wing (Izq)     | X.XX±Y.YY | 100  | ***       | X.XX±Y.YY | 90   | **        |\n    Left_Wing (Der)     | X.XX±Y.YY | 100  | ***       | X.XX±Y.YY | 90   | **        |\n    ...\n\n    Parámetros:\n    - Diccionario_Resultados: Diccionario con estadísticas por categoría\n    - Diccionario_P_Valores: Diccionario con p-valores\n    - Numero_Item: Número del ítem a analizar (ej: 5, 6, 9, etc.)\n    - Nombre_Archivo: Nombre del archivo a guardar (si None, usa formato automático)\n    - Carpeta_Destino: Carpeta donde guardar la imagen\n    \"\"\"\n\n    import os\n    if not os.path.exists(Carpeta_Destino):\n        os.makedirs(Carpeta_Destino)\n\n    if Nombre_Archivo is None:\n        Nombre_Archivo = f'Tabla_Item_{Numero_Item}_Todas_Categorias.png'\n\n    # Categorías a incluir\n    Categorias = [\n        'Left_Wing',\n        'Progressivism',\n        'Centre',\n        'Moderate_Right_A',\n        'Moderate_Right_B',\n        'Right_Wing_Libertarian'\n    ]\n\n    Etiquetas_Categorias = {\n        'Left_Wing': 'Left Wing',\n        'Progressivism': 'Progressivism',\n        'Centre': 'Centre',\n        'Moderate_Right_A': 'Moderate Right A',\n        'Moderate_Right_B': 'Moderate Right B',\n        'Right_Wing_Libertarian': 'Right Wing Libertarian'\n    }\n\n    # Variables a buscar\n    Var_Izq = f'CO_Item_{Numero_Item}_Izq'\n    Var_Der = f'CO_Item_{Numero_Item}_Der'\n\n    # Preparar datos para la tabla\n    Datos_Tabla = []\n\n    # Encabezado principal\n    Fila_Principal = ['', 'Generales', '', '', 'Ballotage', '', '']\n    Datos_Tabla.append(Fila_Principal)\n\n    # Sub-encabezado\n    Fila_Subencabezado = ['Categoría', 'Media±DE', 'n', 'Sig', 'Media±DE', 'n', 'Sig']\n    Datos_Tabla.append(Fila_Subencabezado)\n\n    # ELIMINADA: Línea separadora de guiones\n\n    # Para cada categoría\n    for Categoria in Categorias:\n        Etiqueta = Etiquetas_Categorias.get(Categoria, Categoria)\n\n        # Procesar Izquierda\n        Fila_Izq = [f'{Etiqueta} (Izq)']\n\n        for Dataset in ['Generales', 'Ballotage']:\n            Stats = None\n            P_Valor = None\n\n            # Obtener estadísticas\n            if Dataset in Diccionario_Resultados:\n                if Categoria in Diccionario_Resultados[Dataset]:\n                    if Var_Izq in Diccionario_Resultados[Dataset][Categoria]:\n                        Stats = Diccionario_Resultados[Dataset][Categoria][Var_Izq]\n\n            # Obtener p-valor\n            if Dataset in Diccionario_P_Valores:\n                if Var_Izq in Diccionario_P_Valores[Dataset]:\n                    P_Valor = Diccionario_P_Valores[Dataset][Var_Izq]\n\n            # Formatear datos\n            if Stats:\n                Media = Stats.get('Media', np.nan)\n                DE = Stats.get('Desvio_Estandar', np.nan)\n                N = Stats.get('N', 0)\n\n                if not np.isnan(Media):\n                    Texto_Media = f'{Media:.2f}±{DE:.2f}'\n                    Texto_N = f'{N}'\n\n                    # Determinar significancia\n                    if P_Valor is not None and not np.isnan(P_Valor):\n                        if P_Valor < 0.001:\n                            Texto_Sig = '***'\n                        elif P_Valor < 0.01:\n                            Texto_Sig = '**'\n                        elif P_Valor < 0.05:\n                            Texto_Sig = '*'\n                        else:\n                            Texto_Sig = 'ns'\n                    else:\n                        Texto_Sig = '—'\n                else:\n                    Texto_Media = '—'\n                    Texto_N = '—'\n                    Texto_Sig = '—'\n            else:\n                Texto_Media = '—'\n                Texto_N = '—'\n                Texto_Sig = '—'\n\n            Fila_Izq.extend([Texto_Media, Texto_N, Texto_Sig])\n\n        Datos_Tabla.append(Fila_Izq)\n\n        # Procesar Derecha\n        Fila_Der = [f'{Etiqueta} (Der)']\n\n        for Dataset in ['Generales', 'Ballotage']:\n            Stats = None\n            P_Valor = None\n\n            # Obtener estadísticas\n            if Dataset in Diccionario_Resultados:\n                if Categoria in Diccionario_Resultados[Dataset]:\n                    if Var_Der in Diccionario_Resultados[Dataset][Categoria]:\n                        Stats = Diccionario_Resultados[Dataset][Categoria][Var_Der]\n\n            # Obtener p-valor\n            if Dataset in Diccionario_P_Valores:\n                if Var_Der in Diccionario_P_Valores[Dataset]:\n                    P_Valor = Diccionario_P_Valores[Dataset][Var_Der]\n\n            # Formatear datos\n            if Stats:\n                Media = Stats.get('Media', np.nan)\n                DE = Stats.get('Desvio_Estandar', np.nan)\n                N = Stats.get('N', 0)\n\n                if not np.isnan(Media):\n                    Texto_Media = f'{Media:.2f}±{DE:.2f}'\n                    Texto_N = f'{N}'\n\n                    # Determinar significancia\n                    if P_Valor is not None and not np.isnan(P_Valor):\n                        if P_Valor < 0.001:\n                            Texto_Sig = '***'\n                        elif P_Valor < 0.01:\n                            Texto_Sig = '**'\n                        elif P_Valor < 0.05:\n                            Texto_Sig = '*'\n                        else:\n                            Texto_Sig = 'ns'\n                    else:\n                        Texto_Sig = '—'\n                else:\n                    Texto_Media = '—'\n                    Texto_N = '—'\n                    Texto_Sig = '—'\n            else:\n                Texto_Media = '—'\n                Texto_N = '—'\n                Texto_Sig = '—'\n\n            Fila_Der.extend([Texto_Media, Texto_N, Texto_Sig])\n\n        Datos_Tabla.append(Fila_Der)\n\n        # Línea separadora entre categorías\n        Datos_Tabla.append(['', '', '', '', '', '', ''])\n\n    # Crear figura\n    Num_Filas = len(Datos_Tabla)\n\n    Fig = plt.figure(figsize=(14, Num_Filas * 0.32))\n    Ax = Fig.add_subplot(111)\n    Ax.axis('tight')\n    Ax.axis('off')\n\n    # Crear tabla\n    Tabla = Ax.table(\n        cellText = Datos_Tabla,\n        cellLoc = 'center',  # Todas las celdas centradas\n        loc = 'center',\n        colWidths = [0.22, 0.13, 0.08, 0.07, 0.13, 0.08, 0.07]\n    )\n\n    # Estilizar\n    Tabla.auto_set_font_size(False)\n    Tabla.set_fontsize(9)\n    Tabla.scale(1.0, 1.4)\n\n    # Colorear filas\n    for i in range(1, Num_Filas + 1):\n        if i <= len(Datos_Tabla):\n            Primera_Columna = str(Datos_Tabla[i-1][0])\n\n            # Encabezado principal (Generales / Ballotage)\n            if i == 1:\n                # Primera celda vacía\n                Tabla[(i, 0)].set_facecolor('#2C5282')\n                Tabla[(i, 0)].set_text_props(weight='bold', color='white', size=10)\n                \n                # Generales (columnas 1-3)\n                for j in range(1, 4):\n                    Tabla[(i, j)].set_facecolor('#2C5282')\n                    Tabla[(i, j)].set_text_props(weight='bold', color='white', size=11, ha='center')\n                \n                # Ballotage (columnas 4-6)\n                for j in range(4, 7):\n                    Tabla[(i, j)].set_facecolor('#2C5282')\n                    Tabla[(i, j)].set_text_props(weight='bold', color='white', size=11, ha='center')\n\n            # Sub-encabezado (Media±DE, n, Sig)\n            elif i == 2:\n                for j in range(7):\n                    Tabla[(i, j)].set_facecolor('#5B9BD5')\n                    Tabla[(i, j)].set_text_props(weight='bold', color='white', size=9, ha='center')\n\n            # Filas de datos (Izq o Der)\n            elif '(Izq)' in Primera_Columna or '(Der)' in Primera_Columna:\n                # Extraer nombre de categoría\n                Nombre_Categoria = Primera_Columna.split(' (')[0]\n                \n                # Encontrar clave de categoría\n                Categoria_Key = None\n                for key, value in Etiquetas_Categorias.items():\n                    if value == Nombre_Categoria:\n                        Categoria_Key = key\n                        break\n                \n                # Color de fondo para la categoría\n                Color_Categoria = Mapa_Colores_Categorias.get(Categoria_Key, '#E7E6E6')\n                \n                # Primera columna con color de la categoría\n                Tabla[(i, 0)].set_facecolor(Color_Categoria)\n                Tabla[(i, 0)].set_text_props(weight='semibold', ha='left', color='white')\n\n                # Colorear columnas de significancia (columnas 3 y 6)\n                for j_sig in [3, 6]:\n                    if j_sig < len(Datos_Tabla[i-1]):\n                        Texto_Sig = str(Datos_Tabla[i-1][j_sig])\n\n                        # Colores corregidos de significancia\n                        if '***' in Texto_Sig:\n                            Tabla[(i, j_sig)].set_facecolor('#90EE90')\n                            Tabla[(i, j_sig)].set_text_props(weight='bold', color='#006400', ha='center')\n                        elif '**' in Texto_Sig:\n                            Tabla[(i, j_sig)].set_facecolor('#B8F4B8')\n                            Tabla[(i, j_sig)].set_text_props(weight='bold', color='#228B22', ha='center')\n                        elif '*' in Texto_Sig and not '**' in Texto_Sig:\n                            Tabla[(i, j_sig)].set_facecolor('#D4F4D4')\n                            Tabla[(i, j_sig)].set_text_props(weight='bold', ha='center')\n                        elif 'ns' in Texto_Sig:\n                            Tabla[(i, j_sig)].set_facecolor('#FFE4E1')\n                            Tabla[(i, j_sig)].set_text_props(color='#8B0000', ha='center')\n                        else:\n                            Tabla[(i, j_sig)].set_facecolor('white')\n                            Tabla[(i, j_sig)].set_text_props(ha='center')\n                \n                # Centrar celdas de datos (Media±DE y n)\n                for j_data in [1, 2, 4, 5]:\n                    Tabla[(i, j_data)].set_text_props(ha='center')\n\n    # Título\n    Titulo = f'Ítem {Numero_Item}: Cambios de Opinión por Categoría\\nGenerales vs Ballotage'\n    Fig.suptitle(Titulo, fontsize=14, fontweight='bold', y=0.98)\n\n    # Leyenda\n    Texto_Leyenda = (\n        'Significancia: *** p<0.001 | ** p<0.01 | * p<0.05 | ns: no significativo\\n'\n        'Formato: Media±Desvío Estándar | n: tamaño muestral'\n    )\n    Fig.text(0.5, 0.02, Texto_Leyenda, ha='center', fontsize=9, style='italic')\n\n    # Guardar\n    Ruta_Completa = os.path.join(Carpeta_Destino, Nombre_Archivo)\n    Fig.savefig(Ruta_Completa, dpi=300, bbox_inches='tight', facecolor='white')\n    plt.close(Fig)\n\n    print(f\"✅ Tabla del Ítem {Numero_Item} guardada en: {Ruta_Completa}\")\n\n    return Ruta_Completa"
  },
  {
   "cell_type": "code",
   "execution_count": null,
   "id": "f8yswac3zxe",
   "metadata": {},
   "outputs": [],
   "source": "def Crear_Tabla_Por_Dataset(\n    Diccionario_Resultados,\n    Diccionario_P_Valores,\n    Dataset = 'Generales',\n    Items_A_Incluir = None,\n    Nombre_Archivo = None,\n    Carpeta_Destino = 'Tablas_Estadisticas'\n):\n    \"\"\"\n    Crea una tabla para UN dataset específico (Generales o Ballotage)\n    mostrando TODAS las categorías y TODOS los ítems especificados.\n\n    Formato:\n                        | Left_Wing        | Progressivism    | Centre           | ...\n                        | M±DE | n  | Sig | M±DE | n  | Sig | M±DE | n  | Sig | ...\n    --------------------|------|----|----|------|----|----|------|----|----|-----\n    Ítem 5 (Izq)        | X.XX | 50 | ** | X.XX | 60 | *  | X.XX | 70 | ns | ...\n    Ítem 5 (Der)        | X.XX | 50 | ** | X.XX | 60 | *  | X.XX | 70 | ns | ...\n    ...\n\n    Parámetros:\n    - Diccionario_Resultados: Diccionario con estadísticas\n    - Diccionario_P_Valores: Diccionario con p-valores\n    - Dataset: 'Generales' o 'Ballotage'\n    - Items_A_Incluir: Lista de números de ítems (si None, usa todos)\n    - Nombre_Archivo: Nombre del archivo (si None, usa formato automático)\n    - Carpeta_Destino: Carpeta donde guardar\n    \"\"\"\n\n    import os\n    if not os.path.exists(Carpeta_Destino):\n        os.makedirs(Carpeta_Destino)\n\n    if Nombre_Archivo is None:\n        Nombre_Archivo = f'Tabla_Dataset_{Dataset}_Todas_Categorias.png'\n\n    # Categorías\n    Categorias = [\n        'Left_Wing',\n        'Progressivism',\n        'Centre',\n        'Moderate_Right_A',\n        'Moderate_Right_B',\n        'Right_Wing_Libertarian'\n    ]\n\n    Etiquetas_Cortas = {\n        'Left_Wing': 'LW',\n        'Progressivism': 'Prog',\n        'Centre': 'Ctr',\n        'Moderate_Right_A': 'MRA',\n        'Moderate_Right_B': 'MRB',\n        'Right_Wing_Libertarian': 'RWL'\n    }\n\n    # Ítems\n    if Items_A_Incluir is None:\n        Items_Progresistas = [5, 6, 9, 11, 16, 20, 24, 25, 27, 28]\n        Items_Conservadores = [3, 4, 7, 8, 10, 19, 22, 23, 29, 30]\n        Items_A_Incluir = sorted(Items_Progresistas + Items_Conservadores)\n\n    # Preparar datos\n    Datos_Tabla = []\n\n    # Encabezado principal - nombres de categorías (centrados)\n    # Cada categoría ocupa 3 columnas, ponemos el texto en la del medio\n    Fila_Categorias = ['']\n    for Categoria in Categorias:\n        Etiqueta = Etiquetas_Cortas.get(Categoria, Categoria)\n        Fila_Categorias.extend(['', Etiqueta, ''])  # Vacío, Nombre, Vacío\n    Datos_Tabla.append(Fila_Categorias)\n\n    # Sub-encabezado - Media±DE, n, Sig\n    Fila_Subencabezado = ['Ítem']\n    for _ in Categorias:\n        Fila_Subencabezado.extend(['M±DE', 'n', 'Sig'])\n    Datos_Tabla.append(Fila_Subencabezado)\n\n    # ELIMINADA: Línea separadora de guiones\n\n    # Para cada ítem\n    for Num_Item in Items_A_Incluir:\n        # Fila para Izquierda\n        Var_Izq = f'CO_Item_{Num_Item}_Izq'\n        Fila_Izq = [f'Ítem {Num_Item} (Izq)']\n\n        for Categoria in Categorias:\n            Stats = None\n            P_Valor = None\n\n            # Obtener estadísticas\n            if Dataset in Diccionario_Resultados:\n                if Categoria in Diccionario_Resultados[Dataset]:\n                    if Var_Izq in Diccionario_Resultados[Dataset][Categoria]:\n                        Stats = Diccionario_Resultados[Dataset][Categoria][Var_Izq]\n\n            # Obtener p-valor\n            if Dataset in Diccionario_P_Valores:\n                if Var_Izq in Diccionario_P_Valores[Dataset]:\n                    P_Valor = Diccionario_P_Valores[Dataset][Var_Izq]\n\n            # Formatear\n            if Stats:\n                Media = Stats.get('Media', np.nan)\n                DE = Stats.get('Desvio_Estandar', np.nan)\n                N = Stats.get('N', 0)\n\n                if not np.isnan(Media):\n                    Texto_Media = f'{Media:.2f}±{DE:.2f}'\n                    Texto_N = f'{N}'\n\n                    if P_Valor is not None and not np.isnan(P_Valor):\n                        if P_Valor < 0.001:\n                            Texto_Sig = '***'\n                        elif P_Valor < 0.01:\n                            Texto_Sig = '**'\n                        elif P_Valor < 0.05:\n                            Texto_Sig = '*'\n                        else:\n                            Texto_Sig = 'ns'\n                    else:\n                        Texto_Sig = '—'\n                else:\n                    Texto_Media = '—'\n                    Texto_N = '—'\n                    Texto_Sig = '—'\n            else:\n                Texto_Media = '—'\n                Texto_N = '—'\n                Texto_Sig = '—'\n\n            Fila_Izq.extend([Texto_Media, Texto_N, Texto_Sig])\n\n        Datos_Tabla.append(Fila_Izq)\n\n        # Fila para Derecha\n        Var_Der = f'CO_Item_{Num_Item}_Der'\n        Fila_Der = [f'Ítem {Num_Item} (Der)']\n\n        for Categoria in Categorias:\n            Stats = None\n            P_Valor = None\n\n            # Obtener estadísticas\n            if Dataset in Diccionario_Resultados:\n                if Categoria in Diccionario_Resultados[Dataset]:\n                    if Var_Der in Diccionario_Resultados[Dataset][Categoria]:\n                        Stats = Diccionario_Resultados[Dataset][Categoria][Var_Der]\n\n            # Obtener p-valor\n            if Dataset in Diccionario_P_Valores:\n                if Var_Der in Diccionario_P_Valores[Dataset]:\n                    P_Valor = Diccionario_P_Valores[Dataset][Var_Der]\n\n            # Formatear\n            if Stats:\n                Media = Stats.get('Media', np.nan)\n                DE = Stats.get('Desvio_Estandar', np.nan)\n                N = Stats.get('N', 0)\n\n                if not np.isnan(Media):\n                    Texto_Media = f'{Media:.2f}±{DE:.2f}'\n                    Texto_N = f'{N}'\n\n                    if P_Valor is not None and not np.isnan(P_Valor):\n                        if P_Valor < 0.001:\n                            Texto_Sig = '***'\n                        elif P_Valor < 0.01:\n                            Texto_Sig = '**'\n                        elif P_Valor < 0.05:\n                            Texto_Sig = '*'\n                        else:\n                            Texto_Sig = 'ns'\n                    else:\n                        Texto_Sig = '—'\n                else:\n                    Texto_Media = '—'\n                    Texto_N = '—'\n                    Texto_Sig = '—'\n            else:\n                Texto_Media = '—'\n                Texto_N = '—'\n                Texto_Sig = '—'\n\n            Fila_Der.extend([Texto_Media, Texto_N, Texto_Sig])\n\n        Datos_Tabla.append(Fila_Der)\n\n        # Espacio entre ítems\n        Fila_Vacia = ['']\n        for _ in Categorias:\n            Fila_Vacia.extend(['', '', ''])\n        Datos_Tabla.append(Fila_Vacia)\n\n    # Crear figura\n    Num_Filas = len(Datos_Tabla)\n    Num_Cols = 1 + (len(Categorias) * 3)\n\n    # Ancho proporcional a columnas, alto proporcional a filas\n    Fig = plt.figure(figsize=(20, Num_Filas * 0.25))\n    Ax = Fig.add_subplot(111)\n    Ax.axis('tight')\n    Ax.axis('off')\n\n    # Anchos de columnas\n    Col_Widths = [0.12]  # Primera columna (ítems)\n    for _ in Categorias:\n        Col_Widths.extend([0.10, 0.045, 0.04])\n\n    # Crear tabla\n    Tabla = Ax.table(\n        cellText = Datos_Tabla,\n        cellLoc = 'center',  # Todas las celdas centradas\n        loc = 'center',\n        colWidths = Col_Widths\n    )\n\n    # Estilizar\n    Tabla.auto_set_font_size(False)\n    Tabla.set_fontsize(7.5)\n    Tabla.scale(1.0, 1.3)\n\n    # Colorear\n    for i in range(1, Num_Filas + 1):\n        if i <= len(Datos_Tabla):\n            Primera_Columna = str(Datos_Tabla[i-1][0])\n\n            # Encabezado de categorías (fila 1)\n            if i == 1:\n                # Primera celda vacía\n                Tabla[(i, 0)].set_facecolor('#2C5282')\n                \n                # Para cada categoría, colorear sus 3 columnas con el color de la categoría\n                for idx_cat, Categoria in enumerate(Categorias):\n                    Color_Cat = Mapa_Colores_Categorias.get(Categoria, '#2C5282')\n                    \n                    for offset in range(3):  # Las 3 columnas de cada categoría\n                        j = 1 + (idx_cat * 3) + offset\n                        Tabla[(i, j)].set_facecolor(Color_Cat)\n                        Tabla[(i, j)].set_text_props(weight='bold', color='white', size=9, ha='center')\n\n            # Sub-encabezado (fila 2)\n            elif i == 2:\n                for j in range(Num_Cols):\n                    Tabla[(i, j)].set_facecolor('#5B9BD5')\n                    Tabla[(i, j)].set_text_props(weight='bold', color='white', size=7, ha='center')\n\n            # Filas de ítems\n            elif 'Ítem' in Primera_Columna:\n                Tabla[(i, 0)].set_facecolor('#E7E6E6')\n                Tabla[(i, 0)].set_text_props(weight='semibold', ha='left', size=7.5)\n\n                # Colorear significancia (cada tercera columna)\n                for idx_cat in range(len(Categorias)):\n                    j_sig = 1 + (idx_cat * 3) + 2  # Columna de significancia\n                    if j_sig < len(Datos_Tabla[i-1]):\n                        Texto_Sig = str(Datos_Tabla[i-1][j_sig])\n\n                        if '***' in Texto_Sig:\n                            Tabla[(i, j_sig)].set_facecolor('#90EE90')\n                            Tabla[(i, j_sig)].set_text_props(weight='bold', color='#006400', ha='center')\n                        elif '**' in Texto_Sig:\n                            Tabla[(i, j_sig)].set_facecolor('#B8F4B8')\n                            Tabla[(i, j_sig)].set_text_props(weight='bold', color='#228B22', ha='center')\n                        elif '*' in Texto_Sig and not '**' in Texto_Sig:\n                            Tabla[(i, j_sig)].set_facecolor('#D4F4D4')\n                            Tabla[(i, j_sig)].set_text_props(weight='bold', ha='center')\n                        elif 'ns' in Texto_Sig:\n                            Tabla[(i, j_sig)].set_facecolor('#FFE4E1')\n                            Tabla[(i, j_sig)].set_text_props(color='#8B0000', ha='center')\n                        else:\n                            Tabla[(i, j_sig)].set_text_props(ha='center')\n                \n                # Centrar todas las celdas de datos\n                for j in range(1, Num_Cols):\n                    Tabla[(i, j)].set_text_props(ha='center')\n\n    # Título\n    Titulo = f'Cambios de Opinión - {Dataset}\\nTodas las Categorías por Ítem'\n    Fig.suptitle(Titulo, fontsize=16, fontweight='bold', y=0.98)\n\n    # Leyenda\n    Texto_Leyenda = (\n        'Significancia: *** p<0.001 | ** p<0.01 | * p<0.05 | ns: no significativo | '\n        'LW: Left Wing | Prog: Progressivism | Ctr: Centre | MRA: Moderate Right A | '\n        'MRB: Moderate Right B | RWL: Right Wing Libertarian'\n    )\n    Fig.text(0.5, 0.01, Texto_Leyenda, ha='center', fontsize=8, style='italic', wrap=True)\n\n    # Guardar\n    Ruta_Completa = os.path.join(Carpeta_Destino, Nombre_Archivo)\n    Fig.savefig(Ruta_Completa, dpi=300, bbox_inches='tight', facecolor='white')\n    plt.close(Fig)\n\n    print(f\"✅ Tabla de {Dataset} guardada en: {Ruta_Completa}\")\n\n    return Ruta_Completa"
  },
  {
   "cell_type": "code",
   "execution_count": null,
   "id": "vo9d49dh1rh",
   "metadata": {},
   "outputs": [],
   "source": "def Crear_Tabla_Por_Categoria(\n    Diccionario_Resultados,\n    Diccionario_P_Valores,\n    Categoria = 'Left_Wing',\n    Items_A_Incluir = None,\n    Nombre_Archivo = None,\n    Carpeta_Destino = 'Tablas_Estadisticas'\n):\n    \"\"\"\n    Crea una tabla para UNA categoría específica mostrando TODOS los ítems.\n    Compara Generales vs Ballotage.\n\n    Formato:\n                        | Generales                    | Ballotage                    |\n                        | Media±DE  | n    | Sig       | Media±DE  | n    | Sig       |\n    --------------------|-----------|------|-----------|-----------|------|-----------|\n    Ítem 5 (Izq)        | X.XX±Y.YY | 100  | ***       | X.XX±Y.YY | 90   | **        |\n    Ítem 5 (Der)        | X.XX±Y.YY | 100  | ***       | X.XX±Y.YY | 90   | **        |\n    ...\n\n    Parámetros:\n    - Diccionario_Resultados: Diccionario con estadísticas\n    - Diccionario_P_Valores: Diccionario con p-valores\n    - Categoria: Categoría a mostrar (ej: 'Left_Wing', 'Progressivism', etc.)\n    - Items_A_Incluir: Lista de números de ítems (si None, usa todos)\n    - Nombre_Archivo: Nombre del archivo (si None, usa formato automático)\n    - Carpeta_Destino: Carpeta donde guardar\n    \"\"\"\n\n    import os\n    if not os.path.exists(Carpeta_Destino):\n        os.makedirs(Carpeta_Destino)\n\n    # Etiquetas\n    Etiquetas_Categorias = {\n        'Left_Wing': 'Left Wing',\n        'Progressivism': 'Progressivism',\n        'Centre': 'Centre',\n        'Moderate_Right_A': 'Moderate Right A',\n        'Moderate_Right_B': 'Moderate Right B',\n        'Right_Wing_Libertarian': 'Right Wing Libertarian'\n    }\n\n    Etiqueta = Etiquetas_Categorias.get(Categoria, Categoria)\n\n    if Nombre_Archivo is None:\n        Nombre_Archivo = f'Tabla_Categoria_{Categoria}_Todos_Items.png'\n\n    # Ítems\n    if Items_A_Incluir is None:\n        Items_Progresistas = [5, 6, 9, 11, 16, 20, 24, 25, 27, 28]\n        Items_Conservadores = [3, 4, 7, 8, 10, 19, 22, 23, 29, 30]\n        Items_A_Incluir = sorted(Items_Progresistas + Items_Conservadores)\n\n    # Preparar datos\n    Datos_Tabla = []\n\n    # Encabezado principal\n    Fila_Principal = ['', 'Generales', '', '', 'Ballotage', '', '']\n    Datos_Tabla.append(Fila_Principal)\n\n    # Sub-encabezado\n    Fila_Subencabezado = ['Ítem', 'Media±DE', 'n', 'Sig', 'Media±DE', 'n', 'Sig']\n    Datos_Tabla.append(Fila_Subencabezado)\n\n    # ELIMINADA: Línea separadora de guiones\n\n    # Para cada ítem\n    for Num_Item in Items_A_Incluir:\n        # Fila para Izquierda\n        Var_Izq = f'CO_Item_{Num_Item}_Izq'\n        Fila_Izq = [f'Ítem {Num_Item} (Izq)']\n\n        for Dataset in ['Generales', 'Ballotage']:\n            Stats = None\n            P_Valor = None\n\n            # Obtener estadísticas\n            if Dataset in Diccionario_Resultados:\n                if Categoria in Diccionario_Resultados[Dataset]:\n                    if Var_Izq in Diccionario_Resultados[Dataset][Categoria]:\n                        Stats = Diccionario_Resultados[Dataset][Categoria][Var_Izq]\n\n            # Obtener p-valor\n            if Dataset in Diccionario_P_Valores:\n                if Var_Izq in Diccionario_P_Valores[Dataset]:\n                    P_Valor = Diccionario_P_Valores[Dataset][Var_Izq]\n\n            # Formatear\n            if Stats:\n                Media = Stats.get('Media', np.nan)\n                DE = Stats.get('Desvio_Estandar', np.nan)\n                N = Stats.get('N', 0)\n\n                if not np.isnan(Media):\n                    Texto_Media = f'{Media:.2f}±{DE:.2f}'\n                    Texto_N = f'{N}'\n\n                    if P_Valor is not None and not np.isnan(P_Valor):\n                        if P_Valor < 0.001:\n                            Texto_Sig = '***'\n                        elif P_Valor < 0.01:\n                            Texto_Sig = '**'\n                        elif P_Valor < 0.05:\n                            Texto_Sig = '*'\n                        else:\n                            Texto_Sig = 'ns'\n                    else:\n                        Texto_Sig = '—'\n                else:\n                    Texto_Media = '—'\n                    Texto_N = '—'\n                    Texto_Sig = '—'\n            else:\n                Texto_Media = '—'\n                Texto_N = '—'\n                Texto_Sig = '—'\n\n            Fila_Izq.extend([Texto_Media, Texto_N, Texto_Sig])\n\n        Datos_Tabla.append(Fila_Izq)\n\n        # Fila para Derecha\n        Var_Der = f'CO_Item_{Num_Item}_Der'\n        Fila_Der = [f'Ítem {Num_Item} (Der)']\n\n        for Dataset in ['Generales', 'Ballotage']:\n            Stats = None\n            P_Valor = None\n\n            # Obtener estadísticas\n            if Dataset in Diccionario_Resultados:\n                if Categoria in Diccionario_Resultados[Dataset]:\n                    if Var_Der in Diccionario_Resultados[Dataset][Categoria]:\n                        Stats = Diccionario_Resultados[Dataset][Categoria][Var_Der]\n\n            # Obtener p-valor\n            if Dataset in Diccionario_P_Valores:\n                if Var_Der in Diccionario_P_Valores[Dataset]:\n                    P_Valor = Diccionario_P_Valores[Dataset][Var_Der]\n\n            # Formatear\n            if Stats:\n                Media = Stats.get('Media', np.nan)\n                DE = Stats.get('Desvio_Estandar', np.nan)\n                N = Stats.get('N', 0)\n\n                if not np.isnan(Media):\n                    Texto_Media = f'{Media:.2f}±{DE:.2f}'\n                    Texto_N = f'{N}'\n\n                    if P_Valor is not None and not np.isnan(P_Valor):\n                        if P_Valor < 0.001:\n                            Texto_Sig = '***'\n                        elif P_Valor < 0.01:\n                            Texto_Sig = '**'\n                        elif P_Valor < 0.05:\n                            Texto_Sig = '*'\n                        else:\n                            Texto_Sig = 'ns'\n                    else:\n                        Texto_Sig = '—'\n                else:\n                    Texto_Media = '—'\n                    Texto_N = '—'\n                    Texto_Sig = '—'\n            else:\n                Texto_Media = '—'\n                Texto_N = '—'\n                Texto_Sig = '—'\n\n            Fila_Der.extend([Texto_Media, Texto_N, Texto_Sig])\n\n        Datos_Tabla.append(Fila_Der)\n\n        # Espacio entre ítems\n        Datos_Tabla.append(['', '', '', '', '', '', ''])\n\n    # Crear figura\n    Num_Filas = len(Datos_Tabla)\n\n    Fig = plt.figure(figsize=(14, Num_Filas * 0.28))\n    Ax = Fig.add_subplot(111)\n    Ax.axis('tight')\n    Ax.axis('off')\n\n    # Crear tabla\n    Tabla = Ax.table(\n        cellText = Datos_Tabla,\n        cellLoc = 'center',  # Todas las celdas centradas\n        loc = 'center',\n        colWidths = [0.18, 0.14, 0.08, 0.07, 0.14, 0.08, 0.07]\n    )\n\n    # Estilizar\n    Tabla.auto_set_font_size(False)\n    Tabla.set_fontsize(8.5)\n    Tabla.scale(1.0, 1.35)\n\n    # Colorear\n    for i in range(1, Num_Filas + 1):\n        if i <= len(Datos_Tabla):\n            Primera_Columna = str(Datos_Tabla[i-1][0])\n\n            # Encabezado principal (Generales / Ballotage)\n            if i == 1:\n                # Primera celda vacía\n                Tabla[(i, 0)].set_facecolor('#2C5282')\n                Tabla[(i, 0)].set_text_props(weight='bold', color='white', size=10)\n                \n                # Generales (columnas 1-3)\n                for j in range(1, 4):\n                    Tabla[(i, j)].set_facecolor('#2C5282')\n                    Tabla[(i, j)].set_text_props(weight='bold', color='white', size=11, ha='center')\n                \n                # Ballotage (columnas 4-6)\n                for j in range(4, 7):\n                    Tabla[(i, j)].set_facecolor('#2C5282')\n                    Tabla[(i, j)].set_text_props(weight='bold', color='white', size=11, ha='center')\n\n            # Sub-encabezado (Media±DE, n, Sig)\n            elif i == 2:\n                # Primera celda con color de la categoría\n                Color_Cat = Mapa_Colores_Categorias.get(Categoria, '#5B9BD5')\n                Tabla[(i, 0)].set_facecolor(Color_Cat)\n                Tabla[(i, 0)].set_text_props(weight='bold', color='white', size=9, ha='center')\n                \n                # Resto de celdas del sub-encabezado\n                for j in range(1, 7):\n                    Tabla[(i, j)].set_facecolor('#5B9BD5')\n                    Tabla[(i, j)].set_text_props(weight='bold', color='white', size=9, ha='center')\n\n            # Filas de ítems\n            elif 'Ítem' in Primera_Columna:\n                Tabla[(i, 0)].set_facecolor('#E7E6E6')\n                Tabla[(i, 0)].set_text_props(weight='semibold', ha='left')\n\n                # Colorear significancia (columnas 3 y 6)\n                for j_sig in [3, 6]:\n                    if j_sig < len(Datos_Tabla[i-1]):\n                        Texto_Sig = str(Datos_Tabla[i-1][j_sig])\n\n                        if '***' in Texto_Sig:\n                            Tabla[(i, j_sig)].set_facecolor('#90EE90')\n                            Tabla[(i, j_sig)].set_text_props(weight='bold', color='#006400', ha='center')\n                        elif '**' in Texto_Sig:\n                            Tabla[(i, j_sig)].set_facecolor('#B8F4B8')\n                            Tabla[(i, j_sig)].set_text_props(weight='bold', color='#228B22', ha='center')\n                        elif '*' in Texto_Sig and not '**' in Texto_Sig:\n                            Tabla[(i, j_sig)].set_facecolor('#D4F4D4')\n                            Tabla[(i, j_sig)].set_text_props(weight='bold', ha='center')\n                        elif 'ns' in Texto_Sig:\n                            Tabla[(i, j_sig)].set_facecolor('#FFE4E1')\n                            Tabla[(i, j_sig)].set_text_props(color='#8B0000', ha='center')\n                        else:\n                            Tabla[(i, j_sig)].set_text_props(ha='center')\n                \n                # Centrar celdas de datos (Media±DE y n)\n                for j_data in [1, 2, 4, 5]:\n                    Tabla[(i, j_data)].set_text_props(ha='center')\n\n    # Título\n    Titulo = f'Cambios de Opinión - {Etiqueta}\\nGenerales vs Ballotage - Todos los Ítems'\n    Fig.suptitle(Titulo, fontsize=14, fontweight='bold', y=0.98)\n\n    # Leyenda\n    Texto_Leyenda = (\n        'Significancia: *** p<0.001 | ** p<0.01 | * p<0.05 | ns: no significativo\\n'\n        'Formato: Media±Desvío Estándar | n: tamaño muestral'\n    )\n    Fig.text(0.5, 0.02, Texto_Leyenda, ha='center', fontsize=9, style='italic')\n\n    # Guardar\n    Ruta_Completa = os.path.join(Carpeta_Destino, Nombre_Archivo)\n    Fig.savefig(Ruta_Completa, dpi=300, bbox_inches='tight', facecolor='white')\n    plt.close(Fig)\n\n    print(f\"✅ Tabla de {Etiqueta} guardada en: {Ruta_Completa}\")\n\n    return Ruta_Completa"
  },
  {
   "cell_type": "code",
   "execution_count": null,
   "id": "xofj5v2f63m",
   "metadata": {},
   "outputs": [],
   "source": "def Crear_Tabla_Total_Jerarquica(\n    Diccionario_Resultados,\n    Diccionario_P_Valores,\n    Items_A_Incluir = None,\n    Nombre_Archivo = 'Tabla_Total_Jerarquica.png',\n    Carpeta_Destino = 'Tablas_Estadisticas'\n):\n    \"\"\"\n    Crea UNA mega-tabla con TODO: todas las categorías, ambos datasets (Generales/Ballotage),\n    y todos los ítems. Las columnas están agrupadas jerárquicamente:\n    \n    Nivel 1: Categorías (Left_Wing, Progressivism, etc.)\n    Nivel 2: Datasets (Generales, Ballotage)\n    Nivel 3: Media±DE, n, Sig\n\n    Formato:\n                    | Left_Wing                                          | Progressivism                                      | ...\n                    | Generales          | Ballotage          | Generales          | Ballotage          | ...\n                    | M±DE | n  | Sig    | M±DE | n  | Sig    | M±DE | n  | Sig    | M±DE | n  | Sig    | ...\n    ----------------|------|----|----|------|----|----|------|----|----|------|----|----|-----\n    Ítem 5 (Izq)    | X.XX | 50 | ** | X.XX | 45 | *  | X.XX | 60 | ns | X.XX | 55 | ** | ...\n    Ítem 5 (Der)    | X.XX | 50 | ** | X.XX | 45 | *  | X.XX | 60 | ns | X.XX | 55 | ** | ...\n    ...\n\n    Parámetros:\n    - Diccionario_Resultados: Diccionario con estadísticas\n    - Diccionario_P_Valores: Diccionario con p-valores\n    - Items_A_Incluir: Lista de números de ítems (si None, usa todos)\n    - Nombre_Archivo: Nombre del archivo\n    - Carpeta_Destino: Carpeta donde guardar\n    \"\"\"\n\n    import os\n    if not os.path.exists(Carpeta_Destino):\n        os.makedirs(Carpeta_Destino)\n\n    # Categorías\n    Categorias = [\n        'Left_Wing',\n        'Progressivism',\n        'Centre',\n        'Moderate_Right_A',\n        'Moderate_Right_B',\n        'Right_Wing_Libertarian'\n    ]\n\n    Etiquetas_Cortas = {\n        'Left_Wing': 'LW',\n        'Progressivism': 'Prog',\n        'Centre': 'Ctr',\n        'Moderate_Right_A': 'MRA',\n        'Moderate_Right_B': 'MRB',\n        'Right_Wing_Libertarian': 'RWL'\n    }\n\n    # Ítems\n    if Items_A_Incluir is None:\n        Items_Progresistas = [5, 6, 9, 11, 16, 20, 24, 25, 27, 28]\n        Items_Conservadores = [3, 4, 7, 8, 10, 19, 22, 23, 29, 30]\n        Items_A_Incluir = sorted(Items_Progresistas + Items_Conservadores)\n\n    # Preparar datos\n    Datos_Tabla = []\n\n    # ENCABEZADO NIVEL 1: Categorías\n    # Cada categoría ocupa 6 columnas, ponemos el texto en la columna del medio (columna 3 de 6)\n    Fila_Categorias = ['']\n    for Categoria in Categorias:\n        Etiqueta = Etiquetas_Cortas.get(Categoria, Categoria)\n        # Columnas: vacío, vacío, Nombre, vacío, vacío, vacío\n        Fila_Categorias.extend(['', '', Etiqueta, '', '', ''])\n    Datos_Tabla.append(Fila_Categorias)\n\n    # ENCABEZADO NIVEL 2: Datasets\n    # Cada dataset ocupa 3 columnas, ponemos el texto en la columna del medio (columna 2 de 3)\n    Fila_Datasets = ['']\n    for _ in Categorias:\n        # Para cada categoría: Gen (vacío, Gen, vacío) + Ball (vacío, Ball, vacío)\n        Fila_Datasets.extend(['', 'Gen', '', '', 'Ball', ''])\n    Datos_Tabla.append(Fila_Datasets)\n\n    # ENCABEZADO NIVEL 3: Métricas\n    Fila_Metricas = ['Ítem']\n    for _ in Categorias:\n        for _ in range(2):  # 2 datasets\n            Fila_Metricas.extend(['M±DE', 'n', 'Sig'])\n    Datos_Tabla.append(Fila_Metricas)\n\n    # ELIMINADA: Línea separadora de guiones\n\n    # DATOS: Para cada ítem\n    for Num_Item in Items_A_Incluir:\n        # Fila para Izquierda\n        Var_Izq = f'CO_Item_{Num_Item}_Izq'\n        Fila_Izq = [f'Ítem {Num_Item} (Izq)']\n\n        for Categoria in Categorias:\n            for Dataset in ['Generales', 'Ballotage']:\n                Stats = None\n                P_Valor = None\n\n                # Obtener estadísticas\n                if Dataset in Diccionario_Resultados:\n                    if Categoria in Diccionario_Resultados[Dataset]:\n                        if Var_Izq in Diccionario_Resultados[Dataset][Categoria]:\n                            Stats = Diccionario_Resultados[Dataset][Categoria][Var_Izq]\n\n                # Obtener p-valor\n                if Dataset in Diccionario_P_Valores:\n                    if Var_Izq in Diccionario_P_Valores[Dataset]:\n                        P_Valor = Diccionario_P_Valores[Dataset][Var_Izq]\n\n                # Formatear\n                if Stats:\n                    Media = Stats.get('Media', np.nan)\n                    DE = Stats.get('Desvio_Estandar', np.nan)\n                    N = Stats.get('N', 0)\n\n                    if not np.isnan(Media):\n                        Texto_Media = f'{Media:.2f}±{DE:.2f}'\n                        Texto_N = f'{N}'\n\n                        if P_Valor is not None and not np.isnan(P_Valor):\n                            if P_Valor < 0.001:\n                                Texto_Sig = '***'\n                            elif P_Valor < 0.01:\n                                Texto_Sig = '**'\n                            elif P_Valor < 0.05:\n                                Texto_Sig = '*'\n                            else:\n                                Texto_Sig = 'ns'\n                        else:\n                            Texto_Sig = '—'\n                    else:\n                        Texto_Media = '—'\n                        Texto_N = '—'\n                        Texto_Sig = '—'\n                else:\n                    Texto_Media = '—'\n                    Texto_N = '—'\n                    Texto_Sig = '—'\n\n                Fila_Izq.extend([Texto_Media, Texto_N, Texto_Sig])\n\n        Datos_Tabla.append(Fila_Izq)\n\n        # Fila para Derecha\n        Var_Der = f'CO_Item_{Num_Item}_Der'\n        Fila_Der = [f'Ítem {Num_Item} (Der)']\n\n        for Categoria in Categorias:\n            for Dataset in ['Generales', 'Ballotage']:\n                Stats = None\n                P_Valor = None\n\n                # Obtener estadísticas\n                if Dataset in Diccionario_Resultados:\n                    if Categoria in Diccionario_Resultados[Dataset]:\n                        if Var_Der in Diccionario_Resultados[Dataset][Categoria]:\n                            Stats = Diccionario_Resultados[Dataset][Categoria][Var_Der]\n\n                # Obtener p-valor\n                if Dataset in Diccionario_P_Valores:\n                    if Var_Der in Diccionario_P_Valores[Dataset]:\n                        P_Valor = Diccionario_P_Valores[Dataset][Var_Der]\n\n                # Formatear\n                if Stats:\n                    Media = Stats.get('Media', np.nan)\n                    DE = Stats.get('Desvio_Estandar', np.nan)\n                    N = Stats.get('N', 0)\n\n                    if not np.isnan(Media):\n                        Texto_Media = f'{Media:.2f}±{DE:.2f}'\n                        Texto_N = f'{N}'\n\n                        if P_Valor is not None and not np.isnan(P_Valor):\n                            if P_Valor < 0.001:\n                                Texto_Sig = '***'\n                            elif P_Valor < 0.01:\n                                Texto_Sig = '**'\n                            elif P_Valor < 0.05:\n                                Texto_Sig = '*'\n                            else:\n                                Texto_Sig = 'ns'\n                        else:\n                            Texto_Sig = '—'\n                    else:\n                        Texto_Media = '—'\n                        Texto_N = '—'\n                        Texto_Sig = '—'\n                else:\n                    Texto_Media = '—'\n                    Texto_N = '—'\n                    Texto_Sig = '—'\n\n                Fila_Der.extend([Texto_Media, Texto_N, Texto_Sig])\n\n        Datos_Tabla.append(Fila_Der)\n\n        # Espacio entre ítems\n        Fila_Vacia = ['']\n        for _ in Categorias:\n            for _ in range(2):\n                Fila_Vacia.extend(['', '', ''])\n        Datos_Tabla.append(Fila_Vacia)\n\n    # Crear figura\n    Num_Filas = len(Datos_Tabla)\n    Num_Cols = 1 + (len(Categorias) * 6)  # 1 para ítems + (6 cats × 6 cols cada una)\n\n    # Tabla muy ancha\n    Fig = plt.figure(figsize=(28, Num_Filas * 0.22))\n    Ax = Fig.add_subplot(111)\n    Ax.axis('tight')\n    Ax.axis('off')\n\n    # Anchos de columnas\n    Col_Widths = [0.08]  # Primera columna (ítems)\n    for _ in Categorias:\n        for _ in range(2):  # 2 datasets\n            Col_Widths.extend([0.065, 0.028, 0.025])\n\n    # Crear tabla\n    Tabla = Ax.table(\n        cellText = Datos_Tabla,\n        cellLoc = 'center',  # Todas las celdas centradas\n        loc = 'center',\n        colWidths = Col_Widths\n    )\n\n    # Estilizar\n    Tabla.auto_set_font_size(False)\n    Tabla.set_fontsize(6)\n    Tabla.scale(1.0, 1.25)\n\n    # Colorear\n    for i in range(1, Num_Filas + 1):\n        if i <= len(Datos_Tabla):\n            Primera_Columna = str(Datos_Tabla[i-1][0])\n\n            # Encabezado Nivel 1 (Categorías)\n            if i == 1:\n                # Primera celda vacía\n                Tabla[(i, 0)].set_facecolor('#1F4788')\n                \n                # Para cada categoría, colorear sus 6 columnas con el color de la categoría\n                for idx_cat, Categoria in enumerate(Categorias):\n                    Color_Cat = Mapa_Colores_Categorias.get(Categoria, '#1F4788')\n                    \n                    for offset in range(6):  # Las 6 columnas de cada categoría\n                        j = 1 + (idx_cat * 6) + offset\n                        Tabla[(i, j)].set_facecolor(Color_Cat)\n                        Tabla[(i, j)].set_text_props(weight='bold', color='white', size=7, ha='center')\n\n            # Encabezado Nivel 2 (Datasets)\n            elif i == 2:\n                # Primera celda vacía\n                Tabla[(i, 0)].set_facecolor('#2C5282')\n                \n                # Para cada dataset dentro de cada categoría\n                for idx_cat in range(len(Categorias)):\n                    for idx_dataset in range(2):  # Generales y Ballotage\n                        for offset in range(3):  # Las 3 columnas de cada dataset\n                            j = 1 + (idx_cat * 6) + (idx_dataset * 3) + offset\n                            Tabla[(i, j)].set_facecolor('#2C5282')\n                            Tabla[(i, j)].set_text_props(weight='bold', color='white', size=6.5, ha='center')\n\n            # Encabezado Nivel 3 (Métricas)\n            elif i == 3:\n                for j in range(Num_Cols):\n                    Tabla[(i, j)].set_facecolor('#5B9BD5')\n                    Tabla[(i, j)].set_text_props(weight='bold', color='white', size=6, ha='center')\n\n            # Filas de ítems\n            elif 'Ítem' in Primera_Columna:\n                Tabla[(i, 0)].set_facecolor('#E7E6E6')\n                Tabla[(i, 0)].set_text_props(weight='semibold', ha='left', size=6)\n\n                # Colorear significancia (cada tercera columna)\n                for idx_cat in range(len(Categorias)):\n                    for idx_dataset in range(2):  # Generales y Ballotage\n                        j_sig = 1 + (idx_cat * 6) + (idx_dataset * 3) + 2\n                        if j_sig < len(Datos_Tabla[i-1]):\n                            Texto_Sig = str(Datos_Tabla[i-1][j_sig])\n\n                            if '***' in Texto_Sig:\n                                Tabla[(i, j_sig)].set_facecolor('#90EE90')\n                                Tabla[(i, j_sig)].set_text_props(weight='bold', color='#006400', size=6, ha='center')\n                            elif '**' in Texto_Sig:\n                                Tabla[(i, j_sig)].set_facecolor('#B8F4B8')\n                                Tabla[(i, j_sig)].set_text_props(weight='bold', color='#228B22', size=6, ha='center')\n                            elif '*' in Texto_Sig and not '**' in Texto_Sig:\n                                Tabla[(i, j_sig)].set_facecolor('#D4F4D4')\n                                Tabla[(i, j_sig)].set_text_props(weight='bold', size=6, ha='center')\n                            elif 'ns' in Texto_Sig:\n                                Tabla[(i, j_sig)].set_facecolor('#FFE4E1')\n                                Tabla[(i, j_sig)].set_text_props(color='#8B0000', size=6, ha='center')\n                            else:\n                                Tabla[(i, j_sig)].set_text_props(size=6, ha='center')\n                \n                # Centrar todas las celdas de datos\n                for j in range(1, Num_Cols):\n                    Tabla[(i, j)].set_text_props(size=6, ha='center')\n\n    # Título\n    Titulo = 'Tabla Completa: Cambios de Opinión por Ítem\\nTodas las Categorías - Generales vs Ballotage'\n    Fig.suptitle(Titulo, fontsize=16, fontweight='bold', y=0.99)\n\n    # Leyenda\n    Texto_Leyenda = (\n        'Significancia: *** p<0.001 | ** p<0.01 | * p<0.05 | ns: no significativo | '\n        'LW: Left Wing | Prog: Progressivism | Ctr: Centre | MRA: Moderate Right A | MRB: Moderate Right B | RWL: Right Wing Libertarian | '\n        'Gen: Generales | Ball: Ballotage | M±DE: Media±Desvío Estándar'\n    )\n    Fig.text(0.5, 0.005, Texto_Leyenda, ha='center', fontsize=7, style='italic', wrap=True)\n\n    # Guardar\n    Ruta_Completa = os.path.join(Carpeta_Destino, Nombre_Archivo)\n    Fig.savefig(Ruta_Completa, dpi=300, bbox_inches='tight', facecolor='white')\n    plt.close(Fig)\n\n    print(f\"✅ Tabla Total Jerárquica guardada en: {Ruta_Completa}\")\n\n    return Ruta_Completa"
  },
  {
   "cell_type": "markdown",
   "id": "enwff5befeu",
   "metadata": {},
   "source": [
    "## Ejemplos de Uso\n",
    "\n",
    "A continuación se muestran ejemplos de cómo usar cada función para generar diferentes tipos de tablas."
   ]
  },
  {
   "cell_type": "markdown",
   "id": "36h9xxi8ij",
   "metadata": {},
   "source": [
    "### 1. Tabla por Ítem\n",
    "Genera una tabla para un ítem específico mostrando todas las categorías comparando Generales vs Ballotage."
   ]
  },
  {
   "cell_type": "code",
   "execution_count": null,
   "id": "ci4bpw6km1",
   "metadata": {},
   "outputs": [
    {
     "name": "stdout",
     "output_type": "stream",
     "text": [
      "✅ Tabla del Ítem 5 guardada en: Tablas_Estadisticas\\Ejemplo_Tabla_Item_5.png\n",
      "\n",
      "📊 Tabla del Ítem 5 creada\n",
      "   Muestra todas las categorías comparando Generales vs Ballotage\n"
     ]
    }
   ],
   "source": [
    "# Ejemplo: Crear tabla para el Ítem 5\n",
    "Ruta_Tabla_Item_5 = Crear_Tabla_Por_Item(\n",
    "    Diccionario_Resultados = Diccionario_Resultados_CO_Individuales,\n",
    "    Diccionario_P_Valores = Diccionario_P_Valores,\n",
    "    Numero_Item = 5,\n",
    "    Nombre_Archivo = 'Ejemplo_Tabla_Item_5.png'\n",
    ")\n",
    "\n",
    "print(f\"\\n📊 Tabla del Ítem 5 creada\")\n",
    "print(f\"   Muestra todas las categorías comparando Generales vs Ballotage\")"
   ]
  },
  {
   "cell_type": "markdown",
   "id": "6u9ya5pjtaq",
   "metadata": {},
   "source": [
    "### 2. Tabla por Dataset\n",
    "Genera una tabla para un dataset específico (Generales o Ballotage) mostrando todas las categorías y todos los ítems."
   ]
  },
  {
   "cell_type": "code",
   "execution_count": null,
   "id": "y6oawjp7at",
   "metadata": {},
   "outputs": [
    {
     "name": "stdout",
     "output_type": "stream",
     "text": [
      "✅ Tabla de Generales guardada en: Tablas_Estadisticas\\Ejemplo_Tabla_Generales.png\n",
      "\n",
      "📊 Tabla de Generales creada\n",
      "   Muestra todas las categorías para 6 ítems progresistas\n"
     ]
    }
   ],
   "source": [
    "# Ejemplo: Crear tabla para Generales con todos los ítems\n",
    "Ruta_Tabla_Generales = Crear_Tabla_Por_Dataset(\n",
    "    Diccionario_Resultados = Diccionario_Resultados_CO_Individuales,\n",
    "    Diccionario_P_Valores = Diccionario_P_Valores,\n",
    "    Dataset = 'Generales',\n",
    "    Items_A_Incluir = [5, 6, 9, 11, 16, 20],  # Subset de ítems progresistas\n",
    "    Nombre_Archivo = 'Ejemplo_Tabla_Generales.png'\n",
    ")\n",
    "\n",
    "print(f\"\\n📊 Tabla de Generales creada\")\n",
    "print(f\"   Muestra todas las categorías para 6 ítems progresistas\")"
   ]
  },
  {
   "cell_type": "markdown",
   "id": "30s2qswagjr",
   "metadata": {},
   "source": [
    "### 3. Tabla por Categoría\n",
    "Genera una tabla para una categoría específica mostrando todos los ítems comparando Generales vs Ballotage."
   ]
  },
  {
   "cell_type": "code",
   "execution_count": null,
   "id": "9wcry6n188s",
   "metadata": {},
   "outputs": [
    {
     "name": "stdout",
     "output_type": "stream",
     "text": [
      "✅ Tabla de Left Wing guardada en: Tablas_Estadisticas\\Ejemplo_Tabla_Left_Wing.png\n",
      "\n",
      "📊 Tabla de Left Wing creada\n",
      "   Muestra todos los ítems progresistas comparando Generales vs Ballotage\n"
     ]
    }
   ],
   "source": [
    "# Ejemplo: Crear tabla para Left_Wing con todos los ítems\n",
    "Ruta_Tabla_Left_Wing = Crear_Tabla_Por_Categoria(\n",
    "    Diccionario_Resultados = Diccionario_Resultados_CO_Individuales,\n",
    "    Diccionario_P_Valores = Diccionario_P_Valores,\n",
    "    Categoria = 'Left_Wing',\n",
    "    Items_A_Incluir = [5, 6, 9, 11, 16, 20, 24, 25, 27, 28],  # Ítems progresistas\n",
    "    Nombre_Archivo = 'Ejemplo_Tabla_Left_Wing.png'\n",
    ")\n",
    "\n",
    "print(f\"\\n📊 Tabla de Left Wing creada\")\n",
    "print(f\"   Muestra todos los ítems progresistas comparando Generales vs Ballotage\")"
   ]
  },
  {
   "cell_type": "markdown",
   "id": "scjil1pi07a",
   "metadata": {},
   "source": [
    "### 4. Tabla Total Jerárquica\n",
    "Genera UNA mega-tabla con TODO: todas las categorías, ambos datasets (Generales/Ballotage), y todos los ítems. Las columnas están agrupadas jerárquicamente."
   ]
  },
  {
   "cell_type": "code",
   "execution_count": null,
   "id": "krvra3c8tc",
   "metadata": {},
   "outputs": [
    {
     "name": "stdout",
     "output_type": "stream",
     "text": [
      "✅ Tabla Total Jerárquica guardada en: Tablas_Estadisticas\\Ejemplo_Tabla_Total_Jerarquica.png\n",
      "\n",
      "📊 Tabla Total Jerárquica creada\n",
      "   Muestra TODAS las categorías y ambos datasets para 4 ítems\n",
      "   Formato jerárquico: Categorías > Datasets > Métricas\n"
     ]
    }
   ],
   "source": [
    "# Ejemplo: Crear tabla total jerárquica con subset de ítems\n",
    "Ruta_Tabla_Total = Crear_Tabla_Total_Jerarquica(\n",
    "    Diccionario_Resultados = Diccionario_Resultados_CO_Individuales,\n",
    "    Diccionario_P_Valores = Diccionario_P_Valores,\n",
    "    Items_A_Incluir = [5, 6, 9, 11],  # Subset de 4 ítems para ejemplo\n",
    "    Nombre_Archivo = 'Ejemplo_Tabla_Total_Jerarquica.png'\n",
    ")\n",
    "\n",
    "print(f\"\\n📊 Tabla Total Jerárquica creada\")\n",
    "print(f\"   Muestra TODAS las categorías y ambos datasets para 4 ítems\")\n",
    "print(f\"   Formato jerárquico: Categorías > Datasets > Métricas\")"
   ]
  },
  {
   "cell_type": "markdown",
   "id": "d5hdc44jtn8",
   "metadata": {},
   "source": [
    "---\n",
    "\n",
    "## Generar Tablas Completas\n",
    "\n",
    "Para generar todas las tablas con todos los ítems, puedes ejecutar las siguientes celdas:"
   ]
  },
  {
   "cell_type": "code",
   "execution_count": null,
   "id": "kv2qhfbdz2q",
   "metadata": {},
   "outputs": [
    {
     "name": "stdout",
     "output_type": "stream",
     "text": [
      "============================================================\n",
      "Generando Tablas por Dataset\n",
      "============================================================\n",
      "✅ Tabla de Generales guardada en: Tablas_Estadisticas\\Tabla_Generales_Completa.png\n",
      "✅ Tabla de Ballotage guardada en: Tablas_Estadisticas\\Tabla_Ballotage_Completa.png\n",
      "\n",
      "============================================================\n",
      "Generando Tablas por Categoría\n",
      "============================================================\n",
      "✅ Tabla de Left Wing guardada en: Tablas_Estadisticas\\Tabla_Categoria_Left_Wing_Todos_Items.png\n",
      "✅ Tabla de Progressivism guardada en: Tablas_Estadisticas\\Tabla_Categoria_Progressivism_Todos_Items.png\n",
      "✅ Tabla de Centre guardada en: Tablas_Estadisticas\\Tabla_Categoria_Centre_Todos_Items.png\n",
      "✅ Tabla de Moderate Right A guardada en: Tablas_Estadisticas\\Tabla_Categoria_Moderate_Right_A_Todos_Items.png\n",
      "✅ Tabla de Moderate Right B guardada en: Tablas_Estadisticas\\Tabla_Categoria_Moderate_Right_B_Todos_Items.png\n",
      "✅ Tabla de Right Wing Libertarian guardada en: Tablas_Estadisticas\\Tabla_Categoria_Right_Wing_Libertarian_Todos_Items.png\n",
      "\n",
      "============================================================\n",
      "Generando Tabla Total Jerárquica\n",
      "============================================================\n",
      "✅ Tabla Total Jerárquica guardada en: Tablas_Estadisticas\\Tabla_Total_Jerarquica_Completa.png\n",
      "\n",
      "============================================================\n",
      "✅ TODAS LAS TABLAS GENERADAS EXITOSAMENTE\n",
      "============================================================\n"
     ]
    }
   ],
   "source": [
    "# Generar tablas para TODOS los ítems progresistas y conservadores\n",
    "Items_Progresistas = [5, 6, 9, 11, 16, 20, 24, 25, 27, 28]\n",
    "Items_Conservadores = [3, 4, 7, 8, 10, 19, 22, 23, 29, 30]\n",
    "Todos_Items = sorted(Items_Progresistas + Items_Conservadores)\n",
    "\n",
    "# 1. Tablas por Dataset (una para Generales, otra para Ballotage)\n",
    "print(\"=\"*60)\n",
    "print(\"Generando Tablas por Dataset\")\n",
    "print(\"=\"*60)\n",
    "\n",
    "Crear_Tabla_Por_Dataset(\n",
    "    Diccionario_Resultados = Diccionario_Resultados_CO_Individuales,\n",
    "    Diccionario_P_Valores = Diccionario_P_Valores,\n",
    "    Dataset = 'Generales',\n",
    "    Items_A_Incluir = Todos_Items,\n",
    "    Nombre_Archivo = 'Tabla_Generales_Completa.png'\n",
    ")\n",
    "\n",
    "Crear_Tabla_Por_Dataset(\n",
    "    Diccionario_Resultados = Diccionario_Resultados_CO_Individuales,\n",
    "    Diccionario_P_Valores = Diccionario_P_Valores,\n",
    "    Dataset = 'Ballotage',\n",
    "    Items_A_Incluir = Todos_Items,\n",
    "    Nombre_Archivo = 'Tabla_Ballotage_Completa.png'\n",
    ")\n",
    "\n",
    "# 2. Tablas por Categoría (una por cada categoría)\n",
    "print(\"\\n\" + \"=\"*60)\n",
    "print(\"Generando Tablas por Categoría\")\n",
    "print(\"=\"*60)\n",
    "\n",
    "Categorias = ['Left_Wing', 'Progressivism', 'Centre', \n",
    "              'Moderate_Right_A', 'Moderate_Right_B', 'Right_Wing_Libertarian']\n",
    "\n",
    "for Categoria in Categorias:\n",
    "    Crear_Tabla_Por_Categoria(\n",
    "        Diccionario_Resultados = Diccionario_Resultados_CO_Individuales,\n",
    "        Diccionario_P_Valores = Diccionario_P_Valores,\n",
    "        Categoria = Categoria,\n",
    "        Items_A_Incluir = Todos_Items\n",
    "    )\n",
    "\n",
    "# 3. Tabla Total Jerárquica con TODO\n",
    "print(\"\\n\" + \"=\"*60)\n",
    "print(\"Generando Tabla Total Jerárquica\")\n",
    "print(\"=\"*60)\n",
    "\n",
    "Crear_Tabla_Total_Jerarquica(\n",
    "    Diccionario_Resultados = Diccionario_Resultados_CO_Individuales,\n",
    "    Diccionario_P_Valores = Diccionario_P_Valores,\n",
    "    Items_A_Incluir = Todos_Items,\n",
    "    Nombre_Archivo = 'Tabla_Total_Jerarquica_Completa.png'\n",
    ")\n",
    "\n",
    "print(\"\\n\" + \"=\"*60)\n",
    "print(\"✅ TODAS LAS TABLAS GENERADAS EXITOSAMENTE\")\n",
    "print(\"=\"*60)"
   ]
  }
 ],
 "metadata": {
  "kernelspec": {
   "display_name": "Python 3",
   "language": "python",
   "name": "python3"
  },
  "language_info": {
   "codemirror_mode": {
    "name": "ipython",
    "version": 3
   },
   "file_extension": ".py",
   "mimetype": "text/x-python",
   "name": "python",
   "nbconvert_exporter": "python",
   "pygments_lexer": "ipython3",
   "version": "3.13.7"
  }
 },
 "nbformat": 4,
 "nbformat_minor": 5
}