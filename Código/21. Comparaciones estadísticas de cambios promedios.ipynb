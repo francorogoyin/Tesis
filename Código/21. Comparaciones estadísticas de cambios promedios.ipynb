{
 "cells": [
  {
   "cell_type": "code",
   "execution_count": 1,
   "id": "87471fb7",
   "metadata": {},
   "outputs": [],
   "source": [
    "# Librerías.\n",
    "import pandas as pd\n",
    "import Funciones as f\n",
    "import unidecode\n",
    "from docx import Document\n",
    "from docx.shared import Inches\n",
    "import os\n",
    "import matplotlib.pyplot as plt\n",
    "import seaborn as sns\n",
    "import numpy as np"
   ]
  },
  {
   "cell_type": "code",
   "execution_count": 2,
   "id": "ae815838",
   "metadata": {},
   "outputs": [],
   "source": [
    "%%capture\n",
    "%run \"19. CO y CT.ipynb\""
   ]
  },
  {
   "cell_type": "code",
   "execution_count": 3,
   "id": "985bd886",
   "metadata": {},
   "outputs": [],
   "source": [
    "Columnas_Cambios = ['CO_Pro_Izq', \n",
    "                    'CO_Con_Izq', \n",
    "                    'CO_Pro_Der', \n",
    "                    'CO_Con_Der', \n",
    "                    #'CT_Pro_Izq', \n",
    "                    #'CT_Con_Izq', \n",
    "                    #'CT_Pro_Der', \n",
    "                    #'CT_Con_Der'\n",
    "                    ]"
   ]
  },
  {
   "cell_type": "code",
   "execution_count": null,
   "id": "86982ecb",
   "metadata": {},
   "outputs": [],
   "source": [
    "Todas_Variables_Significativas = {'Cambios_Promedios_Significativos': {},\n",
    "                                  'Cambios_Por_Item_Significativos': {},\n",
    "                                  'Cambios_Filtrados_Significativos': {},\n",
    "                                  'Cambios_Sumados_Significativos': {},\n",
    "\n",
    "                                  'Cambios_Tiempo_Promedios_Significativos': {},\n",
    "                                  'Cambios_Tiempo_Por_Item_Significativos': {},\n",
    "                                  'Cambios_Tiempo_Filtrados_Significativos': {},\n",
    "                                  'Cambios_Tiempo_Sumados_Significativos': {}}"
   ]
  },
  {
   "cell_type": "code",
   "execution_count": null,
   "id": "ac4a7c40",
   "metadata": {},
   "outputs": [],
   "source": [
    "for Nombre_df, df in dfs_Finales.items():\n",
    "\n",
    "    # ---Preparación de datos---.\n",
    "\n",
    "    # Seleccionar columnas de interés.\n",
    "    df_Cambios = df[['ID', 'Categoria_PASO_2023'] + Columnas_Cambios]\n",
    "\n",
    "    # Filtrar filas con categorías válidas y sin valores nulos en las columnas de interés.\n",
    "    Categorias_Validas = [\n",
    "        'Left_Wing', \n",
    "        'Progressivism', \n",
    "        'Centre',\n",
    "        'Moderate_Right_A', \n",
    "        'Moderate_Right_B',\n",
    "        'Right_Wing_Libertarian'\n",
    "    ]\n",
    "\n",
    "    df_Cambios = df_Cambios[df_Cambios['Categoria_PASO_2023'].isin(Categorias_Validas)].dropna(subset=Columnas_Cambios)\n",
    "\n",
    "\n",
    "    # ---Estadísticas descriptivas---.\n",
    "\n",
    "    # Importar Kruskal-Wallis.\n",
    "    from scipy.stats import kruskal\n",
    "\n",
    "    # Crear diccionario para almacenar resultados.\n",
    "    Resultados_Kruskal = {}\n",
    "\n",
    "    # Agrupar por categoría para cada columna y aplicar Kruskal-Wallis.\n",
    "    for Nombre_Columna in Columnas_Cambios:\n",
    "        Grupos = [\n",
    "            df_Cambios[df_Cambios['Categoria_PASO_2023'] == Categoria][Nombre_Columna]\n",
    "            for Categoria in Categorias_Validas\n",
    "        ]\n",
    "\n",
    "        Estadistico, P_Valor = kruskal(*Grupos)\n",
    "        Resultados_Kruskal[Nombre_Columna] = {\n",
    "            'Estadístico': Estadistico,\n",
    "            'Valor_p': P_Valor\n",
    "        }\n",
    "\n",
    "    # Convertir los resultados a DataFrame.\n",
    "    Tabla_Resultados_Kruskal = pd.DataFrame.from_dict(\n",
    "        Resultados_Kruskal, orient='index'\n",
    "    ).reset_index().rename(columns={\n",
    "        'index': 'Variable',\n",
    "        'Estadístico': 'Estadistico_Kruskal',\n",
    "        'Valor_p': 'Valor_p'\n",
    "    })\n",
    "\n",
    "    # Ordenar por p-valor ascendente.\n",
    "    Tabla_Resultados_Kruskal = Tabla_Resultados_Kruskal.sort_values(\n",
    "        by='Valor_p'\n",
    "    ).reset_index(drop=True)\n",
    "\n",
    "    # Filtrar variables significativas (p-valor < 0.05).\n",
    "    Variables_Significativas = Tabla_Resultados_Kruskal[\n",
    "        Tabla_Resultados_Kruskal['Valor_p'] < 0.05\n",
    "        ]['Variable'].tolist()\n",
    "    \n",
    "    Todas_Variables_Significativas['Cambios_Promedios_Significativos'][Nombre_df] = Variables_Significativas\n",
    "\n",
    "    # Mostrar tabla.\n",
    "    print(Tabla_Resultados_Kruskal)"
   ]
  }
 ],
 "metadata": {
  "kernelspec": {
   "display_name": "Python 3",
   "language": "python",
   "name": "python3"
  },
  "language_info": {
   "codemirror_mode": {
    "name": "ipython",
    "version": 3
   },
   "file_extension": ".py",
   "mimetype": "text/x-python",
   "name": "python",
   "nbconvert_exporter": "python",
   "pygments_lexer": "ipython3",
   "version": "3.11.9"
  }
 },
 "nbformat": 4,
 "nbformat_minor": 5
}
