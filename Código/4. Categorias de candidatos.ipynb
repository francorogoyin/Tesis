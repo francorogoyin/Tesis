{
 "cells": [
  {
   "cell_type": "code",
   "execution_count": 1,
   "id": "ca450a60",
   "metadata": {},
   "outputs": [],
   "source": [
    "# Librerías.\n",
    "import pandas as pd\n",
    "import Funciones as f"
   ]
  },
  {
   "cell_type": "code",
   "execution_count": null,
   "id": "e40e6052",
   "metadata": {},
   "outputs": [],
   "source": [
    "%%capture\n",
    "%run \"3. Indice de positividad.ipynb\""
   ]
  },
  {
   "cell_type": "code",
   "execution_count": 3,
   "id": "3309070f",
   "metadata": {},
   "outputs": [],
   "source": [
    "Candidatos_Mapeo = {\n",
    "    'Sergio Massa': 'Progressivism',\n",
    "    'Juan Grabois': 'Progressivism',\n",
    "    'no aplica': 'No apply',\n",
    "    'Myriam Bregman': 'Left wing',\n",
    "    'Patricia Bullrich': 'Moderate right B',\n",
    "    'Horacio Rodriguez Larreta': 'Moderate right A',\n",
    "    'Juan Schiaretti': 'Centre',\n",
    "    'Prefiero no decirlo': 'No response',\n",
    "    'Guillermo Moreno': 'Progressivism',\n",
    "    'Voto en blanco': 'Blank',\n",
    "    'Gabriel Solano': 'Left wing',\n",
    "    'Manuela Castañeira': 'Left wing',\n",
    "    'Javier Milei': 'Right wing libertarian'}"
   ]
  },
  {
   "cell_type": "code",
   "execution_count": 4,
   "id": "fdc4ba24",
   "metadata": {},
   "outputs": [],
   "source": [
    "for Nombre_df, df in dfs_Finales.items():\n",
    "  df['Categoria_PASO_2023'] = df['Candidato_PASO_2023'].map(\n",
    "      Candidatos_Mapeo\n",
    "  ).fillna('Other')"
   ]
  },
  {
   "cell_type": "code",
   "execution_count": 6,
   "id": "c19f53bd",
   "metadata": {},
   "outputs": [],
   "source": [
    "# Exportar solo Columnas clave para control\n",
    "for Nombre_df, df in dfs_Finales.items():\n",
    "    \n",
    "    Columnas = ['ID', 'Candidato_PASO_2023', 'Categoria_PASO_2023']\n",
    "    Columnas_Presentes = [c for c in Columnas if c in df.columns]\n",
    "    \n",
    "    dfs_Finales[Nombre_df][Columnas_Presentes].head(50).to_excel(\n",
    "        f'Controles/4. Categorias de candidatos ({Nombre_df}).xlsx',\n",
    "        index=False\n",
    "    )"
   ]
  },
  {
   "cell_type": "code",
   "execution_count": null,
   "id": "b97a72cf",
   "metadata": {},
   "outputs": [],
   "source": []
  }
 ],
 "metadata": {
  "kernelspec": {
   "display_name": "Python 3",
   "language": "python",
   "name": "python3"
  },
  "language_info": {
   "codemirror_mode": {
    "name": "ipython",
    "version": 3
   },
   "file_extension": ".py",
   "mimetype": "text/x-python",
   "name": "python",
   "nbconvert_exporter": "python",
   "pygments_lexer": "ipython3",
   "version": "3.11.9"
  }
 },
 "nbformat": 4,
 "nbformat_minor": 5
}
