{
 "cells": [
  {
   "cell_type": "code",
   "execution_count": null,
   "id": "9fbbfadc",
   "metadata": {},
   "outputs": [],
   "source": [
    "def Modelo_Ordinal(Variables_X, Variable_Y, Nombre_Variable):\n",
    "\n",
    "    \"\"\"\n",
    "    Ajusta un modelo de regresión ordinal sin constante explícita.\n",
    "    \n",
    "    \"\"\"\n",
    "    \n",
    "    from statsmodels.miscmodels.ordinal_model import OrderedModel\n",
    "    \n",
    "    print(f\"\\nAjustando modelo ORDINAL para: {Nombre_Variable}\")\n",
    "    print(\"=\"*50)\n",
    "    \n",
    "    try:\n",
    "        # NO agregar constante - OrderedModel la maneja internamente.\n",
    "        Modelo_Ordinal = OrderedModel(Variable_Y, Variables_X, distr='logit').fit()\n",
    "        \n",
    "        Resultados = {\n",
    "            'Tipo_Modelo': 'Ordinal',\n",
    "            'Variable_Dependiente': Nombre_Variable,\n",
    "            'N_Observaciones': len(Variables_X),\n",
    "            'Log_Likelihood': Modelo_Ordinal.llf,\n",
    "            'AIC': Modelo_Ordinal.aic,\n",
    "            'BIC': Modelo_Ordinal.bic,\n",
    "            'Pseudo_R2': Modelo_Ordinal.prsquared,\n",
    "            'P_Valores': Modelo_Ordinal.pvalues.to_dict(),\n",
    "            'Coeficientes': Modelo_Ordinal.params.to_dict(),\n",
    "            'Variables_Significativas': Modelo_Ordinal.pvalues[Modelo_Ordinal.pvalues < 0.05].index.tolist(),\n",
    "            'Modelo_Objeto': Modelo_Ordinal\n",
    "        }\n",
    "        \n",
    "        print(f\"Pseudo R²: {Resultados['Pseudo_R2']:.4f}\")\n",
    "        print(f\"Log-Likelihood: {Resultados['Log_Likelihood']:.2f}\")\n",
    "        print(f\"AIC: {Resultados['AIC']:.2f}\")\n",
    "        print(f\"Variables significativas: {len(Resultados['Variables_Significativas'])}\")\n",
    "        \n",
    "        # Mostrar variables significativas.\n",
    "        if Resultados['Variables_Significativas']:\n",
    "            print(f\"\\nVariables significativas (p < 0.05):\")\n",
    "            for Variable in Resultados['Variables_Significativas'][:10]:\n",
    "                Coef = Resultados['Coeficientes'][Variable]\n",
    "                P_Val = Resultados['P_Valores'][Variable]\n",
    "                print(f\"  {Variable:<30} β = {Coef:8.4f}, p = {P_Val:.6f}\")\n",
    "        \n",
    "        return Resultados\n",
    "        \n",
    "    except Exception as Error:\n",
    "        print(f\"Error en modelo ordinal: {Error}\")\n",
    "        return None"
   ]
  }
 ],
 "metadata": {
  "language_info": {
   "name": "python"
  }
 },
 "nbformat": 4,
 "nbformat_minor": 5
}
