{
 "cells": [
  {
   "cell_type": "code",
   "execution_count": 2,
   "id": "87471fb7",
   "metadata": {},
   "outputs": [],
   "source": [
    "# Librerías.\n",
    "import pandas as pd\n",
    "import matplotlib.pyplot as plt\n",
    "import seaborn as sns\n",
    "import numpy as np\n",
    "from scipy import stats"
   ]
  },
  {
   "cell_type": "code",
   "execution_count": 3,
   "id": "b76b5943",
   "metadata": {},
   "outputs": [],
   "source": [
    "Carpeta_Exportar = 'J:/My Drive/Experimento/Bases definitivas/'"
   ]
  },
  {
   "cell_type": "code",
   "execution_count": 4,
   "id": "2ac0ade4",
   "metadata": {},
   "outputs": [],
   "source": [
    "# Cargar datos.\n",
    "df_Generales = pd.read_excel(Carpeta_Exportar + 'Generales.xlsx')\n",
    "df_Ballotage = pd.read_excel(Carpeta_Exportar + 'Ballotage.xlsx')"
   ]
  }
 ],
 "metadata": {
  "kernelspec": {
   "display_name": "Python 3",
   "language": "python",
   "name": "python3"
  },
  "language_info": {
   "codemirror_mode": {
    "name": "ipython",
    "version": 3
   },
   "file_extension": ".py",
   "mimetype": "text/x-python",
   "name": "python",
   "nbconvert_exporter": "python",
   "pygments_lexer": "ipython3",
   "version": "3.11.9"
  }
 },
 "nbformat": 4,
 "nbformat_minor": 5
}
